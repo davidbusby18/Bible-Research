{
 "cells": [
  {
   "cell_type": "markdown",
   "metadata": {},
   "source": [
    "## Using fastai To Improve Bible Research Predictions"
   ]
  },
  {
   "cell_type": "markdown",
   "metadata": {},
   "source": [
    "Recently, I created a program that pulled web addresses associated with the key words, \"Bible\", \"Archeology\" and one of several location names found in scriptures. This resulted in a list of over twenty-six hundred potential websites that discussed archeological finds that cooborate scriptures. I then spent the next few months reading each article and labeling it as either relevant or non-relevevant. After labeling the data, I read the labeled list of web addresses back into python and iteratively extracted the text data associated with each site. I then processed the data using NPL and kept the 100th to the 700th word from each site (maximum of 600 words). I made this choice because I felt there could be non-relevant language at the beginning of relevant article but that beyond the hundredth word a model should be able to pick up relevant language within 600 words. This is based on personal opinion, and it might be worth adjusting this parameter later, depending on performance. \n",
    "\n",
    "Note, after pulling and cleaning the data many of the text rows were blank. This is because many of the initial websites were from places like YouTube or had PDF data. Others had less than 100 words. I felt it was proper to remove all of these from the dataset, which resulted in only 1,365 observations. While this is just over half of the original sites, I still retained the majority of relevant websites. In the future, when I use this model to predict relevant websites, any with no text will be predicted as non-relevant, which is approriate. As such, I don't mind loose the observations that were removed due to blank text data. \n",
    "\n",
    "I'm following the information on this website: https://towardsdatascience.com/nlp-classification-with-universal-language-model-fine-tuning-ulmfit-4e1d5077372b\n"
   ]
  },
  {
   "cell_type": "code",
   "execution_count": 2,
   "metadata": {},
   "outputs": [],
   "source": [
    "import pandas as pd\n",
    "import numpy as np\n",
    "import seaborn as sns\n",
    "import matplotlib as plt\n",
    "import itertools\n",
    "import string\n",
    "import nltk\n",
    "from nltk.stem import SnowballStemmer\n",
    "from nltk.corpus import stopwords\n",
    "from nltk import word_tokenize \n",
    "from wordcloud import WordCloud,STOPWORDS\n",
    "from fastai.text import *"
   ]
  },
  {
   "cell_type": "markdown",
   "metadata": {},
   "source": [
    "I previously labeled all of the website text as relevant or not and pickled them for later use. This site explains how to pickle a dataframe:https://stackoverflow.com/questions/17098654/how-to-store-a-dataframe-using-pandas"
   ]
  },
  {
   "cell_type": "code",
   "execution_count": 3,
   "metadata": {},
   "outputs": [],
   "source": [
    "text_file = pd.read_pickle(\"C:/Bible Research/data/labeled with text.pkl\")"
   ]
  },
  {
   "cell_type": "code",
   "execution_count": 4,
   "metadata": {},
   "outputs": [
    {
     "data": {
      "text/html": [
       "<div>\n",
       "<style scoped>\n",
       "    .dataframe tbody tr th:only-of-type {\n",
       "        vertical-align: middle;\n",
       "    }\n",
       "\n",
       "    .dataframe tbody tr th {\n",
       "        vertical-align: top;\n",
       "    }\n",
       "\n",
       "    .dataframe thead th {\n",
       "        text-align: right;\n",
       "    }\n",
       "</style>\n",
       "<table border=\"1\" class=\"dataframe\">\n",
       "  <thead>\n",
       "    <tr style=\"text-align: right;\">\n",
       "      <th></th>\n",
       "      <th>website</th>\n",
       "      <th>relevant</th>\n",
       "      <th>text</th>\n",
       "    </tr>\n",
       "  </thead>\n",
       "  <tbody>\n",
       "    <tr>\n",
       "      <td>0</td>\n",
       "      <td>http://apologeticspress.org/apcontent.aspx?cat...</td>\n",
       "      <td>1.0</td>\n",
       "      <td>Almost fifty times in the Old Testament, we ca...</td>\n",
       "    </tr>\n",
       "    <tr>\n",
       "      <td>1</td>\n",
       "      <td>http://apologeticspress.org/article/1217</td>\n",
       "      <td>1.0</td>\n",
       "      <td>The biblical accounts of the travels of Paul o...</td>\n",
       "    </tr>\n",
       "    <tr>\n",
       "      <td>2</td>\n",
       "      <td>http://apologeticspress.org/article/1347</td>\n",
       "      <td>1.0</td>\n",
       "      <td>A man wearing a leather vest and a broad-rimme...</td>\n",
       "    </tr>\n",
       "    <tr>\n",
       "      <td>3</td>\n",
       "      <td>http://apologeticspress.org/article/852</td>\n",
       "      <td>1.0</td>\n",
       "      <td>A favorite argument against the Bible’s inspir...</td>\n",
       "    </tr>\n",
       "    <tr>\n",
       "      <td>4</td>\n",
       "      <td>http://bible7evidence.blogspot.com/2014/09/abr...</td>\n",
       "      <td>1.0</td>\n",
       "      <td>Hello friends! The following is evidence of Ab...</td>\n",
       "    </tr>\n",
       "  </tbody>\n",
       "</table>\n",
       "</div>"
      ],
      "text/plain": [
       "                                             website  relevant  \\\n",
       "0  http://apologeticspress.org/apcontent.aspx?cat...       1.0   \n",
       "1           http://apologeticspress.org/article/1217       1.0   \n",
       "2           http://apologeticspress.org/article/1347       1.0   \n",
       "3            http://apologeticspress.org/article/852       1.0   \n",
       "4  http://bible7evidence.blogspot.com/2014/09/abr...       1.0   \n",
       "\n",
       "                                                text  \n",
       "0  Almost fifty times in the Old Testament, we ca...  \n",
       "1  The biblical accounts of the travels of Paul o...  \n",
       "2  A man wearing a leather vest and a broad-rimme...  \n",
       "3  A favorite argument against the Bible’s inspir...  \n",
       "4  Hello friends! The following is evidence of Ab...  "
      ]
     },
     "execution_count": 4,
     "metadata": {},
     "output_type": "execute_result"
    }
   ],
   "source": [
    "text_file.head()"
   ]
  },
  {
   "cell_type": "markdown",
   "metadata": {},
   "source": [
    "Now, I want to tokanize and clean the data. I know that fastai will do this, but I want to explicitely clean the data for myself. One day, I may simply read the unaltered text into fastai."
   ]
  },
  {
   "cell_type": "code",
   "execution_count": 388,
   "metadata": {},
   "outputs": [],
   "source": [
    "#Tokenizing\n",
    "text_file2 = text_file['tokenized_sents'] = text_file.apply(lambda row: word_tokenize(row['text']), axis=1)\n",
    "\n",
    "#Removing items that contain numbers or unusual characters\n",
    "alpha = list(string.ascii_letters)\n",
    "text_file3 = text_file2.apply(lambda x: [item.lower() for item in x if all(char in alpha for char in item)])\n",
    "\n",
    "#Removing stop words\n",
    "stpwrds = stopwords.words('english') + list(string.punctuation)\n",
    "text_file4 = text_file3.apply(lambda x: [item.lower() for item in x if item.lower() not in stpwrds])\n",
    "\n",
    "#Stemming\n",
    "stemmer = SnowballStemmer(\"english\")\n",
    "text_file5 = text_file4.apply(lambda x: [stemmer.stem(y) for y in x])"
   ]
  },
  {
   "cell_type": "code",
   "execution_count": 389,
   "metadata": {},
   "outputs": [
    {
     "data": {
      "text/plain": [
       "0    [almost, fifti, time, old, testament, read, pe...\n",
       "1    [biblic, account, travel, paul, often, includ,...\n",
       "2    [man, wear, leather, vest, hat, wrap, rip, pie...\n",
       "3    [favorit, argument, bibl, inspir, come, silenc...\n",
       "4    [hello, friend, follow, evid, abraham, home, t...\n",
       "dtype: object"
      ]
     },
     "execution_count": 389,
     "metadata": {},
     "output_type": "execute_result"
    }
   ],
   "source": [
    "text_file5.head()"
   ]
  },
  {
   "cell_type": "markdown",
   "metadata": {},
   "source": [
    "Now I'm setting a hyper-peramiter of sorts. I started by removing the first 100 words of text and only keeping the next 600. This has not been optimized so I will change this to fewer and see if it makes a difference."
   ]
  },
  {
   "cell_type": "code",
   "execution_count": 390,
   "metadata": {},
   "outputs": [
    {
     "name": "stdout",
     "output_type": "stream",
     "text": [
      "   relevant                                               text\n",
      "0       1.0  excav portion citi found breathtak number huma...\n",
      "1       1.0  corinth greec divid mainland peloponnesian pen...\n",
      "2       1.0  complet view life past intrins valu archaeolog...\n",
      "3       1.0  brick also stumbl upon one magnific find archa...\n",
      "4       1.0  reflect superior size compar everyon els giant...\n"
     ]
    }
   ],
   "source": [
    "text_file6 = []\n",
    "for s in text_file5:\n",
    "    j = ' '.join([item.strip() for item in s[100:400]])\n",
    "    text_file6.append(j)\n",
    "\n",
    "#Combining with labeled column\n",
    "df = pd.DataFrame(zip(text_file.relevant,text_file6))\n",
    "df.columns = ['relevant', 'text']\n",
    "df = df[df.text != \"\"]\n",
    "print(df.head())"
   ]
  },
  {
   "cell_type": "markdown",
   "metadata": {},
   "source": [
    "I formally pickled the cleaned dataset with 600 words per observations but I wanted the flexibility to change this so I've commented out the code below."
   ]
  },
  {
   "cell_type": "code",
   "execution_count": 391,
   "metadata": {},
   "outputs": [],
   "source": [
    "#df = pd.read_pickle(\"C:/Bible Research/data/clean text.pkl\")"
   ]
  },
  {
   "cell_type": "markdown",
   "metadata": {},
   "source": [
    "Now, I want to split out a test set to check model performance with at the end."
   ]
  },
  {
   "cell_type": "code",
   "execution_count": 392,
   "metadata": {},
   "outputs": [
    {
     "name": "stdout",
     "output_type": "stream",
     "text": [
      "X:  1365\n",
      "y:  1365\n",
      "X_train:  955\n",
      "y_train:  955\n",
      "X_test:  410\n",
      "y_test:  410\n"
     ]
    }
   ],
   "source": [
    "X = df['text']\n",
    "y = df['relevant']\n",
    "X_train, X_test, y_train, y_test = train_test_split(X, y, test_size=0.30, random_state=123, stratify=y)\n",
    "\n",
    "print('X: ', len(X))\n",
    "print('y: ', len(y))\n",
    "print('X_train: ', len(X_train))\n",
    "print('y_train: ', len(y_train))\n",
    "print('X_test: ', len(X_test))\n",
    "print('y_test: ', len(y_test))"
   ]
  },
  {
   "cell_type": "markdown",
   "metadata": {},
   "source": [
    "I still need to learn so much more about fastai, but I beleave this sets up a location to save folders to."
   ]
  },
  {
   "cell_type": "code",
   "execution_count": 393,
   "metadata": {},
   "outputs": [],
   "source": [
    "path = \"C:/Bible Research/data/\""
   ]
  },
  {
   "cell_type": "markdown",
   "metadata": {},
   "source": [
    "This is the dataframe I'm going to read into fastai."
   ]
  },
  {
   "cell_type": "code",
   "execution_count": 394,
   "metadata": {},
   "outputs": [],
   "source": [
    "df_train = pd.concat([y_train, X_train], axis=1)"
   ]
  },
  {
   "cell_type": "code",
   "execution_count": 397,
   "metadata": {},
   "outputs": [
    {
     "data": {
      "text/html": [
       "<div>\n",
       "<style scoped>\n",
       "    .dataframe tbody tr th:only-of-type {\n",
       "        vertical-align: middle;\n",
       "    }\n",
       "\n",
       "    .dataframe tbody tr th {\n",
       "        vertical-align: top;\n",
       "    }\n",
       "\n",
       "    .dataframe thead th {\n",
       "        text-align: right;\n",
       "    }\n",
       "</style>\n",
       "<table border=\"1\" class=\"dataframe\">\n",
       "  <thead>\n",
       "    <tr style=\"text-align: right;\">\n",
       "      <th></th>\n",
       "      <th>relevant</th>\n",
       "      <th>text</th>\n",
       "    </tr>\n",
       "  </thead>\n",
       "  <tbody>\n",
       "    <tr>\n",
       "      <td>233</td>\n",
       "      <td>1.0</td>\n",
       "      <td>defeat judah maccabe jewish leader spoken hanu...</td>\n",
       "    </tr>\n",
       "    <tr>\n",
       "      <td>303</td>\n",
       "      <td>1.0</td>\n",
       "      <td>genesi say patriarch father terah took son cal...</td>\n",
       "    </tr>\n",
       "    <tr>\n",
       "      <td>1493</td>\n",
       "      <td>0.0</td>\n",
       "      <td>battl philistin samuel biblic refer suggest mo...</td>\n",
       "    </tr>\n",
       "    <tr>\n",
       "      <td>652</td>\n",
       "      <td>0.0</td>\n",
       "      <td>grunt time went make primit item stone tool wo...</td>\n",
       "    </tr>\n",
       "    <tr>\n",
       "      <td>436</td>\n",
       "      <td>0.0</td>\n",
       "      <td>detail data protect right garden eden also ref...</td>\n",
       "    </tr>\n",
       "  </tbody>\n",
       "</table>\n",
       "</div>"
      ],
      "text/plain": [
       "      relevant                                               text\n",
       "233        1.0  defeat judah maccabe jewish leader spoken hanu...\n",
       "303        1.0  genesi say patriarch father terah took son cal...\n",
       "1493       0.0  battl philistin samuel biblic refer suggest mo...\n",
       "652        0.0  grunt time went make primit item stone tool wo...\n",
       "436        0.0  detail data protect right garden eden also ref..."
      ]
     },
     "execution_count": 397,
     "metadata": {},
     "output_type": "execute_result"
    }
   ],
   "source": [
    "df_train.head()"
   ]
  },
  {
   "cell_type": "markdown",
   "metadata": {},
   "source": [
    "I believe this creates the pipeline that will later be used to model the data. I selected TextList because I think it's supposed to be better, though more complex than the other fastai options. This also splits out 20% for a validation set, which is why I did not explicitely create a validation set earlier. I think there is an option to explicity tell fastai to use one dataset for training and another for validation, but I wanted to keep thing simple for now. Perhaps later I'll research this option more. Batch size is 48, which seems fine to me. This could be optimized later as well."
   ]
  },
  {
   "cell_type": "code",
   "execution_count": 342,
   "metadata": {},
   "outputs": [
    {
     "data": {
      "text/html": [],
      "text/plain": [
       "<IPython.core.display.HTML object>"
      ]
     },
     "metadata": {},
     "output_type": "display_data"
    },
    {
     "data": {
      "text/html": [],
      "text/plain": [
       "<IPython.core.display.HTML object>"
      ]
     },
     "metadata": {},
     "output_type": "display_data"
    }
   ],
   "source": [
    "data_lm = (TextList\n",
    "           .from_df(df_train, path, cols='text')\n",
    "           #Where are the text? Column 'text' of tweets.csv\n",
    "           .split_by_rand_pct(0.2)\n",
    "           #How to split it? Randomly with the default 20% in valid\n",
    "           .label_for_lm()\n",
    "           #Label it for a language model\n",
    "           .databunch(bs=48))\n",
    "           #Finally we convert to a DataBunch\n"
   ]
  },
  {
   "cell_type": "markdown",
   "metadata": {},
   "source": [
    "This next part is what I couldn't see in Spyder."
   ]
  },
  {
   "cell_type": "code",
   "execution_count": 343,
   "metadata": {},
   "outputs": [
    {
     "data": {
      "text/html": [
       "<table border=\"1\" class=\"dataframe\">\n",
       "  <thead>\n",
       "    <tr style=\"text-align: right;\">\n",
       "      <th>idx</th>\n",
       "      <th>text</th>\n",
       "    </tr>\n",
       "  </thead>\n",
       "  <tbody>\n",
       "    <tr>\n",
       "      <td>0</td>\n",
       "      <td>luke town describ fortifi seven mile west jerusalem match locat abu ghosh jerusalem well distanc howev benjamin isaac emeritus professor ancient histori tel aviv univers warn least two site nearbi also strong claim emmaus said good case archaeolog geograph topograph hypothesi remain hypothesi relat articl previous next mysteri knight templar carv cover hole oldest christian letter outsid bibl also describ bibl one place ark coven stood king david took jerusalem</td>\n",
       "    </tr>\n",
       "    <tr>\n",
       "      <td>1</td>\n",
       "      <td>page world sunday decemb coronavirus archaeolog discoveri biblic citi corinth visit apostl paul found underwat archaeolog discoveri biblic citi corinth visit apostl paul found underwat xxunk xxunk christian post contributor follow sunday decemb facebook twitter email print img menu whatsapp googl reddit digg stumbleupon linkedin comment new archaeolog excav ancient port earthquak struck biblic citi corinth underwat uncov roman architectur jesus discipl paul visit ancient citi roman rule accord bibl</td>\n",
       "    </tr>\n",
       "    <tr>\n",
       "      <td>2</td>\n",
       "      <td>agre link archaeolog find bibl need made xxunk acknowledg bibl entir histor accur major archaeolog site find mani import biblic archaeolog site artifact other dead sea scroll consist fragment manuscript found cave near site qumran west bank contain earliest known copi hebrew bibl includ calendar hymn communiti rule xxunk text one scroll inscrib copper list hidden treasur anoth import biblic find merneptah stele inscrib stone slab also call israel stele</td>\n",
       "    </tr>\n",
       "    <tr>\n",
       "      <td>3</td>\n",
       "      <td>break news media bibl spade abr newslett dig truth dig truth introduct dig truth episod promis land diari bookstor volunt event upcom event confer speak engag shiloh dig contact abr dig truth tv abr staff abr associ abr dig staff abr research project daniel project genesi project shiloh dig chicago statement ancient near eastern biblic chronolog founder corner faq support support abr support shiloh dig becom member ministri updat christian</td>\n",
       "    </tr>\n",
       "    <tr>\n",
       "      <td>4</td>\n",
       "      <td>gate destruct islam state xxunk visibl distanc xxunk report destruct nineveh icon gate began emerg late last week subsequ confirm michael danti professor archaeolog boston univers cultur heritag initi xxunk american school orient research initi work depart state document destruct cultur religi site iraq syria destruct gate larg portion fortif wall base imag obtain xxunk corrobor trust sourc mosul citi surround nineveh well recent satellit imageri learn mosul dam may</td>\n",
       "    </tr>\n",
       "  </tbody>\n",
       "</table>"
      ],
      "text/plain": [
       "<IPython.core.display.HTML object>"
      ]
     },
     "metadata": {},
     "output_type": "display_data"
    }
   ],
   "source": [
    "data_lm.show_batch()"
   ]
  },
  {
   "cell_type": "markdown",
   "metadata": {},
   "source": [
    "Now, I'm going to train this model"
   ]
  },
  {
   "cell_type": "code",
   "execution_count": 344,
   "metadata": {},
   "outputs": [],
   "source": [
    "learn = language_model_learner(data_lm, AWD_LSTM, drop_mult=0.3)"
   ]
  },
  {
   "cell_type": "markdown",
   "metadata": {},
   "source": [
    "Finding the optimal learning rate."
   ]
  },
  {
   "cell_type": "code",
   "execution_count": 345,
   "metadata": {},
   "outputs": [
    {
     "data": {
      "text/html": [
       "\n",
       "    <div>\n",
       "        <style>\n",
       "            /* Turns off some styling */\n",
       "            progress {\n",
       "                /* gets rid of default border in Firefox and Opera. */\n",
       "                border: none;\n",
       "                /* Needs to be in here for Safari polyfill so background images work as expected. */\n",
       "                background-size: auto;\n",
       "            }\n",
       "            .progress-bar-interrupted, .progress-bar-interrupted::-webkit-progress-bar {\n",
       "                background: #F44336;\n",
       "            }\n",
       "        </style>\n",
       "      <progress value='1' class='' max='2' style='width:300px; height:20px; vertical-align: middle;'></progress>\n",
       "      50.00% [1/2 03:37<03:37]\n",
       "    </div>\n",
       "    \n",
       "<table border=\"1\" class=\"dataframe\">\n",
       "  <thead>\n",
       "    <tr style=\"text-align: left;\">\n",
       "      <th>epoch</th>\n",
       "      <th>train_loss</th>\n",
       "      <th>valid_loss</th>\n",
       "      <th>accuracy</th>\n",
       "      <th>time</th>\n",
       "    </tr>\n",
       "  </thead>\n",
       "  <tbody>\n",
       "    <tr>\n",
       "      <td>0</td>\n",
       "      <td>9.115094</td>\n",
       "      <td>#na#</td>\n",
       "      <td>03:37</td>\n",
       "    </tr>\n",
       "  </tbody>\n",
       "</table><p>\n",
       "\n",
       "    <div>\n",
       "        <style>\n",
       "            /* Turns off some styling */\n",
       "            progress {\n",
       "                /* gets rid of default border in Firefox and Opera. */\n",
       "                border: none;\n",
       "                /* Needs to be in here for Safari polyfill so background images work as expected. */\n",
       "                background-size: auto;\n",
       "            }\n",
       "            .progress-bar-interrupted, .progress-bar-interrupted::-webkit-progress-bar {\n",
       "                background: #F44336;\n",
       "            }\n",
       "        </style>\n",
       "      <progress value='47' class='' max='52' style='width:300px; height:20px; vertical-align: middle;'></progress>\n",
       "      90.38% [47/52 03:40<00:23 13.7277]\n",
       "    </div>\n",
       "    "
      ],
      "text/plain": [
       "<IPython.core.display.HTML object>"
      ]
     },
     "metadata": {},
     "output_type": "display_data"
    },
    {
     "name": "stdout",
     "output_type": "stream",
     "text": [
      "LR Finder is complete, type {learner_name}.recorder.plot() to see the graph.\n"
     ]
    }
   ],
   "source": [
    "learn.lr_find();"
   ]
  },
  {
   "cell_type": "code",
   "execution_count": 346,
   "metadata": {},
   "outputs": [
    {
     "data": {
      "image/png": "[encoded data removed]",
      "text/plain": [
       "<Figure size 432x288 with 1 Axes>"
      ]
     },
     "metadata": {
      "needs_background": "light"
     },
     "output_type": "display_data"
    }
   ],
   "source": [
    "learn.recorder.plot()"
   ]
  },
  {
   "cell_type": "markdown",
   "metadata": {},
   "source": [
    "Okay, honestly I'm not sure how to use the graph above. It seems you would want to reduce loss, so you should choose a learning rate at the lowest point. Here that would be around 5e-1. The problem is that I read that one sign the learning rate is too low is that the second and third cycles are both lower than the first. That's what happened when I chose 5e-1. "
   ]
  },
  {
   "cell_type": "code",
   "execution_count": 347,
   "metadata": {},
   "outputs": [
    {
     "data": {
      "text/html": [
       "<table border=\"1\" class=\"dataframe\">\n",
       "  <thead>\n",
       "    <tr style=\"text-align: left;\">\n",
       "      <th>epoch</th>\n",
       "      <th>train_loss</th>\n",
       "      <th>valid_loss</th>\n",
       "      <th>accuracy</th>\n",
       "      <th>time</th>\n",
       "    </tr>\n",
       "  </thead>\n",
       "  <tbody>\n",
       "    <tr>\n",
       "      <td>0</td>\n",
       "      <td>7.222859</td>\n",
       "      <td>6.513454</td>\n",
       "      <td>0.121703</td>\n",
       "      <td>03:39</td>\n",
       "    </tr>\n",
       "    <tr>\n",
       "      <td>1</td>\n",
       "      <td>6.748022</td>\n",
       "      <td>6.669504</td>\n",
       "      <td>0.133082</td>\n",
       "      <td>03:34</td>\n",
       "    </tr>\n",
       "    <tr>\n",
       "      <td>2</td>\n",
       "      <td>6.306860</td>\n",
       "      <td>6.515033</td>\n",
       "      <td>0.144803</td>\n",
       "      <td>02:25</td>\n",
       "    </tr>\n",
       "    <tr>\n",
       "      <td>3</td>\n",
       "      <td>5.675604</td>\n",
       "      <td>6.350206</td>\n",
       "      <td>0.162363</td>\n",
       "      <td>02:28</td>\n",
       "    </tr>\n",
       "    <tr>\n",
       "      <td>4</td>\n",
       "      <td>4.961174</td>\n",
       "      <td>6.273838</td>\n",
       "      <td>0.172825</td>\n",
       "      <td>02:30</td>\n",
       "    </tr>\n",
       "    <tr>\n",
       "      <td>5</td>\n",
       "      <td>4.350647</td>\n",
       "      <td>6.279229</td>\n",
       "      <td>0.178159</td>\n",
       "      <td>02:28</td>\n",
       "    </tr>\n",
       "  </tbody>\n",
       "</table>"
      ],
      "text/plain": [
       "<IPython.core.display.HTML object>"
      ]
     },
     "metadata": {},
     "output_type": "display_data"
    }
   ],
   "source": [
    "learn.fit_one_cycle(6,1e-1, moms=(0.85,0.75))"
   ]
  },
  {
   "cell_type": "markdown",
   "metadata": {},
   "source": [
    "Unfreezing the model."
   ]
  },
  {
   "cell_type": "code",
   "execution_count": 348,
   "metadata": {},
   "outputs": [],
   "source": [
    "learn.unfreeze()"
   ]
  },
  {
   "cell_type": "code",
   "execution_count": 349,
   "metadata": {},
   "outputs": [
    {
     "data": {
      "text/html": [
       "<table border=\"1\" class=\"dataframe\">\n",
       "  <thead>\n",
       "    <tr style=\"text-align: left;\">\n",
       "      <th>epoch</th>\n",
       "      <th>train_loss</th>\n",
       "      <th>valid_loss</th>\n",
       "      <th>accuracy</th>\n",
       "      <th>time</th>\n",
       "    </tr>\n",
       "  </thead>\n",
       "  <tbody>\n",
       "    <tr>\n",
       "      <td>0</td>\n",
       "      <td>3.893704</td>\n",
       "      <td>6.388264</td>\n",
       "      <td>0.179441</td>\n",
       "      <td>06:39</td>\n",
       "    </tr>\n",
       "    <tr>\n",
       "      <td>1</td>\n",
       "      <td>3.837718</td>\n",
       "      <td>6.395388</td>\n",
       "      <td>0.182967</td>\n",
       "      <td>05:17</td>\n",
       "    </tr>\n",
       "    <tr>\n",
       "      <td>2</td>\n",
       "      <td>3.653976</td>\n",
       "      <td>6.634322</td>\n",
       "      <td>0.185646</td>\n",
       "      <td>05:17</td>\n",
       "    </tr>\n",
       "    <tr>\n",
       "      <td>3</td>\n",
       "      <td>3.222498</td>\n",
       "      <td>6.900157</td>\n",
       "      <td>0.189057</td>\n",
       "      <td>05:15</td>\n",
       "    </tr>\n",
       "    <tr>\n",
       "      <td>4</td>\n",
       "      <td>2.584136</td>\n",
       "      <td>7.164619</td>\n",
       "      <td>0.201534</td>\n",
       "      <td>05:17</td>\n",
       "    </tr>\n",
       "    <tr>\n",
       "      <td>5</td>\n",
       "      <td>1.861832</td>\n",
       "      <td>7.578903</td>\n",
       "      <td>0.203136</td>\n",
       "      <td>05:14</td>\n",
       "    </tr>\n",
       "    <tr>\n",
       "      <td>6</td>\n",
       "      <td>1.210422</td>\n",
       "      <td>8.017657</td>\n",
       "      <td>0.206273</td>\n",
       "      <td>05:15</td>\n",
       "    </tr>\n",
       "    <tr>\n",
       "      <td>7</td>\n",
       "      <td>0.730611</td>\n",
       "      <td>8.234865</td>\n",
       "      <td>0.205243</td>\n",
       "      <td>05:12</td>\n",
       "    </tr>\n",
       "    <tr>\n",
       "      <td>8</td>\n",
       "      <td>0.465905</td>\n",
       "      <td>8.211248</td>\n",
       "      <td>0.207257</td>\n",
       "      <td>05:14</td>\n",
       "    </tr>\n",
       "    <tr>\n",
       "      <td>9</td>\n",
       "      <td>0.333757</td>\n",
       "      <td>8.216276</td>\n",
       "      <td>0.207395</td>\n",
       "      <td>05:15</td>\n",
       "    </tr>\n",
       "  </tbody>\n",
       "</table>"
      ],
      "text/plain": [
       "<IPython.core.display.HTML object>"
      ]
     },
     "metadata": {},
     "output_type": "display_data"
    }
   ],
   "source": [
    "learn.fit_one_cycle(10,5e-3, moms=(0.8,0.7))"
   ]
  },
  {
   "cell_type": "markdown",
   "metadata": {},
   "source": [
    "The accuracy of the model is low but this isn't suprising considering the fact that I haven't given the model the labels. It should be noted that ~25% of the websites are relevant, but the algorithm has no idea which sites are relevant. I need to read up on this algorithm in order to understand what \"accuracy\" means when there are no labels."
   ]
  },
  {
   "cell_type": "code",
   "execution_count": 350,
   "metadata": {},
   "outputs": [
    {
     "name": "stdout",
     "output_type": "stream",
     "text": [
      "moses lead the israelites men women kill raze ground king captur hang tree even bodi place citi gate stone place top bodi israelit burn ai complet made perman heap ruin god told could take livestock plunder edward robinson identifi mani biblic site levant basi\n",
      "moses lead the israelites last went wilder reput strength lauren kim say last ancient rabbin travel presenc god assist colleg back son acr ware expansionist studi reprint week learn hebrew bibl studi tool head archaeolog discoveri shed new light ancient life region would hard\n"
     ]
    }
   ],
   "source": [
    "TEXT = \"moses lead the israelites\"\n",
    "N_WORDS = 40\n",
    "N_SENTENCES = 2\n",
    "print(\"\\n\".join(learn.predict(TEXT, N_WORDS, temperature=0.75) for _ in range(N_SENTENCES)))"
   ]
  },
  {
   "cell_type": "code",
   "execution_count": 352,
   "metadata": {},
   "outputs": [],
   "source": [
    "learn.save_encoder('fine_tuned_enc')"
   ]
  },
  {
   "cell_type": "code",
   "execution_count": 353,
   "metadata": {},
   "outputs": [
    {
     "data": {
      "text/html": [],
      "text/plain": [
       "<IPython.core.display.HTML object>"
      ]
     },
     "metadata": {},
     "output_type": "display_data"
    },
    {
     "data": {
      "text/html": [],
      "text/plain": [
       "<IPython.core.display.HTML object>"
      ]
     },
     "metadata": {},
     "output_type": "display_data"
    }
   ],
   "source": [
    "data_clas = (TextList.from_df(df_train, path, cols='text',vocab=data_lm.vocab)\n",
    "             #Where are the text? Column 'text' of tweets.csv\n",
    "             .split_by_rand_pct(0.2)\n",
    "             #How to split it? Randomly with the default 20% in valid\n",
    "             .label_from_df(cols='relevant')\n",
    "             #specify the label column\n",
    "             .databunch(bs=48))\n",
    "             #Create databunch"
   ]
  },
  {
   "cell_type": "code",
   "execution_count": 354,
   "metadata": {},
   "outputs": [
    {
     "data": {
      "text/html": [
       "<table border=\"1\" class=\"dataframe\">\n",
       "  <thead>\n",
       "    <tr style=\"text-align: right;\">\n",
       "      <th>text</th>\n",
       "      <th>target</th>\n",
       "    </tr>\n",
       "  </thead>\n",
       "  <tbody>\n",
       "    <tr>\n",
       "      <td>xxbos societi histori men wrote bibl bibl buri secret religion min landmark special nova take xxunk lamp dark untold histori religion min excit documentari unfold fascin untold iran seven face civil histori min draw histor archaeolog evid riddl bibl religion find whether stori bibl base know realli point argu everyon bias process stuff bias fact go believ xxunk fact go toward believ accept true human subject exodus way back start</td>\n",
       "      <td>0.0</td>\n",
       "    </tr>\n",
       "    <tr>\n",
       "      <td>xxbos kid men find ident christ ruth institut sexual revolut panel we d offici sue ohio countri law forc minist offici we d saul alinski blm movement bibl say cancel cultur war western civil cp current page world wednesday august coronavirus archaeolog discoveri research find evid babylonian conquest archaeolog discoveri research find evid babylonian conquest xxunk xxunk christian post report follow wednesday august facebook twitter email print img menu whatsapp</td>\n",
       "      <td>1.0</td>\n",
       "    </tr>\n",
       "    <tr>\n",
       "      <td>xxbos open mom kid men find ident christ ruth institut sexual revolut panel we d offici sue ohio countri law forc minist offici we d saul alinski blm movement bibl say cancel cultur war western civil cp current page world friday septemb coronavirus archaeologist may found biblic town emmaus christ appear resurrect archaeologist may found biblic town emmaus christ appear resurrect samuel smith cp report follow friday septemb facebook twitter</td>\n",
       "      <td>1.0</td>\n",
       "    </tr>\n",
       "    <tr>\n",
       "      <td>xxbos find ident christ ruth institut sexual revolut panel we d offici sue ohio countri law forc minist offici we d saul alinski blm movement bibl say cancel cultur war western civil cp current page world tuesday may coronavirus evid bibl tower babel discov evid bibl tower babel discov xxunk xxunk christian post contributor follow tuesday may facebook twitter email print img menu whatsapp googl reddit digg stumbleupon linkedin comment</td>\n",
       "      <td>0.0</td>\n",
       "    </tr>\n",
       "    <tr>\n",
       "      <td>xxbos mainstream christian tradit hold first public miracl jesus biblic refer cana also john john mention jesus visit cana ask heal son royal offici capernaum john mention xxunk sometim identifi xxunk includ synopt gospel list apostl come cana book joshua mention one citi one brook name xxunk cana neither like cana galile secular histori annal assyrian king iii conquer galile bc campaign contain bad preserv list citi thought mention certain</td>\n",
       "      <td>0.0</td>\n",
       "    </tr>\n",
       "  </tbody>\n",
       "</table>"
      ],
      "text/plain": [
       "<IPython.core.display.HTML object>"
      ]
     },
     "metadata": {},
     "output_type": "display_data"
    }
   ],
   "source": [
    "data_clas.show_batch()"
   ]
  },
  {
   "cell_type": "code",
   "execution_count": 355,
   "metadata": {},
   "outputs": [],
   "source": [
    "learn = text_classifier_learner(data_clas, AWD_LSTM, drop_mult=0.5)"
   ]
  },
  {
   "cell_type": "code",
   "execution_count": 356,
   "metadata": {},
   "outputs": [
    {
     "data": {
      "text/plain": [
       "RNNLearner(data=TextClasDataBunch;\n",
       "\n",
       "Train: LabelList (764 items)\n",
       "x: TextList\n",
       "xxbos defeat judah maccabe jewish leader spoken hanukkah stori tel aviv univers professor israel finkelstein lead archaeologist project thoma xxunk christoph xxunk colleg de franc claim hill villag identifi emmaus archaeologist believ remain fortif pictur hill outskirt abu ghosh villag near jerusalem prove hill villag biblic town emmaus emmaus signific christian jesus appear two apostl road town crucifixion resurrect christian emmaus signific jesus appear two apostl road town crucifixion resurrect luke town describ fortifi seven mile west jerusalem match locat abu ghosh jerusalem well distanc howev benjamin isaac emeritus professor ancient histori tel aviv univers warn least two site nearbi also strong claim emmaus said good case archaeolog geograph topograph hypothesi remain hypothesi relat articl previous next mysteri knight templar carv cover hole oldest christian letter outsid bibl also describ bibl one place ark coven stood king david took jerusalem accord bibl mose ark coven built hold ten command judah maccabe priest led jewish revolt seleucid empir defeat kill bc seleucid armi led general bacchid project pictur run tel aviv univers colleg de franc support shmuni famili san francisco tel aviv univers professor israel finkelstein claim hill villag project work identifi emmaus bacchid fortifi town surround jerusalem larg wall includ biblic town emmaus archaeologist believ found wall built fortifi emmaus describ site finkelstein told haaretz import site domin posit jerusalem felt time eighth centuri hellenist period first jewish revolt sack jerusalem latest research includ claim xxunk emmaus detail forthcom paper publish journal studi archaeolog jerusalem region luke town describ fortifi seven,xxbos battl philistin samuel biblic refer suggest mound site king ahab queen jezebel palac king capit northern kingdom israel hosea tel featur site jehu revolt king bibl tell northern israelit capit locat tel assyrian destroy citi king hellenist roman byzantin period citi continu import gateway along main road north south fact like jesus pass citi tel jezreel journey galile jerusalem crusad follow also left structur remain mediev church uncov excav ottoman inhabit tel centuri recent histori tel site major battl state israel establish tel see memori xxunk fighter die battl tourist visit tel arriv park lot southern side south xxunk side hike trail start jezreel spring end one trail foothil xxunk side tel foot western side tel kibbutz yizreel mound see remain sever structur includ biblic wall mention sever time bibl wall enclos ancient fortress complex one famous biblic scene queen jezebel thrown wall dog shall eat jezebel wall jezreel remain centuri xxunk arab villag well preserv roman wine press cistern mosaic floor visitor tel jezreel explor well mark hike trail xxunk jezreel spring winter spring lead small xxunk surround tall xxunk tree wonder strang abandon build middl xxunk left british mandat era water xxunk hous attract around tel includ gilboa ski resort artifici cours real snow xxunk mani thing jezreel valley tel jezreel explor independ follow hike trail enjoy natur surround explor archaeolog remain ancient citi altern guid tour northern israel make stop along rout tour israel includ day tour tour packag privat tour includ tour jerusalem masada dead sea,xxbos xxunk time went make primit item stone tool work bronz iron howev evid confirm human high intellig begin could quick gain knowledg creat sophist technolog bibl histori give far fewer year abraham ancient histori cultur king list sumerian egyptian howev seem priest writer histori purpos stretch date histori perhap show cultur superior other peopl often appeal egyptian chronolog proof man predat biblic year egyptolog proper understood confirm bibl ancient man far common perceiv xxunk xxunk genius ancient technolog still confound historian today ken ham blog recent find two archaeolog site xxunk across xxunk sea itali discov dairi xxunk sever fragment jar potteri answer magazin familiar mani debat regard israel neighbor ancient jordan april evid quit use confirm biblic event never given weight eyewit testimoni scriptur answer depth thought singl cultur bell xxunk cultur shown two distinct cultur potteri style domin europ march recent articl iraq magazin author look number inscript artifact dig conduct nineveh yet publish archaeologist anthropologist find mysteri object burial chamber remain ancient villag know object use answer magazin archaeologist claim evid support bibl claim mani old testament event problem evid assert may appeal skeptic fail deal truth biblic record may also place much weight genet evid answer magazin nazareth inscript power piec extrabibl evid christ resurrect alreadi proclaim short rais may archaeolog studi demonstr israel liter mani scholar believ mean prophet could abl pen write answer magazin could go back time visit one first settlement babel answer depth xxunk artifact found africa elsewher prove creation view ridicul,xxbos detail data protect right garden eden also refer paradis biblic garden god describ book genesi creation man narrat surround appar first man woman adam eve place garden guard tree life tempt serpent eat forbidden tree move saw expel mani long search locat base clue given biblic text question may final uncov relat articl bibl proof scientist claim genet breakthrough book bibl shock eve altern garden eden stori reveal archaeologist jodi mag reveal morgan xxunk documentari stori god discoveri church jerusalem led believ answer church holi sepulchr locat old citi believ site jesus nazareth crucifi later resurrect place known calvari golgotha dr mag reveal also appar burial place adam said clue come underneath rock golgotha rocki xxunk christian believ jesus crucifi dr mag identifi crack imag find made church holi sepulchr imag xxunk garden eden paradis becom xxunk spot presenc god dwell jodi mag chapel adam tradit goe way back christian connect spot adam first man jesus crucifi top rock us blood flow crack rock adam first man lay buri underneath jesus blood flow onto idea contradict descript given bibl book genesi clear list four river associ garden pishon gihon xxunk xxunk suggest locat southern mesopotamia known iraq morgan xxunk jodi mag visit church holi sepulchr imag xxunk dr mag point crack wall imag xxunk howev dr mag detail may actual support theori ad well version stori end book genesi seem place garden eden somewher mesopotamia think adam special connect jerusalem garden eden paradis becom xxunk spot presenc god dwell earli,xxbos xxunk hope xxunk treasur thought would find insid visit henri rawlinson austen henri layard major rawlinson visit site briefli discov fragment column well inscript king layard stay xxunk interest famous black stone tomb daniel alreadi disappear rawlinson visit within precinct tomb daniel notic small capit achaemenid type near monument bank river sever larg step stone staircas remnant resembl six step anoth staircas discov inhabit modern citi see xxunk xxunk north discov layard among debri bank xxunk slab layard perhap base statu illustr loftus cf british museum copi origin draw henri xxunk curti pp fig acropoli layard great mound layard rapid copi cuneiform inscript engrav marbl slab guid urg leav place alleg fear xxunk attack xxunk work colonel xxunk william william xxunk loftus though spars mention archeolog literatur loftus work mark begin modern explor ruin susa occas mission xxunk frontier persia ottoman provinc persian gulf south ararat mountain north see boundari colonel xxunk william head british deleg project ask geologist william xxunk loftus achiev result xxunk ancient uruk site southern iraq go xxunk begin excav susa despit intrigu hostil popul henri xxunk surveyor interpret british deleg provid first map site loftus opposit excav start first campaign direct william second loftus supervis colonel henri rawlinson four princip hill susa xxunk distinguish follow palac later becam citadel acropoli great platform royal citi ruin citi artisan citi trench dug cours two campaign ancient find publish date millennium bce curti xxunk period xxunk consider ancient fragment terracotta xxunk ca bce see elam pl may origin\n",
       "y: FloatList\n",
       "1.0,0.0,0.0,0.0,0.0\n",
       "Path: C:\\Bible Research\\data;\n",
       "\n",
       "Valid: LabelList (191 items)\n",
       "x: TextList\n",
       "xxbos becam fals church wilder penalti year liter mean month men see glori miracl done egypt wilder tri men see honour sign done egypt wilder tri sentenc count vers month year first letter letter adam red xxunk letter wilder egypt year watchtow wilder penalti start end year spi instal laodicea feed lost water baptism israelit wilder year day walk cross xxunk valley xxunk pleas see http xxunk men seen glori miracl egypt wilder tempt ten time xxunk voic sure shall see land xxunk unto father neither shall provok see exodus red sea blame mose take egypt said would rather serv egypt die wilder xxunk promis exodus xxunk without water day found water xxunk xxunk xxunk learn xxunk came sweet suffer glori exodus wilder sin xxunk rememb good thing eat egypt xxunk xxunk work alway easi find someth xxunk first vers chapter word xxunk occur time exodus xxunk xxunk tri keep till next day xxunk xxunk xxunk kept sabbath good exodus xxunk went gather seventh day none xxunk law sabbath exodus rephidim water demand mose give water xxunk readi stone tempt lord say lord among us rock xxunk water come forth exodus golden calf horeb admit god brought egypt must like god someth see worship xxunk bad today worship,xxbos ever quot ramsay footnot provid alway sourc third one ever provid translat inscript made think urban dig discov claim mix back truth error convinc ramsay iconium phrygia discoveri archaeolog artifact ancient literari text cite sever sourc bear recent discoveri trustworthi new testament ad sever christian includ xxunk xxunk put trial rome christian faith one man slave name ask parent hierax repli earth parent dead brought slave torn away iconium report nativ iconium xxunk bishop caesarea said attend council ad iconium phrygia appar ad xxunk institut new provinc xxunk iconium includ region iconium citi phrygia decad hundr year christian apologist get ad date appear ramsay comment paul travel roman citizen ramsay speak polit boundari uniqu year ad ad speak region lycaonia citi iconium context remark act ramsay wrote region compris part lycaonia distinguish rest consist two citi stretch xxunk territori territori organis nativ villag system descript accur accur period histori accur particular period question must answer accur period paul visit lycaonia accur time except mean distinguish roman part lycaonia part rule antiochus territori subject design provinc attach district xxunk lycaonia provinc galatia distinguish lycaonia xxunk rule king antiochus appar someon xxunk ramsay speak iconium xxunk date ramsay comment bear regard iconium inscript ramsay said discov ramsay find inscript archaeolog import relat issu found identifi iconium citi phrygia provid date ramsay write discoveri chapter four bear recent discoveri trustworthi new testament final proof discov inhabit iconium spoke phrygian languag one kind evid regard question languag perfect xxunk epigraph proof use wall uncov,xxbos dig break news media bibl spade abr newslett dig truth dig truth introduct dig truth episod promis land diari bookstor volunt event upcom event confer speak engag shiloh dig contact abr dig truth tv abr staff abr associ abr dig staff abr research project daniel project genesi project shiloh dig chicago statement ancient near eastern biblic chronolog founder corner faq support support abr support shiloh dig becom member ministri updat christian apologet ministri dedic demonstr histor reliabl bibl archaeolog biblic research home research latest research articl categori daniel project understand even morn daniel excerpt previous issu bibl spade discuss five assyrian king name bibl wish examin side coin ahab one best known ruler northern kingdom israel seven chapter old testament devot activ kgs xxunk ahab son omri seventh king israel monarchi split rule year ca bc marri infam phoenician xxunk jezebel introduc worship heathen god xxunk baal xxunk israelit religi life ahab tri stop alien cult fact seem xxunk erect altar baal hous baal built samaria ahab made asherah kgs rsv associ pagan deiti ahab xxunk biblic record one done provok lord god israel anger king israel kgs elijah condemn ahab one troubl israel forsaken command lord follow baal kgs ahab reign famous confront elijah prophet baal took place mount carmel kgs ahab evid great builder alreadi seen built templ baal capit samaria kgs conclud statement ahab king read rest act ahab ivori hous made citi built written book chronicl king israel vers mention hous ivori interest view archaeolog discoveri,xxbos bibl xxunk ruin xxunk bishop castl area philippi archaeolog site philippi visit paul xxunk act missionari journey ruin wall philippi archaeolog site philippi visit apostl paul companion missionari journey record bibl book act portion road ancient philippi ruin wall philippi archaeolog site philippi visit apostl paul companion missionari journey record bibl book act portion road ancient philippi ruin wall philippi archaeolog site philippi visit apostl paul companion missionari journey record bibl book act portion road ancient philippi price help choos file size xxunk inch cm xxunk small jpeg px dpi x dpi x cm dpi medium jpeg px dpi x dpi x cm dpi larg jpeg px dpi x dpi x cm dpi xxunk px dpi x dpi x cm dpi licens print option learn standard licens term includ unlimit user reproduct unlimit print run physic electron item xxunk get imag print poster option accept licens term download xxunk need photo inform member sinc imag upload centuri bc second centuri bc northern greec greec ancient road apostl paul paul bibl book act act missionari journey paul missionari journey philippi xxunk stone road ancient antiqu antiqu archaeolog archeolog greek histori landmark mediterranean monument paul roman rome ruin site civil philippian wall xxunk lydia purpl cloth lydia baptism slave girl agora market ancient rome roman coloni archaeolog site old architectur column cultur civil past archaeolog travel town coloni tourism build shop stock imag imag royalti free photo stock photo stock photograph stock photograph pictur pictur graphic graphic popular download view inform licens,xxbos detail data protect right gospel luke new testament jesus appear two follow road town though exact locat remain mysteri report daili beast theologian eusebius caesarea suggest nicopoli destin luke say emmaus stadia jerusalem nicopoli twice distanc relat articl life death intrigu new evid afterlif reveal life death scientist shock theori heaven reveal joint team french isra archaeologist began excav work believ ancient hebrew site hill sever kilometr west jerusalem elev posit made strateg import bibl suppos ark coven held king david move jerusalem ark coven wooden chest contain stone tablet ten command xxunk xxunk xxunk xxunk supper emmaus imag getti christian largest religion world imag getti hebrew say ark coven cover side gold golden jar hold xxunk aaron rod xxunk tablet coven archaeologist thus believ site emmaus forthcom articl new studi archaeolog jerusalem region tel aviv univers israel finkelstein colleg de franc thoma xxunk argu wall found site date maccabe seleucid conflict conflict seleucid leader bacchid order construct ring guard jerusalem read bibl shock richard xxunk spark outrag jesus met two men emmaus imag getti relat articl bibl propheci fulfil sea galile earthquak jesus bibl shock apostl thoma actual jesus christ xxunk xxunk xxunk say known fortif work undertaken period maccabe first centuri historian josephus gave list town fortifi bacchid site identifi excav neither list refer mention emmaus suggest locat emmaus propos histori includ record found refer town emmaus found miss jesus christ xxunk record claim historian reaction bibl shock oldest known christian letter date back found discoveri jesus christ\n",
       "y: FloatList\n",
       "0.0,0.0,1.0,0.0,0.0\n",
       "Path: C:\\Bible Research\\data;\n",
       "\n",
       "Test: None, model=SequentialRNN(\n",
       "  (0): MultiBatchEncoder(\n",
       "    (module): AWD_LSTM(\n",
       "      (encoder): Embedding(6048, 400, padding_idx=1)\n",
       "      (encoder_dp): EmbeddingDropout(\n",
       "        (emb): Embedding(6048, 400, padding_idx=1)\n",
       "      )\n",
       "      (rnns): ModuleList(\n",
       "        (0): WeightDropout(\n",
       "          (module): LSTM(400, 1152, batch_first=True)\n",
       "        )\n",
       "        (1): WeightDropout(\n",
       "          (module): LSTM(1152, 1152, batch_first=True)\n",
       "        )\n",
       "        (2): WeightDropout(\n",
       "          (module): LSTM(1152, 400, batch_first=True)\n",
       "        )\n",
       "      )\n",
       "      (input_dp): RNNDropout()\n",
       "      (hidden_dps): ModuleList(\n",
       "        (0): RNNDropout()\n",
       "        (1): RNNDropout()\n",
       "        (2): RNNDropout()\n",
       "      )\n",
       "    )\n",
       "  )\n",
       "  (1): PoolingLinearClassifier(\n",
       "    (layers): Sequential(\n",
       "      (0): BatchNorm1d(1200, eps=1e-05, momentum=0.1, affine=True, track_running_stats=True)\n",
       "      (1): Dropout(p=0.2, inplace=False)\n",
       "      (2): Linear(in_features=1200, out_features=50, bias=True)\n",
       "      (3): ReLU(inplace=True)\n",
       "      (4): BatchNorm1d(50, eps=1e-05, momentum=0.1, affine=True, track_running_stats=True)\n",
       "      (5): Dropout(p=0.1, inplace=False)\n",
       "      (6): Linear(in_features=50, out_features=1, bias=True)\n",
       "    )\n",
       "  )\n",
       "), opt_func=functools.partial(<class 'torch.optim.adam.Adam'>, betas=(0.9, 0.99)), loss_func=FlattenedLoss of MSELoss(), metrics=[], true_wd=True, bn_wd=True, wd=0.01, train_bn=True, path=WindowsPath('C:/Bible Research/data'), model_dir='models', callback_fns=[functools.partial(<class 'fastai.basic_train.Recorder'>, add_time=True, silent=False)], callbacks=[RNNTrainer\n",
       "learn: ...\n",
       "alpha: 2.0\n",
       "beta: 1.0], layer_groups=[Sequential(\n",
       "  (0): Embedding(6048, 400, padding_idx=1)\n",
       "  (1): EmbeddingDropout(\n",
       "    (emb): Embedding(6048, 400, padding_idx=1)\n",
       "  )\n",
       "), Sequential(\n",
       "  (0): WeightDropout(\n",
       "    (module): LSTM(400, 1152, batch_first=True)\n",
       "  )\n",
       "  (1): RNNDropout()\n",
       "), Sequential(\n",
       "  (0): WeightDropout(\n",
       "    (module): LSTM(1152, 1152, batch_first=True)\n",
       "  )\n",
       "  (1): RNNDropout()\n",
       "), Sequential(\n",
       "  (0): WeightDropout(\n",
       "    (module): LSTM(1152, 400, batch_first=True)\n",
       "  )\n",
       "  (1): RNNDropout()\n",
       "), Sequential(\n",
       "  (0): PoolingLinearClassifier(\n",
       "    (layers): Sequential(\n",
       "      (0): BatchNorm1d(1200, eps=1e-05, momentum=0.1, affine=True, track_running_stats=True)\n",
       "      (1): Dropout(p=0.2, inplace=False)\n",
       "      (2): Linear(in_features=1200, out_features=50, bias=True)\n",
       "      (3): ReLU(inplace=True)\n",
       "      (4): BatchNorm1d(50, eps=1e-05, momentum=0.1, affine=True, track_running_stats=True)\n",
       "      (5): Dropout(p=0.1, inplace=False)\n",
       "      (6): Linear(in_features=50, out_features=1, bias=True)\n",
       "    )\n",
       "  )\n",
       ")], add_time=True, silent=False)"
      ]
     },
     "execution_count": 356,
     "metadata": {},
     "output_type": "execute_result"
    }
   ],
   "source": [
    "learn.load_encoder('fine_tuned_enc')"
   ]
  },
  {
   "cell_type": "markdown",
   "metadata": {},
   "source": [
    "I had trouble loading the encoder until I found this discussion: https://forums.fast.ai/t/load-enc-size-mismatch-error/32168/9. I followed sam95's advice which solved the issue."
   ]
  },
  {
   "cell_type": "code",
   "execution_count": 357,
   "metadata": {},
   "outputs": [
    {
     "data": {
      "text/html": [
       "\n",
       "    <div>\n",
       "        <style>\n",
       "            /* Turns off some styling */\n",
       "            progress {\n",
       "                /* gets rid of default border in Firefox and Opera. */\n",
       "                border: none;\n",
       "                /* Needs to be in here for Safari polyfill so background images work as expected. */\n",
       "                background-size: auto;\n",
       "            }\n",
       "            .progress-bar-interrupted, .progress-bar-interrupted::-webkit-progress-bar {\n",
       "                background: #F44336;\n",
       "            }\n",
       "        </style>\n",
       "      <progress value='5' class='' max='7' style='width:300px; height:20px; vertical-align: middle;'></progress>\n",
       "      71.43% [5/7 07:32<03:01]\n",
       "    </div>\n",
       "    \n",
       "<table border=\"1\" class=\"dataframe\">\n",
       "  <thead>\n",
       "    <tr style=\"text-align: left;\">\n",
       "      <th>epoch</th>\n",
       "      <th>train_loss</th>\n",
       "      <th>valid_loss</th>\n",
       "      <th>time</th>\n",
       "    </tr>\n",
       "  </thead>\n",
       "  <tbody>\n",
       "    <tr>\n",
       "      <td>0</td>\n",
       "      <td>0.812292</td>\n",
       "      <td>#na#</td>\n",
       "      <td>01:39</td>\n",
       "    </tr>\n",
       "    <tr>\n",
       "      <td>1</td>\n",
       "      <td>0.788942</td>\n",
       "      <td>#na#</td>\n",
       "      <td>01:20</td>\n",
       "    </tr>\n",
       "    <tr>\n",
       "      <td>2</td>\n",
       "      <td>0.728472</td>\n",
       "      <td>#na#</td>\n",
       "      <td>01:21</td>\n",
       "    </tr>\n",
       "    <tr>\n",
       "      <td>3</td>\n",
       "      <td>0.670082</td>\n",
       "      <td>#na#</td>\n",
       "      <td>01:47</td>\n",
       "    </tr>\n",
       "    <tr>\n",
       "      <td>4</td>\n",
       "      <td>0.568157</td>\n",
       "      <td>#na#</td>\n",
       "      <td>01:23</td>\n",
       "    </tr>\n",
       "  </tbody>\n",
       "</table><p>\n",
       "\n",
       "    <div>\n",
       "        <style>\n",
       "            /* Turns off some styling */\n",
       "            progress {\n",
       "                /* gets rid of default border in Firefox and Opera. */\n",
       "                border: none;\n",
       "                /* Needs to be in here for Safari polyfill so background images work as expected. */\n",
       "                background-size: auto;\n",
       "            }\n",
       "            .progress-bar-interrupted, .progress-bar-interrupted::-webkit-progress-bar {\n",
       "                background: #F44336;\n",
       "            }\n",
       "        </style>\n",
       "      <progress value='14' class='' max='15' style='width:300px; height:20px; vertical-align: middle;'></progress>\n",
       "      93.33% [14/15 01:17<00:05 2.0203]\n",
       "    </div>\n",
       "    "
      ],
      "text/plain": [
       "<IPython.core.display.HTML object>"
      ]
     },
     "metadata": {},
     "output_type": "display_data"
    },
    {
     "name": "stdout",
     "output_type": "stream",
     "text": [
      "LR Finder is complete, type {learner_name}.recorder.plot() to see the graph.\n"
     ]
    }
   ],
   "source": [
    "learn.lr_find()"
   ]
  },
  {
   "cell_type": "code",
   "execution_count": 358,
   "metadata": {},
   "outputs": [
    {
     "data": {
      "image/png": "[encoded data removed]",
      "text/plain": [
       "<Figure size 432x288 with 1 Axes>"
      ]
     },
     "metadata": {
      "needs_background": "light"
     },
     "output_type": "display_data"
    }
   ],
   "source": [
    "learn.recorder.plot(skip_end=15)"
   ]
  },
  {
   "cell_type": "code",
   "execution_count": 359,
   "metadata": {},
   "outputs": [
    {
     "data": {
      "text/html": [
       "<table border=\"1\" class=\"dataframe\">\n",
       "  <thead>\n",
       "    <tr style=\"text-align: left;\">\n",
       "      <th>epoch</th>\n",
       "      <th>train_loss</th>\n",
       "      <th>valid_loss</th>\n",
       "      <th>time</th>\n",
       "    </tr>\n",
       "  </thead>\n",
       "  <tbody>\n",
       "    <tr>\n",
       "      <td>0</td>\n",
       "      <td>0.536655</td>\n",
       "      <td>0.154060</td>\n",
       "      <td>02:23</td>\n",
       "    </tr>\n",
       "    <tr>\n",
       "      <td>1</td>\n",
       "      <td>0.332860</td>\n",
       "      <td>0.144193</td>\n",
       "      <td>01:55</td>\n",
       "    </tr>\n",
       "    <tr>\n",
       "      <td>2</td>\n",
       "      <td>0.254553</td>\n",
       "      <td>0.131006</td>\n",
       "      <td>01:59</td>\n",
       "    </tr>\n",
       "    <tr>\n",
       "      <td>3</td>\n",
       "      <td>0.208190</td>\n",
       "      <td>0.127740</td>\n",
       "      <td>01:57</td>\n",
       "    </tr>\n",
       "  </tbody>\n",
       "</table>"
      ],
      "text/plain": [
       "<IPython.core.display.HTML object>"
      ]
     },
     "metadata": {},
     "output_type": "display_data"
    }
   ],
   "source": [
    "learn.fit_one_cycle(4, 3e-2, moms=(0.8,0.7))"
   ]
  },
  {
   "cell_type": "markdown",
   "metadata": {},
   "source": [
    "Running this fit_one_cycle did not result in an accuracy column. I'm not sure why. It could be because I manually pulled in data_lm.vocab, but this doesn't seem right. On the other hand there is this discussion: https://github.com/fastai/fastai/issues/1691. sgugger says, \"No metrics are computed on the validation set only as this is bad practice to compute them on the training set. This is a conscious choice on our side.\" Accuracy is a metric, so maybe this is why. However, the post I'm following shows an accuracy column in the results, so I'm a little confused. Also, the validation set is not the training set, so I'm not following. This is probably not the reason. I'll keep digging.\n",
    "\n",
    "\n",
    "This model is frozen, so I will partially train the model by unfreezing it in stages."
   ]
  },
  {
   "cell_type": "markdown",
   "metadata": {},
   "source": [
    "Here's an interesting discussion on the use of slice in fastai: https://forums.fast.ai/t/what-does-the-slice-lr-mean-in-fit-one-cycle/60896. This is another one: https://forums.fast.ai/t/shedding-some-light-about-lr-management-in-fastai/43708"
   ]
  },
  {
   "cell_type": "code",
   "execution_count": 360,
   "metadata": {},
   "outputs": [
    {
     "data": {
      "text/html": [
       "<table border=\"1\" class=\"dataframe\">\n",
       "  <thead>\n",
       "    <tr style=\"text-align: left;\">\n",
       "      <th>epoch</th>\n",
       "      <th>train_loss</th>\n",
       "      <th>valid_loss</th>\n",
       "      <th>time</th>\n",
       "    </tr>\n",
       "  </thead>\n",
       "  <tbody>\n",
       "    <tr>\n",
       "      <td>0</td>\n",
       "      <td>0.128575</td>\n",
       "      <td>0.124600</td>\n",
       "      <td>02:19</td>\n",
       "    </tr>\n",
       "    <tr>\n",
       "      <td>1</td>\n",
       "      <td>0.121703</td>\n",
       "      <td>0.123303</td>\n",
       "      <td>02:13</td>\n",
       "    </tr>\n",
       "    <tr>\n",
       "      <td>2</td>\n",
       "      <td>0.115829</td>\n",
       "      <td>0.123723</td>\n",
       "      <td>02:27</td>\n",
       "    </tr>\n",
       "    <tr>\n",
       "      <td>3</td>\n",
       "      <td>0.113210</td>\n",
       "      <td>0.122363</td>\n",
       "      <td>02:40</td>\n",
       "    </tr>\n",
       "  </tbody>\n",
       "</table>"
      ],
      "text/plain": [
       "<IPython.core.display.HTML object>"
      ]
     },
     "metadata": {},
     "output_type": "display_data"
    }
   ],
   "source": [
    "learn.freeze_to(-2)\n",
    "learn.fit_one_cycle(4, slice(1e-3/(2.6**4), 1e-3), moms=(0.8,0.7))"
   ]
  },
  {
   "cell_type": "code",
   "execution_count": 361,
   "metadata": {},
   "outputs": [
    {
     "data": {
      "text/html": [
       "<table border=\"1\" class=\"dataframe\">\n",
       "  <thead>\n",
       "    <tr style=\"text-align: left;\">\n",
       "      <th>epoch</th>\n",
       "      <th>train_loss</th>\n",
       "      <th>valid_loss</th>\n",
       "      <th>time</th>\n",
       "    </tr>\n",
       "  </thead>\n",
       "  <tbody>\n",
       "    <tr>\n",
       "      <td>0</td>\n",
       "      <td>0.113308</td>\n",
       "      <td>0.150762</td>\n",
       "      <td>04:29</td>\n",
       "    </tr>\n",
       "    <tr>\n",
       "      <td>1</td>\n",
       "      <td>0.120174</td>\n",
       "      <td>0.145672</td>\n",
       "      <td>05:12</td>\n",
       "    </tr>\n",
       "    <tr>\n",
       "      <td>2</td>\n",
       "      <td>0.105422</td>\n",
       "      <td>0.131608</td>\n",
       "      <td>03:50</td>\n",
       "    </tr>\n",
       "    <tr>\n",
       "      <td>3</td>\n",
       "      <td>0.088102</td>\n",
       "      <td>0.133934</td>\n",
       "      <td>03:48</td>\n",
       "    </tr>\n",
       "  </tbody>\n",
       "</table>"
      ],
      "text/plain": [
       "<IPython.core.display.HTML object>"
      ]
     },
     "metadata": {},
     "output_type": "display_data"
    }
   ],
   "source": [
    "learn.freeze_to(-3)\n",
    "learn.fit_one_cycle(4, slice(5e-3/(2.6**4),5e-3), moms=(0.8,0.7))"
   ]
  },
  {
   "cell_type": "code",
   "execution_count": 362,
   "metadata": {},
   "outputs": [
    {
     "data": {
      "text/html": [
       "\n",
       "    <div>\n",
       "        <style>\n",
       "            /* Turns off some styling */\n",
       "            progress {\n",
       "                /* gets rid of default border in Firefox and Opera. */\n",
       "                border: none;\n",
       "                /* Needs to be in here for Safari polyfill so background images work as expected. */\n",
       "                background-size: auto;\n",
       "            }\n",
       "            .progress-bar-interrupted, .progress-bar-interrupted::-webkit-progress-bar {\n",
       "                background: #F44336;\n",
       "            }\n",
       "        </style>\n",
       "      <progress value='5' class='' max='7' style='width:300px; height:20px; vertical-align: middle;'></progress>\n",
       "      71.43% [5/7 29:12<11:40]\n",
       "    </div>\n",
       "    \n",
       "<table border=\"1\" class=\"dataframe\">\n",
       "  <thead>\n",
       "    <tr style=\"text-align: left;\">\n",
       "      <th>epoch</th>\n",
       "      <th>train_loss</th>\n",
       "      <th>valid_loss</th>\n",
       "      <th>time</th>\n",
       "    </tr>\n",
       "  </thead>\n",
       "  <tbody>\n",
       "    <tr>\n",
       "      <td>0</td>\n",
       "      <td>0.057180</td>\n",
       "      <td>#na#</td>\n",
       "      <td>06:43</td>\n",
       "    </tr>\n",
       "    <tr>\n",
       "      <td>1</td>\n",
       "      <td>0.060640</td>\n",
       "      <td>#na#</td>\n",
       "      <td>07:01</td>\n",
       "    </tr>\n",
       "    <tr>\n",
       "      <td>2</td>\n",
       "      <td>0.060080</td>\n",
       "      <td>#na#</td>\n",
       "      <td>05:31</td>\n",
       "    </tr>\n",
       "    <tr>\n",
       "      <td>3</td>\n",
       "      <td>0.061052</td>\n",
       "      <td>#na#</td>\n",
       "      <td>04:56</td>\n",
       "    </tr>\n",
       "    <tr>\n",
       "      <td>4</td>\n",
       "      <td>0.094962</td>\n",
       "      <td>#na#</td>\n",
       "      <td>04:59</td>\n",
       "    </tr>\n",
       "  </tbody>\n",
       "</table><p>\n",
       "\n",
       "    <div>\n",
       "        <style>\n",
       "            /* Turns off some styling */\n",
       "            progress {\n",
       "                /* gets rid of default border in Firefox and Opera. */\n",
       "                border: none;\n",
       "                /* Needs to be in here for Safari polyfill so background images work as expected. */\n",
       "                background-size: auto;\n",
       "            }\n",
       "            .progress-bar-interrupted, .progress-bar-interrupted::-webkit-progress-bar {\n",
       "                background: #F44336;\n",
       "            }\n",
       "        </style>\n",
       "      <progress value='9' class='' max='15' style='width:300px; height:20px; vertical-align: middle;'></progress>\n",
       "      60.00% [9/15 17:25<11:36 0.1467]\n",
       "    </div>\n",
       "    "
      ],
      "text/plain": [
       "<IPython.core.display.HTML object>"
      ]
     },
     "metadata": {},
     "output_type": "display_data"
    },
    {
     "name": "stdout",
     "output_type": "stream",
     "text": [
      "LR Finder is complete, type {learner_name}.recorder.plot() to see the graph.\n"
     ]
    },
    {
     "data": {
      "image/png": "[encoded data removed]",
      "text/plain": [
       "<Figure size 432x288 with 1 Axes>"
      ]
     },
     "metadata": {
      "needs_background": "light"
     },
     "output_type": "display_data"
    }
   ],
   "source": [
    "learn.unfreeze()\n",
    "learn.lr_find()\n",
    "learn.recorder.plot(skip_end=15)"
   ]
  },
  {
   "cell_type": "code",
   "execution_count": 363,
   "metadata": {},
   "outputs": [
    {
     "data": {
      "text/html": [
       "<table border=\"1\" class=\"dataframe\">\n",
       "  <thead>\n",
       "    <tr style=\"text-align: left;\">\n",
       "      <th>epoch</th>\n",
       "      <th>train_loss</th>\n",
       "      <th>valid_loss</th>\n",
       "      <th>time</th>\n",
       "    </tr>\n",
       "  </thead>\n",
       "  <tbody>\n",
       "    <tr>\n",
       "      <td>0</td>\n",
       "      <td>0.062515</td>\n",
       "      <td>0.133473</td>\n",
       "      <td>07:50</td>\n",
       "    </tr>\n",
       "    <tr>\n",
       "      <td>1</td>\n",
       "      <td>0.062091</td>\n",
       "      <td>0.135633</td>\n",
       "      <td>05:33</td>\n",
       "    </tr>\n",
       "    <tr>\n",
       "      <td>2</td>\n",
       "      <td>0.059737</td>\n",
       "      <td>0.130263</td>\n",
       "      <td>05:41</td>\n",
       "    </tr>\n",
       "    <tr>\n",
       "      <td>3</td>\n",
       "      <td>0.057684</td>\n",
       "      <td>0.132422</td>\n",
       "      <td>06:45</td>\n",
       "    </tr>\n",
       "    <tr>\n",
       "      <td>4</td>\n",
       "      <td>0.055984</td>\n",
       "      <td>0.133174</td>\n",
       "      <td>08:54</td>\n",
       "    </tr>\n",
       "  </tbody>\n",
       "</table>"
      ],
      "text/plain": [
       "<IPython.core.display.HTML object>"
      ]
     },
     "metadata": {},
     "output_type": "display_data"
    }
   ],
   "source": [
    "learn.fit_one_cycle(5, slice(8e-4/(2.6**4),8e-4), moms=(0.8,0.7))"
   ]
  },
  {
   "cell_type": "code",
   "execution_count": 365,
   "metadata": {},
   "outputs": [
    {
     "data": {
      "text/html": [],
      "text/plain": [
       "<IPython.core.display.HTML object>"
      ]
     },
     "metadata": {},
     "output_type": "display_data"
    },
    {
     "data": {
      "text/plain": [
       "tensor(0.8115)"
      ]
     },
     "execution_count": 365,
     "metadata": {},
     "output_type": "execute_result"
    }
   ],
   "source": [
    "pred_fwd,lbl_fwd = learn.get_preds(ordered=True)\n",
    "accuracy(pred_fwd, lbl_fwd)"
   ]
  },
  {
   "cell_type": "markdown",
   "metadata": {},
   "source": [
    "Okay, we've got an accuracy of 73% for 100-700 model, 76% for 100-500, 80% for 100-300 and 81% for both 100-350 and 100-400, but this could be based on the training set (hopefully I'm wrong and this is actually based on the validation set, but I'll need to check  at some point). For now I'm going to predict my test set and calculate the confusion matrix. This takes a bit of work, as there doesn't seem to be an easy approach. Again, I'm new at this, so I'm sure I'll find a better way as I learn."
   ]
  },
  {
   "cell_type": "code",
   "execution_count": 366,
   "metadata": {},
   "outputs": [
    {
     "name": "stderr",
     "output_type": "stream",
     "text": [
      "C:\\Users\\david\\Anaconda3\\envs\\MLCPU_CLONE\\lib\\site-packages\\fastai\\torch_core.py:83: UserWarning: Tensor is int32: upgrading to int64; for better performance use int64 input\n",
      "  warn('Tensor is int32: upgrading to int64; for better performance use int64 input')\n",
      "C:\\Users\\david\\Anaconda3\\envs\\MLCPU_CLONE\\lib\\site-packages\\fastai\\torch_core.py:83: UserWarning: Tensor is int32: upgrading to int64; for better performance use int64 input\n",
      "  warn('Tensor is int32: upgrading to int64; for better performance use int64 input')\n",
      "C:\\Users\\david\\Anaconda3\\envs\\MLCPU_CLONE\\lib\\site-packages\\fastai\\torch_core.py:83: UserWarning: Tensor is int32: upgrading to int64; for better performance use int64 input\n",
      "  warn('Tensor is int32: upgrading to int64; for better performance use int64 input')\n",
      "C:\\Users\\david\\Anaconda3\\envs\\MLCPU_CLONE\\lib\\site-packages\\fastai\\torch_core.py:83: UserWarning: Tensor is int32: upgrading to int64; for better performance use int64 input\n",
      "  warn('Tensor is int32: upgrading to int64; for better performance use int64 input')\n",
      "C:\\Users\\david\\Anaconda3\\envs\\MLCPU_CLONE\\lib\\site-packages\\fastai\\torch_core.py:83: UserWarning: Tensor is int32: upgrading to int64; for better performance use int64 input\n",
      "  warn('Tensor is int32: upgrading to int64; for better performance use int64 input')\n",
      "C:\\Users\\david\\Anaconda3\\envs\\MLCPU_CLONE\\lib\\site-packages\\fastai\\torch_core.py:83: UserWarning: Tensor is int32: upgrading to int64; for better performance use int64 input\n",
      "  warn('Tensor is int32: upgrading to int64; for better performance use int64 input')\n",
      "C:\\Users\\david\\Anaconda3\\envs\\MLCPU_CLONE\\lib\\site-packages\\fastai\\torch_core.py:83: UserWarning: Tensor is int32: upgrading to int64; for better performance use int64 input\n",
      "  warn('Tensor is int32: upgrading to int64; for better performance use int64 input')\n",
      "C:\\Users\\david\\Anaconda3\\envs\\MLCPU_CLONE\\lib\\site-packages\\fastai\\torch_core.py:83: UserWarning: Tensor is int32: upgrading to int64; for better performance use int64 input\n",
      "  warn('Tensor is int32: upgrading to int64; for better performance use int64 input')\n",
      "C:\\Users\\david\\Anaconda3\\envs\\MLCPU_CLONE\\lib\\site-packages\\fastai\\torch_core.py:83: UserWarning: Tensor is int32: upgrading to int64; for better performance use int64 input\n",
      "  warn('Tensor is int32: upgrading to int64; for better performance use int64 input')\n",
      "C:\\Users\\david\\Anaconda3\\envs\\MLCPU_CLONE\\lib\\site-packages\\fastai\\torch_core.py:83: UserWarning: Tensor is int32: upgrading to int64; for better performance use int64 input\n",
      "  warn('Tensor is int32: upgrading to int64; for better performance use int64 input')\n",
      "C:\\Users\\david\\Anaconda3\\envs\\MLCPU_CLONE\\lib\\site-packages\\fastai\\torch_core.py:83: UserWarning: Tensor is int32: upgrading to int64; for better performance use int64 input\n",
      "  warn('Tensor is int32: upgrading to int64; for better performance use int64 input')\n",
      "C:\\Users\\david\\Anaconda3\\envs\\MLCPU_CLONE\\lib\\site-packages\\fastai\\torch_core.py:83: UserWarning: Tensor is int32: upgrading to int64; for better performance use int64 input\n",
      "  warn('Tensor is int32: upgrading to int64; for better performance use int64 input')\n",
      "C:\\Users\\david\\Anaconda3\\envs\\MLCPU_CLONE\\lib\\site-packages\\fastai\\torch_core.py:83: UserWarning: Tensor is int32: upgrading to int64; for better performance use int64 input\n",
      "  warn('Tensor is int32: upgrading to int64; for better performance use int64 input')\n",
      "C:\\Users\\david\\Anaconda3\\envs\\MLCPU_CLONE\\lib\\site-packages\\fastai\\torch_core.py:83: UserWarning: Tensor is int32: upgrading to int64; for better performance use int64 input\n",
      "  warn('Tensor is int32: upgrading to int64; for better performance use int64 input')\n",
      "C:\\Users\\david\\Anaconda3\\envs\\MLCPU_CLONE\\lib\\site-packages\\fastai\\torch_core.py:83: UserWarning: Tensor is int32: upgrading to int64; for better performance use int64 input\n",
      "  warn('Tensor is int32: upgrading to int64; for better performance use int64 input')\n",
      "C:\\Users\\david\\Anaconda3\\envs\\MLCPU_CLONE\\lib\\site-packages\\fastai\\torch_core.py:83: UserWarning: Tensor is int32: upgrading to int64; for better performance use int64 input\n",
      "  warn('Tensor is int32: upgrading to int64; for better performance use int64 input')\n",
      "C:\\Users\\david\\Anaconda3\\envs\\MLCPU_CLONE\\lib\\site-packages\\fastai\\torch_core.py:83: UserWarning: Tensor is int32: upgrading to int64; for better performance use int64 input\n",
      "  warn('Tensor is int32: upgrading to int64; for better performance use int64 input')\n",
      "C:\\Users\\david\\Anaconda3\\envs\\MLCPU_CLONE\\lib\\site-packages\\fastai\\torch_core.py:83: UserWarning: Tensor is int32: upgrading to int64; for better performance use int64 input\n",
      "  warn('Tensor is int32: upgrading to int64; for better performance use int64 input')\n",
      "C:\\Users\\david\\Anaconda3\\envs\\MLCPU_CLONE\\lib\\site-packages\\fastai\\torch_core.py:83: UserWarning: Tensor is int32: upgrading to int64; for better performance use int64 input\n",
      "  warn('Tensor is int32: upgrading to int64; for better performance use int64 input')\n",
      "C:\\Users\\david\\Anaconda3\\envs\\MLCPU_CLONE\\lib\\site-packages\\fastai\\torch_core.py:83: UserWarning: Tensor is int32: upgrading to int64; for better performance use int64 input\n",
      "  warn('Tensor is int32: upgrading to int64; for better performance use int64 input')\n",
      "C:\\Users\\david\\Anaconda3\\envs\\MLCPU_CLONE\\lib\\site-packages\\fastai\\torch_core.py:83: UserWarning: Tensor is int32: upgrading to int64; for better performance use int64 input\n",
      "  warn('Tensor is int32: upgrading to int64; for better performance use int64 input')\n",
      "C:\\Users\\david\\Anaconda3\\envs\\MLCPU_CLONE\\lib\\site-packages\\fastai\\torch_core.py:83: UserWarning: Tensor is int32: upgrading to int64; for better performance use int64 input\n",
      "  warn('Tensor is int32: upgrading to int64; for better performance use int64 input')\n",
      "C:\\Users\\david\\Anaconda3\\envs\\MLCPU_CLONE\\lib\\site-packages\\fastai\\torch_core.py:83: UserWarning: Tensor is int32: upgrading to int64; for better performance use int64 input\n",
      "  warn('Tensor is int32: upgrading to int64; for better performance use int64 input')\n",
      "C:\\Users\\david\\Anaconda3\\envs\\MLCPU_CLONE\\lib\\site-packages\\fastai\\torch_core.py:83: UserWarning: Tensor is int32: upgrading to int64; for better performance use int64 input\n",
      "  warn('Tensor is int32: upgrading to int64; for better performance use int64 input')\n",
      "C:\\Users\\david\\Anaconda3\\envs\\MLCPU_CLONE\\lib\\site-packages\\fastai\\torch_core.py:83: UserWarning: Tensor is int32: upgrading to int64; for better performance use int64 input\n",
      "  warn('Tensor is int32: upgrading to int64; for better performance use int64 input')\n",
      "C:\\Users\\david\\Anaconda3\\envs\\MLCPU_CLONE\\lib\\site-packages\\fastai\\torch_core.py:83: UserWarning: Tensor is int32: upgrading to int64; for better performance use int64 input\n",
      "  warn('Tensor is int32: upgrading to int64; for better performance use int64 input')\n",
      "C:\\Users\\david\\Anaconda3\\envs\\MLCPU_CLONE\\lib\\site-packages\\fastai\\torch_core.py:83: UserWarning: Tensor is int32: upgrading to int64; for better performance use int64 input\n",
      "  warn('Tensor is int32: upgrading to int64; for better performance use int64 input')\n",
      "C:\\Users\\david\\Anaconda3\\envs\\MLCPU_CLONE\\lib\\site-packages\\fastai\\torch_core.py:83: UserWarning: Tensor is int32: upgrading to int64; for better performance use int64 input\n",
      "  warn('Tensor is int32: upgrading to int64; for better performance use int64 input')\n",
      "C:\\Users\\david\\Anaconda3\\envs\\MLCPU_CLONE\\lib\\site-packages\\fastai\\torch_core.py:83: UserWarning: Tensor is int32: upgrading to int64; for better performance use int64 input\n",
      "  warn('Tensor is int32: upgrading to int64; for better performance use int64 input')\n",
      "C:\\Users\\david\\Anaconda3\\envs\\MLCPU_CLONE\\lib\\site-packages\\fastai\\torch_core.py:83: UserWarning: Tensor is int32: upgrading to int64; for better performance use int64 input\n",
      "  warn('Tensor is int32: upgrading to int64; for better performance use int64 input')\n",
      "C:\\Users\\david\\Anaconda3\\envs\\MLCPU_CLONE\\lib\\site-packages\\fastai\\torch_core.py:83: UserWarning: Tensor is int32: upgrading to int64; for better performance use int64 input\n",
      "  warn('Tensor is int32: upgrading to int64; for better performance use int64 input')\n",
      "C:\\Users\\david\\Anaconda3\\envs\\MLCPU_CLONE\\lib\\site-packages\\fastai\\torch_core.py:83: UserWarning: Tensor is int32: upgrading to int64; for better performance use int64 input\n",
      "  warn('Tensor is int32: upgrading to int64; for better performance use int64 input')\n",
      "C:\\Users\\david\\Anaconda3\\envs\\MLCPU_CLONE\\lib\\site-packages\\fastai\\torch_core.py:83: UserWarning: Tensor is int32: upgrading to int64; for better performance use int64 input\n",
      "  warn('Tensor is int32: upgrading to int64; for better performance use int64 input')\n",
      "C:\\Users\\david\\Anaconda3\\envs\\MLCPU_CLONE\\lib\\site-packages\\fastai\\torch_core.py:83: UserWarning: Tensor is int32: upgrading to int64; for better performance use int64 input\n",
      "  warn('Tensor is int32: upgrading to int64; for better performance use int64 input')\n",
      "C:\\Users\\david\\Anaconda3\\envs\\MLCPU_CLONE\\lib\\site-packages\\fastai\\torch_core.py:83: UserWarning: Tensor is int32: upgrading to int64; for better performance use int64 input\n",
      "  warn('Tensor is int32: upgrading to int64; for better performance use int64 input')\n",
      "C:\\Users\\david\\Anaconda3\\envs\\MLCPU_CLONE\\lib\\site-packages\\fastai\\torch_core.py:83: UserWarning: Tensor is int32: upgrading to int64; for better performance use int64 input\n",
      "  warn('Tensor is int32: upgrading to int64; for better performance use int64 input')\n",
      "C:\\Users\\david\\Anaconda3\\envs\\MLCPU_CLONE\\lib\\site-packages\\fastai\\torch_core.py:83: UserWarning: Tensor is int32: upgrading to int64; for better performance use int64 input\n",
      "  warn('Tensor is int32: upgrading to int64; for better performance use int64 input')\n",
      "C:\\Users\\david\\Anaconda3\\envs\\MLCPU_CLONE\\lib\\site-packages\\fastai\\torch_core.py:83: UserWarning: Tensor is int32: upgrading to int64; for better performance use int64 input\n",
      "  warn('Tensor is int32: upgrading to int64; for better performance use int64 input')\n",
      "C:\\Users\\david\\Anaconda3\\envs\\MLCPU_CLONE\\lib\\site-packages\\fastai\\torch_core.py:83: UserWarning: Tensor is int32: upgrading to int64; for better performance use int64 input\n",
      "  warn('Tensor is int32: upgrading to int64; for better performance use int64 input')\n",
      "C:\\Users\\david\\Anaconda3\\envs\\MLCPU_CLONE\\lib\\site-packages\\fastai\\torch_core.py:83: UserWarning: Tensor is int32: upgrading to int64; for better performance use int64 input\n",
      "  warn('Tensor is int32: upgrading to int64; for better performance use int64 input')\n",
      "C:\\Users\\david\\Anaconda3\\envs\\MLCPU_CLONE\\lib\\site-packages\\fastai\\torch_core.py:83: UserWarning: Tensor is int32: upgrading to int64; for better performance use int64 input\n",
      "  warn('Tensor is int32: upgrading to int64; for better performance use int64 input')\n",
      "C:\\Users\\david\\Anaconda3\\envs\\MLCPU_CLONE\\lib\\site-packages\\fastai\\torch_core.py:83: UserWarning: Tensor is int32: upgrading to int64; for better performance use int64 input\n",
      "  warn('Tensor is int32: upgrading to int64; for better performance use int64 input')\n",
      "C:\\Users\\david\\Anaconda3\\envs\\MLCPU_CLONE\\lib\\site-packages\\fastai\\torch_core.py:83: UserWarning: Tensor is int32: upgrading to int64; for better performance use int64 input\n",
      "  warn('Tensor is int32: upgrading to int64; for better performance use int64 input')\n",
      "C:\\Users\\david\\Anaconda3\\envs\\MLCPU_CLONE\\lib\\site-packages\\fastai\\torch_core.py:83: UserWarning: Tensor is int32: upgrading to int64; for better performance use int64 input\n",
      "  warn('Tensor is int32: upgrading to int64; for better performance use int64 input')\n",
      "C:\\Users\\david\\Anaconda3\\envs\\MLCPU_CLONE\\lib\\site-packages\\fastai\\torch_core.py:83: UserWarning: Tensor is int32: upgrading to int64; for better performance use int64 input\n",
      "  warn('Tensor is int32: upgrading to int64; for better performance use int64 input')\n",
      "C:\\Users\\david\\Anaconda3\\envs\\MLCPU_CLONE\\lib\\site-packages\\fastai\\torch_core.py:83: UserWarning: Tensor is int32: upgrading to int64; for better performance use int64 input\n",
      "  warn('Tensor is int32: upgrading to int64; for better performance use int64 input')\n",
      "C:\\Users\\david\\Anaconda3\\envs\\MLCPU_CLONE\\lib\\site-packages\\fastai\\torch_core.py:83: UserWarning: Tensor is int32: upgrading to int64; for better performance use int64 input\n",
      "  warn('Tensor is int32: upgrading to int64; for better performance use int64 input')\n",
      "C:\\Users\\david\\Anaconda3\\envs\\MLCPU_CLONE\\lib\\site-packages\\fastai\\torch_core.py:83: UserWarning: Tensor is int32: upgrading to int64; for better performance use int64 input\n",
      "  warn('Tensor is int32: upgrading to int64; for better performance use int64 input')\n",
      "C:\\Users\\david\\Anaconda3\\envs\\MLCPU_CLONE\\lib\\site-packages\\fastai\\torch_core.py:83: UserWarning: Tensor is int32: upgrading to int64; for better performance use int64 input\n",
      "  warn('Tensor is int32: upgrading to int64; for better performance use int64 input')\n",
      "C:\\Users\\david\\Anaconda3\\envs\\MLCPU_CLONE\\lib\\site-packages\\fastai\\torch_core.py:83: UserWarning: Tensor is int32: upgrading to int64; for better performance use int64 input\n",
      "  warn('Tensor is int32: upgrading to int64; for better performance use int64 input')\n",
      "C:\\Users\\david\\Anaconda3\\envs\\MLCPU_CLONE\\lib\\site-packages\\fastai\\torch_core.py:83: UserWarning: Tensor is int32: upgrading to int64; for better performance use int64 input\n",
      "  warn('Tensor is int32: upgrading to int64; for better performance use int64 input')\n",
      "C:\\Users\\david\\Anaconda3\\envs\\MLCPU_CLONE\\lib\\site-packages\\fastai\\torch_core.py:83: UserWarning: Tensor is int32: upgrading to int64; for better performance use int64 input\n",
      "  warn('Tensor is int32: upgrading to int64; for better performance use int64 input')\n",
      "C:\\Users\\david\\Anaconda3\\envs\\MLCPU_CLONE\\lib\\site-packages\\fastai\\torch_core.py:83: UserWarning: Tensor is int32: upgrading to int64; for better performance use int64 input\n",
      "  warn('Tensor is int32: upgrading to int64; for better performance use int64 input')\n",
      "C:\\Users\\david\\Anaconda3\\envs\\MLCPU_CLONE\\lib\\site-packages\\fastai\\torch_core.py:83: UserWarning: Tensor is int32: upgrading to int64; for better performance use int64 input\n",
      "  warn('Tensor is int32: upgrading to int64; for better performance use int64 input')\n",
      "C:\\Users\\david\\Anaconda3\\envs\\MLCPU_CLONE\\lib\\site-packages\\fastai\\torch_core.py:83: UserWarning: Tensor is int32: upgrading to int64; for better performance use int64 input\n",
      "  warn('Tensor is int32: upgrading to int64; for better performance use int64 input')\n",
      "C:\\Users\\david\\Anaconda3\\envs\\MLCPU_CLONE\\lib\\site-packages\\fastai\\torch_core.py:83: UserWarning: Tensor is int32: upgrading to int64; for better performance use int64 input\n",
      "  warn('Tensor is int32: upgrading to int64; for better performance use int64 input')\n",
      "C:\\Users\\david\\Anaconda3\\envs\\MLCPU_CLONE\\lib\\site-packages\\fastai\\torch_core.py:83: UserWarning: Tensor is int32: upgrading to int64; for better performance use int64 input\n",
      "  warn('Tensor is int32: upgrading to int64; for better performance use int64 input')\n",
      "C:\\Users\\david\\Anaconda3\\envs\\MLCPU_CLONE\\lib\\site-packages\\fastai\\torch_core.py:83: UserWarning: Tensor is int32: upgrading to int64; for better performance use int64 input\n",
      "  warn('Tensor is int32: upgrading to int64; for better performance use int64 input')\n",
      "C:\\Users\\david\\Anaconda3\\envs\\MLCPU_CLONE\\lib\\site-packages\\fastai\\torch_core.py:83: UserWarning: Tensor is int32: upgrading to int64; for better performance use int64 input\n",
      "  warn('Tensor is int32: upgrading to int64; for better performance use int64 input')\n",
      "C:\\Users\\david\\Anaconda3\\envs\\MLCPU_CLONE\\lib\\site-packages\\fastai\\torch_core.py:83: UserWarning: Tensor is int32: upgrading to int64; for better performance use int64 input\n",
      "  warn('Tensor is int32: upgrading to int64; for better performance use int64 input')\n",
      "C:\\Users\\david\\Anaconda3\\envs\\MLCPU_CLONE\\lib\\site-packages\\fastai\\torch_core.py:83: UserWarning: Tensor is int32: upgrading to int64; for better performance use int64 input\n",
      "  warn('Tensor is int32: upgrading to int64; for better performance use int64 input')\n",
      "C:\\Users\\david\\Anaconda3\\envs\\MLCPU_CLONE\\lib\\site-packages\\fastai\\torch_core.py:83: UserWarning: Tensor is int32: upgrading to int64; for better performance use int64 input\n",
      "  warn('Tensor is int32: upgrading to int64; for better performance use int64 input')\n",
      "C:\\Users\\david\\Anaconda3\\envs\\MLCPU_CLONE\\lib\\site-packages\\fastai\\torch_core.py:83: UserWarning: Tensor is int32: upgrading to int64; for better performance use int64 input\n",
      "  warn('Tensor is int32: upgrading to int64; for better performance use int64 input')\n",
      "C:\\Users\\david\\Anaconda3\\envs\\MLCPU_CLONE\\lib\\site-packages\\fastai\\torch_core.py:83: UserWarning: Tensor is int32: upgrading to int64; for better performance use int64 input\n",
      "  warn('Tensor is int32: upgrading to int64; for better performance use int64 input')\n",
      "C:\\Users\\david\\Anaconda3\\envs\\MLCPU_CLONE\\lib\\site-packages\\fastai\\torch_core.py:83: UserWarning: Tensor is int32: upgrading to int64; for better performance use int64 input\n",
      "  warn('Tensor is int32: upgrading to int64; for better performance use int64 input')\n",
      "C:\\Users\\david\\Anaconda3\\envs\\MLCPU_CLONE\\lib\\site-packages\\fastai\\torch_core.py:83: UserWarning: Tensor is int32: upgrading to int64; for better performance use int64 input\n",
      "  warn('Tensor is int32: upgrading to int64; for better performance use int64 input')\n",
      "C:\\Users\\david\\Anaconda3\\envs\\MLCPU_CLONE\\lib\\site-packages\\fastai\\torch_core.py:83: UserWarning: Tensor is int32: upgrading to int64; for better performance use int64 input\n",
      "  warn('Tensor is int32: upgrading to int64; for better performance use int64 input')\n",
      "C:\\Users\\david\\Anaconda3\\envs\\MLCPU_CLONE\\lib\\site-packages\\fastai\\torch_core.py:83: UserWarning: Tensor is int32: upgrading to int64; for better performance use int64 input\n",
      "  warn('Tensor is int32: upgrading to int64; for better performance use int64 input')\n",
      "C:\\Users\\david\\Anaconda3\\envs\\MLCPU_CLONE\\lib\\site-packages\\fastai\\torch_core.py:83: UserWarning: Tensor is int32: upgrading to int64; for better performance use int64 input\n",
      "  warn('Tensor is int32: upgrading to int64; for better performance use int64 input')\n",
      "C:\\Users\\david\\Anaconda3\\envs\\MLCPU_CLONE\\lib\\site-packages\\fastai\\torch_core.py:83: UserWarning: Tensor is int32: upgrading to int64; for better performance use int64 input\n",
      "  warn('Tensor is int32: upgrading to int64; for better performance use int64 input')\n",
      "C:\\Users\\david\\Anaconda3\\envs\\MLCPU_CLONE\\lib\\site-packages\\fastai\\torch_core.py:83: UserWarning: Tensor is int32: upgrading to int64; for better performance use int64 input\n",
      "  warn('Tensor is int32: upgrading to int64; for better performance use int64 input')\n",
      "C:\\Users\\david\\Anaconda3\\envs\\MLCPU_CLONE\\lib\\site-packages\\fastai\\torch_core.py:83: UserWarning: Tensor is int32: upgrading to int64; for better performance use int64 input\n",
      "  warn('Tensor is int32: upgrading to int64; for better performance use int64 input')\n",
      "C:\\Users\\david\\Anaconda3\\envs\\MLCPU_CLONE\\lib\\site-packages\\fastai\\torch_core.py:83: UserWarning: Tensor is int32: upgrading to int64; for better performance use int64 input\n",
      "  warn('Tensor is int32: upgrading to int64; for better performance use int64 input')\n",
      "C:\\Users\\david\\Anaconda3\\envs\\MLCPU_CLONE\\lib\\site-packages\\fastai\\torch_core.py:83: UserWarning: Tensor is int32: upgrading to int64; for better performance use int64 input\n",
      "  warn('Tensor is int32: upgrading to int64; for better performance use int64 input')\n",
      "C:\\Users\\david\\Anaconda3\\envs\\MLCPU_CLONE\\lib\\site-packages\\fastai\\torch_core.py:83: UserWarning: Tensor is int32: upgrading to int64; for better performance use int64 input\n",
      "  warn('Tensor is int32: upgrading to int64; for better performance use int64 input')\n",
      "C:\\Users\\david\\Anaconda3\\envs\\MLCPU_CLONE\\lib\\site-packages\\fastai\\torch_core.py:83: UserWarning: Tensor is int32: upgrading to int64; for better performance use int64 input\n",
      "  warn('Tensor is int32: upgrading to int64; for better performance use int64 input')\n",
      "C:\\Users\\david\\Anaconda3\\envs\\MLCPU_CLONE\\lib\\site-packages\\fastai\\torch_core.py:83: UserWarning: Tensor is int32: upgrading to int64; for better performance use int64 input\n",
      "  warn('Tensor is int32: upgrading to int64; for better performance use int64 input')\n",
      "C:\\Users\\david\\Anaconda3\\envs\\MLCPU_CLONE\\lib\\site-packages\\fastai\\torch_core.py:83: UserWarning: Tensor is int32: upgrading to int64; for better performance use int64 input\n",
      "  warn('Tensor is int32: upgrading to int64; for better performance use int64 input')\n",
      "C:\\Users\\david\\Anaconda3\\envs\\MLCPU_CLONE\\lib\\site-packages\\fastai\\torch_core.py:83: UserWarning: Tensor is int32: upgrading to int64; for better performance use int64 input\n",
      "  warn('Tensor is int32: upgrading to int64; for better performance use int64 input')\n",
      "C:\\Users\\david\\Anaconda3\\envs\\MLCPU_CLONE\\lib\\site-packages\\fastai\\torch_core.py:83: UserWarning: Tensor is int32: upgrading to int64; for better performance use int64 input\n",
      "  warn('Tensor is int32: upgrading to int64; for better performance use int64 input')\n",
      "C:\\Users\\david\\Anaconda3\\envs\\MLCPU_CLONE\\lib\\site-packages\\fastai\\torch_core.py:83: UserWarning: Tensor is int32: upgrading to int64; for better performance use int64 input\n",
      "  warn('Tensor is int32: upgrading to int64; for better performance use int64 input')\n",
      "C:\\Users\\david\\Anaconda3\\envs\\MLCPU_CLONE\\lib\\site-packages\\fastai\\torch_core.py:83: UserWarning: Tensor is int32: upgrading to int64; for better performance use int64 input\n",
      "  warn('Tensor is int32: upgrading to int64; for better performance use int64 input')\n",
      "C:\\Users\\david\\Anaconda3\\envs\\MLCPU_CLONE\\lib\\site-packages\\fastai\\torch_core.py:83: UserWarning: Tensor is int32: upgrading to int64; for better performance use int64 input\n",
      "  warn('Tensor is int32: upgrading to int64; for better performance use int64 input')\n",
      "C:\\Users\\david\\Anaconda3\\envs\\MLCPU_CLONE\\lib\\site-packages\\fastai\\torch_core.py:83: UserWarning: Tensor is int32: upgrading to int64; for better performance use int64 input\n",
      "  warn('Tensor is int32: upgrading to int64; for better performance use int64 input')\n",
      "C:\\Users\\david\\Anaconda3\\envs\\MLCPU_CLONE\\lib\\site-packages\\fastai\\torch_core.py:83: UserWarning: Tensor is int32: upgrading to int64; for better performance use int64 input\n",
      "  warn('Tensor is int32: upgrading to int64; for better performance use int64 input')\n",
      "C:\\Users\\david\\Anaconda3\\envs\\MLCPU_CLONE\\lib\\site-packages\\fastai\\torch_core.py:83: UserWarning: Tensor is int32: upgrading to int64; for better performance use int64 input\n",
      "  warn('Tensor is int32: upgrading to int64; for better performance use int64 input')\n",
      "C:\\Users\\david\\Anaconda3\\envs\\MLCPU_CLONE\\lib\\site-packages\\fastai\\torch_core.py:83: UserWarning: Tensor is int32: upgrading to int64; for better performance use int64 input\n",
      "  warn('Tensor is int32: upgrading to int64; for better performance use int64 input')\n",
      "C:\\Users\\david\\Anaconda3\\envs\\MLCPU_CLONE\\lib\\site-packages\\fastai\\torch_core.py:83: UserWarning: Tensor is int32: upgrading to int64; for better performance use int64 input\n",
      "  warn('Tensor is int32: upgrading to int64; for better performance use int64 input')\n",
      "C:\\Users\\david\\Anaconda3\\envs\\MLCPU_CLONE\\lib\\site-packages\\fastai\\torch_core.py:83: UserWarning: Tensor is int32: upgrading to int64; for better performance use int64 input\n",
      "  warn('Tensor is int32: upgrading to int64; for better performance use int64 input')\n",
      "C:\\Users\\david\\Anaconda3\\envs\\MLCPU_CLONE\\lib\\site-packages\\fastai\\torch_core.py:83: UserWarning: Tensor is int32: upgrading to int64; for better performance use int64 input\n",
      "  warn('Tensor is int32: upgrading to int64; for better performance use int64 input')\n",
      "C:\\Users\\david\\Anaconda3\\envs\\MLCPU_CLONE\\lib\\site-packages\\fastai\\torch_core.py:83: UserWarning: Tensor is int32: upgrading to int64; for better performance use int64 input\n",
      "  warn('Tensor is int32: upgrading to int64; for better performance use int64 input')\n",
      "C:\\Users\\david\\Anaconda3\\envs\\MLCPU_CLONE\\lib\\site-packages\\fastai\\torch_core.py:83: UserWarning: Tensor is int32: upgrading to int64; for better performance use int64 input\n",
      "  warn('Tensor is int32: upgrading to int64; for better performance use int64 input')\n",
      "C:\\Users\\david\\Anaconda3\\envs\\MLCPU_CLONE\\lib\\site-packages\\fastai\\torch_core.py:83: UserWarning: Tensor is int32: upgrading to int64; for better performance use int64 input\n",
      "  warn('Tensor is int32: upgrading to int64; for better performance use int64 input')\n",
      "C:\\Users\\david\\Anaconda3\\envs\\MLCPU_CLONE\\lib\\site-packages\\fastai\\torch_core.py:83: UserWarning: Tensor is int32: upgrading to int64; for better performance use int64 input\n",
      "  warn('Tensor is int32: upgrading to int64; for better performance use int64 input')\n",
      "C:\\Users\\david\\Anaconda3\\envs\\MLCPU_CLONE\\lib\\site-packages\\fastai\\torch_core.py:83: UserWarning: Tensor is int32: upgrading to int64; for better performance use int64 input\n",
      "  warn('Tensor is int32: upgrading to int64; for better performance use int64 input')\n",
      "C:\\Users\\david\\Anaconda3\\envs\\MLCPU_CLONE\\lib\\site-packages\\fastai\\torch_core.py:83: UserWarning: Tensor is int32: upgrading to int64; for better performance use int64 input\n",
      "  warn('Tensor is int32: upgrading to int64; for better performance use int64 input')\n",
      "C:\\Users\\david\\Anaconda3\\envs\\MLCPU_CLONE\\lib\\site-packages\\fastai\\torch_core.py:83: UserWarning: Tensor is int32: upgrading to int64; for better performance use int64 input\n",
      "  warn('Tensor is int32: upgrading to int64; for better performance use int64 input')\n",
      "C:\\Users\\david\\Anaconda3\\envs\\MLCPU_CLONE\\lib\\site-packages\\fastai\\torch_core.py:83: UserWarning: Tensor is int32: upgrading to int64; for better performance use int64 input\n",
      "  warn('Tensor is int32: upgrading to int64; for better performance use int64 input')\n",
      "C:\\Users\\david\\Anaconda3\\envs\\MLCPU_CLONE\\lib\\site-packages\\fastai\\torch_core.py:83: UserWarning: Tensor is int32: upgrading to int64; for better performance use int64 input\n",
      "  warn('Tensor is int32: upgrading to int64; for better performance use int64 input')\n",
      "C:\\Users\\david\\Anaconda3\\envs\\MLCPU_CLONE\\lib\\site-packages\\fastai\\torch_core.py:83: UserWarning: Tensor is int32: upgrading to int64; for better performance use int64 input\n",
      "  warn('Tensor is int32: upgrading to int64; for better performance use int64 input')\n",
      "C:\\Users\\david\\Anaconda3\\envs\\MLCPU_CLONE\\lib\\site-packages\\fastai\\torch_core.py:83: UserWarning: Tensor is int32: upgrading to int64; for better performance use int64 input\n",
      "  warn('Tensor is int32: upgrading to int64; for better performance use int64 input')\n",
      "C:\\Users\\david\\Anaconda3\\envs\\MLCPU_CLONE\\lib\\site-packages\\fastai\\torch_core.py:83: UserWarning: Tensor is int32: upgrading to int64; for better performance use int64 input\n",
      "  warn('Tensor is int32: upgrading to int64; for better performance use int64 input')\n",
      "C:\\Users\\david\\Anaconda3\\envs\\MLCPU_CLONE\\lib\\site-packages\\fastai\\torch_core.py:83: UserWarning: Tensor is int32: upgrading to int64; for better performance use int64 input\n",
      "  warn('Tensor is int32: upgrading to int64; for better performance use int64 input')\n",
      "C:\\Users\\david\\Anaconda3\\envs\\MLCPU_CLONE\\lib\\site-packages\\fastai\\torch_core.py:83: UserWarning: Tensor is int32: upgrading to int64; for better performance use int64 input\n",
      "  warn('Tensor is int32: upgrading to int64; for better performance use int64 input')\n",
      "C:\\Users\\david\\Anaconda3\\envs\\MLCPU_CLONE\\lib\\site-packages\\fastai\\torch_core.py:83: UserWarning: Tensor is int32: upgrading to int64; for better performance use int64 input\n",
      "  warn('Tensor is int32: upgrading to int64; for better performance use int64 input')\n",
      "C:\\Users\\david\\Anaconda3\\envs\\MLCPU_CLONE\\lib\\site-packages\\fastai\\torch_core.py:83: UserWarning: Tensor is int32: upgrading to int64; for better performance use int64 input\n",
      "  warn('Tensor is int32: upgrading to int64; for better performance use int64 input')\n",
      "C:\\Users\\david\\Anaconda3\\envs\\MLCPU_CLONE\\lib\\site-packages\\fastai\\torch_core.py:83: UserWarning: Tensor is int32: upgrading to int64; for better performance use int64 input\n",
      "  warn('Tensor is int32: upgrading to int64; for better performance use int64 input')\n",
      "C:\\Users\\david\\Anaconda3\\envs\\MLCPU_CLONE\\lib\\site-packages\\fastai\\torch_core.py:83: UserWarning: Tensor is int32: upgrading to int64; for better performance use int64 input\n",
      "  warn('Tensor is int32: upgrading to int64; for better performance use int64 input')\n",
      "C:\\Users\\david\\Anaconda3\\envs\\MLCPU_CLONE\\lib\\site-packages\\fastai\\torch_core.py:83: UserWarning: Tensor is int32: upgrading to int64; for better performance use int64 input\n",
      "  warn('Tensor is int32: upgrading to int64; for better performance use int64 input')\n",
      "C:\\Users\\david\\Anaconda3\\envs\\MLCPU_CLONE\\lib\\site-packages\\fastai\\torch_core.py:83: UserWarning: Tensor is int32: upgrading to int64; for better performance use int64 input\n",
      "  warn('Tensor is int32: upgrading to int64; for better performance use int64 input')\n",
      "C:\\Users\\david\\Anaconda3\\envs\\MLCPU_CLONE\\lib\\site-packages\\fastai\\torch_core.py:83: UserWarning: Tensor is int32: upgrading to int64; for better performance use int64 input\n",
      "  warn('Tensor is int32: upgrading to int64; for better performance use int64 input')\n",
      "C:\\Users\\david\\Anaconda3\\envs\\MLCPU_CLONE\\lib\\site-packages\\fastai\\torch_core.py:83: UserWarning: Tensor is int32: upgrading to int64; for better performance use int64 input\n",
      "  warn('Tensor is int32: upgrading to int64; for better performance use int64 input')\n",
      "C:\\Users\\david\\Anaconda3\\envs\\MLCPU_CLONE\\lib\\site-packages\\fastai\\torch_core.py:83: UserWarning: Tensor is int32: upgrading to int64; for better performance use int64 input\n",
      "  warn('Tensor is int32: upgrading to int64; for better performance use int64 input')\n",
      "C:\\Users\\david\\Anaconda3\\envs\\MLCPU_CLONE\\lib\\site-packages\\fastai\\torch_core.py:83: UserWarning: Tensor is int32: upgrading to int64; for better performance use int64 input\n",
      "  warn('Tensor is int32: upgrading to int64; for better performance use int64 input')\n",
      "C:\\Users\\david\\Anaconda3\\envs\\MLCPU_CLONE\\lib\\site-packages\\fastai\\torch_core.py:83: UserWarning: Tensor is int32: upgrading to int64; for better performance use int64 input\n",
      "  warn('Tensor is int32: upgrading to int64; for better performance use int64 input')\n",
      "C:\\Users\\david\\Anaconda3\\envs\\MLCPU_CLONE\\lib\\site-packages\\fastai\\torch_core.py:83: UserWarning: Tensor is int32: upgrading to int64; for better performance use int64 input\n",
      "  warn('Tensor is int32: upgrading to int64; for better performance use int64 input')\n",
      "C:\\Users\\david\\Anaconda3\\envs\\MLCPU_CLONE\\lib\\site-packages\\fastai\\torch_core.py:83: UserWarning: Tensor is int32: upgrading to int64; for better performance use int64 input\n",
      "  warn('Tensor is int32: upgrading to int64; for better performance use int64 input')\n",
      "C:\\Users\\david\\Anaconda3\\envs\\MLCPU_CLONE\\lib\\site-packages\\fastai\\torch_core.py:83: UserWarning: Tensor is int32: upgrading to int64; for better performance use int64 input\n",
      "  warn('Tensor is int32: upgrading to int64; for better performance use int64 input')\n",
      "C:\\Users\\david\\Anaconda3\\envs\\MLCPU_CLONE\\lib\\site-packages\\fastai\\torch_core.py:83: UserWarning: Tensor is int32: upgrading to int64; for better performance use int64 input\n",
      "  warn('Tensor is int32: upgrading to int64; for better performance use int64 input')\n",
      "C:\\Users\\david\\Anaconda3\\envs\\MLCPU_CLONE\\lib\\site-packages\\fastai\\torch_core.py:83: UserWarning: Tensor is int32: upgrading to int64; for better performance use int64 input\n",
      "  warn('Tensor is int32: upgrading to int64; for better performance use int64 input')\n",
      "C:\\Users\\david\\Anaconda3\\envs\\MLCPU_CLONE\\lib\\site-packages\\fastai\\torch_core.py:83: UserWarning: Tensor is int32: upgrading to int64; for better performance use int64 input\n",
      "  warn('Tensor is int32: upgrading to int64; for better performance use int64 input')\n",
      "C:\\Users\\david\\Anaconda3\\envs\\MLCPU_CLONE\\lib\\site-packages\\fastai\\torch_core.py:83: UserWarning: Tensor is int32: upgrading to int64; for better performance use int64 input\n",
      "  warn('Tensor is int32: upgrading to int64; for better performance use int64 input')\n",
      "C:\\Users\\david\\Anaconda3\\envs\\MLCPU_CLONE\\lib\\site-packages\\fastai\\torch_core.py:83: UserWarning: Tensor is int32: upgrading to int64; for better performance use int64 input\n",
      "  warn('Tensor is int32: upgrading to int64; for better performance use int64 input')\n",
      "C:\\Users\\david\\Anaconda3\\envs\\MLCPU_CLONE\\lib\\site-packages\\fastai\\torch_core.py:83: UserWarning: Tensor is int32: upgrading to int64; for better performance use int64 input\n",
      "  warn('Tensor is int32: upgrading to int64; for better performance use int64 input')\n",
      "C:\\Users\\david\\Anaconda3\\envs\\MLCPU_CLONE\\lib\\site-packages\\fastai\\torch_core.py:83: UserWarning: Tensor is int32: upgrading to int64; for better performance use int64 input\n",
      "  warn('Tensor is int32: upgrading to int64; for better performance use int64 input')\n",
      "C:\\Users\\david\\Anaconda3\\envs\\MLCPU_CLONE\\lib\\site-packages\\fastai\\torch_core.py:83: UserWarning: Tensor is int32: upgrading to int64; for better performance use int64 input\n",
      "  warn('Tensor is int32: upgrading to int64; for better performance use int64 input')\n",
      "C:\\Users\\david\\Anaconda3\\envs\\MLCPU_CLONE\\lib\\site-packages\\fastai\\torch_core.py:83: UserWarning: Tensor is int32: upgrading to int64; for better performance use int64 input\n",
      "  warn('Tensor is int32: upgrading to int64; for better performance use int64 input')\n",
      "C:\\Users\\david\\Anaconda3\\envs\\MLCPU_CLONE\\lib\\site-packages\\fastai\\torch_core.py:83: UserWarning: Tensor is int32: upgrading to int64; for better performance use int64 input\n",
      "  warn('Tensor is int32: upgrading to int64; for better performance use int64 input')\n",
      "C:\\Users\\david\\Anaconda3\\envs\\MLCPU_CLONE\\lib\\site-packages\\fastai\\torch_core.py:83: UserWarning: Tensor is int32: upgrading to int64; for better performance use int64 input\n",
      "  warn('Tensor is int32: upgrading to int64; for better performance use int64 input')\n",
      "C:\\Users\\david\\Anaconda3\\envs\\MLCPU_CLONE\\lib\\site-packages\\fastai\\torch_core.py:83: UserWarning: Tensor is int32: upgrading to int64; for better performance use int64 input\n",
      "  warn('Tensor is int32: upgrading to int64; for better performance use int64 input')\n",
      "C:\\Users\\david\\Anaconda3\\envs\\MLCPU_CLONE\\lib\\site-packages\\fastai\\torch_core.py:83: UserWarning: Tensor is int32: upgrading to int64; for better performance use int64 input\n",
      "  warn('Tensor is int32: upgrading to int64; for better performance use int64 input')\n",
      "C:\\Users\\david\\Anaconda3\\envs\\MLCPU_CLONE\\lib\\site-packages\\fastai\\torch_core.py:83: UserWarning: Tensor is int32: upgrading to int64; for better performance use int64 input\n",
      "  warn('Tensor is int32: upgrading to int64; for better performance use int64 input')\n",
      "C:\\Users\\david\\Anaconda3\\envs\\MLCPU_CLONE\\lib\\site-packages\\fastai\\torch_core.py:83: UserWarning: Tensor is int32: upgrading to int64; for better performance use int64 input\n",
      "  warn('Tensor is int32: upgrading to int64; for better performance use int64 input')\n",
      "C:\\Users\\david\\Anaconda3\\envs\\MLCPU_CLONE\\lib\\site-packages\\fastai\\torch_core.py:83: UserWarning: Tensor is int32: upgrading to int64; for better performance use int64 input\n",
      "  warn('Tensor is int32: upgrading to int64; for better performance use int64 input')\n",
      "C:\\Users\\david\\Anaconda3\\envs\\MLCPU_CLONE\\lib\\site-packages\\fastai\\torch_core.py:83: UserWarning: Tensor is int32: upgrading to int64; for better performance use int64 input\n",
      "  warn('Tensor is int32: upgrading to int64; for better performance use int64 input')\n",
      "C:\\Users\\david\\Anaconda3\\envs\\MLCPU_CLONE\\lib\\site-packages\\fastai\\torch_core.py:83: UserWarning: Tensor is int32: upgrading to int64; for better performance use int64 input\n",
      "  warn('Tensor is int32: upgrading to int64; for better performance use int64 input')\n",
      "C:\\Users\\david\\Anaconda3\\envs\\MLCPU_CLONE\\lib\\site-packages\\fastai\\torch_core.py:83: UserWarning: Tensor is int32: upgrading to int64; for better performance use int64 input\n",
      "  warn('Tensor is int32: upgrading to int64; for better performance use int64 input')\n",
      "C:\\Users\\david\\Anaconda3\\envs\\MLCPU_CLONE\\lib\\site-packages\\fastai\\torch_core.py:83: UserWarning: Tensor is int32: upgrading to int64; for better performance use int64 input\n",
      "  warn('Tensor is int32: upgrading to int64; for better performance use int64 input')\n",
      "C:\\Users\\david\\Anaconda3\\envs\\MLCPU_CLONE\\lib\\site-packages\\fastai\\torch_core.py:83: UserWarning: Tensor is int32: upgrading to int64; for better performance use int64 input\n",
      "  warn('Tensor is int32: upgrading to int64; for better performance use int64 input')\n",
      "C:\\Users\\david\\Anaconda3\\envs\\MLCPU_CLONE\\lib\\site-packages\\fastai\\torch_core.py:83: UserWarning: Tensor is int32: upgrading to int64; for better performance use int64 input\n",
      "  warn('Tensor is int32: upgrading to int64; for better performance use int64 input')\n",
      "C:\\Users\\david\\Anaconda3\\envs\\MLCPU_CLONE\\lib\\site-packages\\fastai\\torch_core.py:83: UserWarning: Tensor is int32: upgrading to int64; for better performance use int64 input\n",
      "  warn('Tensor is int32: upgrading to int64; for better performance use int64 input')\n",
      "C:\\Users\\david\\Anaconda3\\envs\\MLCPU_CLONE\\lib\\site-packages\\fastai\\torch_core.py:83: UserWarning: Tensor is int32: upgrading to int64; for better performance use int64 input\n",
      "  warn('Tensor is int32: upgrading to int64; for better performance use int64 input')\n",
      "C:\\Users\\david\\Anaconda3\\envs\\MLCPU_CLONE\\lib\\site-packages\\fastai\\torch_core.py:83: UserWarning: Tensor is int32: upgrading to int64; for better performance use int64 input\n",
      "  warn('Tensor is int32: upgrading to int64; for better performance use int64 input')\n",
      "C:\\Users\\david\\Anaconda3\\envs\\MLCPU_CLONE\\lib\\site-packages\\fastai\\torch_core.py:83: UserWarning: Tensor is int32: upgrading to int64; for better performance use int64 input\n",
      "  warn('Tensor is int32: upgrading to int64; for better performance use int64 input')\n",
      "C:\\Users\\david\\Anaconda3\\envs\\MLCPU_CLONE\\lib\\site-packages\\fastai\\torch_core.py:83: UserWarning: Tensor is int32: upgrading to int64; for better performance use int64 input\n",
      "  warn('Tensor is int32: upgrading to int64; for better performance use int64 input')\n",
      "C:\\Users\\david\\Anaconda3\\envs\\MLCPU_CLONE\\lib\\site-packages\\fastai\\torch_core.py:83: UserWarning: Tensor is int32: upgrading to int64; for better performance use int64 input\n",
      "  warn('Tensor is int32: upgrading to int64; for better performance use int64 input')\n",
      "C:\\Users\\david\\Anaconda3\\envs\\MLCPU_CLONE\\lib\\site-packages\\fastai\\torch_core.py:83: UserWarning: Tensor is int32: upgrading to int64; for better performance use int64 input\n",
      "  warn('Tensor is int32: upgrading to int64; for better performance use int64 input')\n",
      "C:\\Users\\david\\Anaconda3\\envs\\MLCPU_CLONE\\lib\\site-packages\\fastai\\torch_core.py:83: UserWarning: Tensor is int32: upgrading to int64; for better performance use int64 input\n",
      "  warn('Tensor is int32: upgrading to int64; for better performance use int64 input')\n",
      "C:\\Users\\david\\Anaconda3\\envs\\MLCPU_CLONE\\lib\\site-packages\\fastai\\torch_core.py:83: UserWarning: Tensor is int32: upgrading to int64; for better performance use int64 input\n",
      "  warn('Tensor is int32: upgrading to int64; for better performance use int64 input')\n",
      "C:\\Users\\david\\Anaconda3\\envs\\MLCPU_CLONE\\lib\\site-packages\\fastai\\torch_core.py:83: UserWarning: Tensor is int32: upgrading to int64; for better performance use int64 input\n",
      "  warn('Tensor is int32: upgrading to int64; for better performance use int64 input')\n",
      "C:\\Users\\david\\Anaconda3\\envs\\MLCPU_CLONE\\lib\\site-packages\\fastai\\torch_core.py:83: UserWarning: Tensor is int32: upgrading to int64; for better performance use int64 input\n",
      "  warn('Tensor is int32: upgrading to int64; for better performance use int64 input')\n",
      "C:\\Users\\david\\Anaconda3\\envs\\MLCPU_CLONE\\lib\\site-packages\\fastai\\torch_core.py:83: UserWarning: Tensor is int32: upgrading to int64; for better performance use int64 input\n",
      "  warn('Tensor is int32: upgrading to int64; for better performance use int64 input')\n",
      "C:\\Users\\david\\Anaconda3\\envs\\MLCPU_CLONE\\lib\\site-packages\\fastai\\torch_core.py:83: UserWarning: Tensor is int32: upgrading to int64; for better performance use int64 input\n",
      "  warn('Tensor is int32: upgrading to int64; for better performance use int64 input')\n",
      "C:\\Users\\david\\Anaconda3\\envs\\MLCPU_CLONE\\lib\\site-packages\\fastai\\torch_core.py:83: UserWarning: Tensor is int32: upgrading to int64; for better performance use int64 input\n",
      "  warn('Tensor is int32: upgrading to int64; for better performance use int64 input')\n",
      "C:\\Users\\david\\Anaconda3\\envs\\MLCPU_CLONE\\lib\\site-packages\\fastai\\torch_core.py:83: UserWarning: Tensor is int32: upgrading to int64; for better performance use int64 input\n",
      "  warn('Tensor is int32: upgrading to int64; for better performance use int64 input')\n",
      "C:\\Users\\david\\Anaconda3\\envs\\MLCPU_CLONE\\lib\\site-packages\\fastai\\torch_core.py:83: UserWarning: Tensor is int32: upgrading to int64; for better performance use int64 input\n",
      "  warn('Tensor is int32: upgrading to int64; for better performance use int64 input')\n",
      "C:\\Users\\david\\Anaconda3\\envs\\MLCPU_CLONE\\lib\\site-packages\\fastai\\torch_core.py:83: UserWarning: Tensor is int32: upgrading to int64; for better performance use int64 input\n",
      "  warn('Tensor is int32: upgrading to int64; for better performance use int64 input')\n",
      "C:\\Users\\david\\Anaconda3\\envs\\MLCPU_CLONE\\lib\\site-packages\\fastai\\torch_core.py:83: UserWarning: Tensor is int32: upgrading to int64; for better performance use int64 input\n",
      "  warn('Tensor is int32: upgrading to int64; for better performance use int64 input')\n",
      "C:\\Users\\david\\Anaconda3\\envs\\MLCPU_CLONE\\lib\\site-packages\\fastai\\torch_core.py:83: UserWarning: Tensor is int32: upgrading to int64; for better performance use int64 input\n",
      "  warn('Tensor is int32: upgrading to int64; for better performance use int64 input')\n",
      "C:\\Users\\david\\Anaconda3\\envs\\MLCPU_CLONE\\lib\\site-packages\\fastai\\torch_core.py:83: UserWarning: Tensor is int32: upgrading to int64; for better performance use int64 input\n",
      "  warn('Tensor is int32: upgrading to int64; for better performance use int64 input')\n",
      "C:\\Users\\david\\Anaconda3\\envs\\MLCPU_CLONE\\lib\\site-packages\\fastai\\torch_core.py:83: UserWarning: Tensor is int32: upgrading to int64; for better performance use int64 input\n",
      "  warn('Tensor is int32: upgrading to int64; for better performance use int64 input')\n",
      "C:\\Users\\david\\Anaconda3\\envs\\MLCPU_CLONE\\lib\\site-packages\\fastai\\torch_core.py:83: UserWarning: Tensor is int32: upgrading to int64; for better performance use int64 input\n",
      "  warn('Tensor is int32: upgrading to int64; for better performance use int64 input')\n",
      "C:\\Users\\david\\Anaconda3\\envs\\MLCPU_CLONE\\lib\\site-packages\\fastai\\torch_core.py:83: UserWarning: Tensor is int32: upgrading to int64; for better performance use int64 input\n",
      "  warn('Tensor is int32: upgrading to int64; for better performance use int64 input')\n",
      "C:\\Users\\david\\Anaconda3\\envs\\MLCPU_CLONE\\lib\\site-packages\\fastai\\torch_core.py:83: UserWarning: Tensor is int32: upgrading to int64; for better performance use int64 input\n",
      "  warn('Tensor is int32: upgrading to int64; for better performance use int64 input')\n",
      "C:\\Users\\david\\Anaconda3\\envs\\MLCPU_CLONE\\lib\\site-packages\\fastai\\torch_core.py:83: UserWarning: Tensor is int32: upgrading to int64; for better performance use int64 input\n",
      "  warn('Tensor is int32: upgrading to int64; for better performance use int64 input')\n",
      "C:\\Users\\david\\Anaconda3\\envs\\MLCPU_CLONE\\lib\\site-packages\\fastai\\torch_core.py:83: UserWarning: Tensor is int32: upgrading to int64; for better performance use int64 input\n",
      "  warn('Tensor is int32: upgrading to int64; for better performance use int64 input')\n",
      "C:\\Users\\david\\Anaconda3\\envs\\MLCPU_CLONE\\lib\\site-packages\\fastai\\torch_core.py:83: UserWarning: Tensor is int32: upgrading to int64; for better performance use int64 input\n",
      "  warn('Tensor is int32: upgrading to int64; for better performance use int64 input')\n",
      "C:\\Users\\david\\Anaconda3\\envs\\MLCPU_CLONE\\lib\\site-packages\\fastai\\torch_core.py:83: UserWarning: Tensor is int32: upgrading to int64; for better performance use int64 input\n",
      "  warn('Tensor is int32: upgrading to int64; for better performance use int64 input')\n",
      "C:\\Users\\david\\Anaconda3\\envs\\MLCPU_CLONE\\lib\\site-packages\\fastai\\torch_core.py:83: UserWarning: Tensor is int32: upgrading to int64; for better performance use int64 input\n",
      "  warn('Tensor is int32: upgrading to int64; for better performance use int64 input')\n",
      "C:\\Users\\david\\Anaconda3\\envs\\MLCPU_CLONE\\lib\\site-packages\\fastai\\torch_core.py:83: UserWarning: Tensor is int32: upgrading to int64; for better performance use int64 input\n",
      "  warn('Tensor is int32: upgrading to int64; for better performance use int64 input')\n",
      "C:\\Users\\david\\Anaconda3\\envs\\MLCPU_CLONE\\lib\\site-packages\\fastai\\torch_core.py:83: UserWarning: Tensor is int32: upgrading to int64; for better performance use int64 input\n",
      "  warn('Tensor is int32: upgrading to int64; for better performance use int64 input')\n",
      "C:\\Users\\david\\Anaconda3\\envs\\MLCPU_CLONE\\lib\\site-packages\\fastai\\torch_core.py:83: UserWarning: Tensor is int32: upgrading to int64; for better performance use int64 input\n",
      "  warn('Tensor is int32: upgrading to int64; for better performance use int64 input')\n",
      "C:\\Users\\david\\Anaconda3\\envs\\MLCPU_CLONE\\lib\\site-packages\\fastai\\torch_core.py:83: UserWarning: Tensor is int32: upgrading to int64; for better performance use int64 input\n",
      "  warn('Tensor is int32: upgrading to int64; for better performance use int64 input')\n",
      "C:\\Users\\david\\Anaconda3\\envs\\MLCPU_CLONE\\lib\\site-packages\\fastai\\torch_core.py:83: UserWarning: Tensor is int32: upgrading to int64; for better performance use int64 input\n",
      "  warn('Tensor is int32: upgrading to int64; for better performance use int64 input')\n",
      "C:\\Users\\david\\Anaconda3\\envs\\MLCPU_CLONE\\lib\\site-packages\\fastai\\torch_core.py:83: UserWarning: Tensor is int32: upgrading to int64; for better performance use int64 input\n",
      "  warn('Tensor is int32: upgrading to int64; for better performance use int64 input')\n",
      "C:\\Users\\david\\Anaconda3\\envs\\MLCPU_CLONE\\lib\\site-packages\\fastai\\torch_core.py:83: UserWarning: Tensor is int32: upgrading to int64; for better performance use int64 input\n",
      "  warn('Tensor is int32: upgrading to int64; for better performance use int64 input')\n",
      "C:\\Users\\david\\Anaconda3\\envs\\MLCPU_CLONE\\lib\\site-packages\\fastai\\torch_core.py:83: UserWarning: Tensor is int32: upgrading to int64; for better performance use int64 input\n",
      "  warn('Tensor is int32: upgrading to int64; for better performance use int64 input')\n",
      "C:\\Users\\david\\Anaconda3\\envs\\MLCPU_CLONE\\lib\\site-packages\\fastai\\torch_core.py:83: UserWarning: Tensor is int32: upgrading to int64; for better performance use int64 input\n",
      "  warn('Tensor is int32: upgrading to int64; for better performance use int64 input')\n",
      "C:\\Users\\david\\Anaconda3\\envs\\MLCPU_CLONE\\lib\\site-packages\\fastai\\torch_core.py:83: UserWarning: Tensor is int32: upgrading to int64; for better performance use int64 input\n",
      "  warn('Tensor is int32: upgrading to int64; for better performance use int64 input')\n",
      "C:\\Users\\david\\Anaconda3\\envs\\MLCPU_CLONE\\lib\\site-packages\\fastai\\torch_core.py:83: UserWarning: Tensor is int32: upgrading to int64; for better performance use int64 input\n",
      "  warn('Tensor is int32: upgrading to int64; for better performance use int64 input')\n",
      "C:\\Users\\david\\Anaconda3\\envs\\MLCPU_CLONE\\lib\\site-packages\\fastai\\torch_core.py:83: UserWarning: Tensor is int32: upgrading to int64; for better performance use int64 input\n",
      "  warn('Tensor is int32: upgrading to int64; for better performance use int64 input')\n",
      "C:\\Users\\david\\Anaconda3\\envs\\MLCPU_CLONE\\lib\\site-packages\\fastai\\torch_core.py:83: UserWarning: Tensor is int32: upgrading to int64; for better performance use int64 input\n",
      "  warn('Tensor is int32: upgrading to int64; for better performance use int64 input')\n",
      "C:\\Users\\david\\Anaconda3\\envs\\MLCPU_CLONE\\lib\\site-packages\\fastai\\torch_core.py:83: UserWarning: Tensor is int32: upgrading to int64; for better performance use int64 input\n",
      "  warn('Tensor is int32: upgrading to int64; for better performance use int64 input')\n",
      "C:\\Users\\david\\Anaconda3\\envs\\MLCPU_CLONE\\lib\\site-packages\\fastai\\torch_core.py:83: UserWarning: Tensor is int32: upgrading to int64; for better performance use int64 input\n",
      "  warn('Tensor is int32: upgrading to int64; for better performance use int64 input')\n",
      "C:\\Users\\david\\Anaconda3\\envs\\MLCPU_CLONE\\lib\\site-packages\\fastai\\torch_core.py:83: UserWarning: Tensor is int32: upgrading to int64; for better performance use int64 input\n",
      "  warn('Tensor is int32: upgrading to int64; for better performance use int64 input')\n",
      "C:\\Users\\david\\Anaconda3\\envs\\MLCPU_CLONE\\lib\\site-packages\\fastai\\torch_core.py:83: UserWarning: Tensor is int32: upgrading to int64; for better performance use int64 input\n",
      "  warn('Tensor is int32: upgrading to int64; for better performance use int64 input')\n",
      "C:\\Users\\david\\Anaconda3\\envs\\MLCPU_CLONE\\lib\\site-packages\\fastai\\torch_core.py:83: UserWarning: Tensor is int32: upgrading to int64; for better performance use int64 input\n",
      "  warn('Tensor is int32: upgrading to int64; for better performance use int64 input')\n",
      "C:\\Users\\david\\Anaconda3\\envs\\MLCPU_CLONE\\lib\\site-packages\\fastai\\torch_core.py:83: UserWarning: Tensor is int32: upgrading to int64; for better performance use int64 input\n",
      "  warn('Tensor is int32: upgrading to int64; for better performance use int64 input')\n",
      "C:\\Users\\david\\Anaconda3\\envs\\MLCPU_CLONE\\lib\\site-packages\\fastai\\torch_core.py:83: UserWarning: Tensor is int32: upgrading to int64; for better performance use int64 input\n",
      "  warn('Tensor is int32: upgrading to int64; for better performance use int64 input')\n",
      "C:\\Users\\david\\Anaconda3\\envs\\MLCPU_CLONE\\lib\\site-packages\\fastai\\torch_core.py:83: UserWarning: Tensor is int32: upgrading to int64; for better performance use int64 input\n",
      "  warn('Tensor is int32: upgrading to int64; for better performance use int64 input')\n",
      "C:\\Users\\david\\Anaconda3\\envs\\MLCPU_CLONE\\lib\\site-packages\\fastai\\torch_core.py:83: UserWarning: Tensor is int32: upgrading to int64; for better performance use int64 input\n",
      "  warn('Tensor is int32: upgrading to int64; for better performance use int64 input')\n",
      "C:\\Users\\david\\Anaconda3\\envs\\MLCPU_CLONE\\lib\\site-packages\\fastai\\torch_core.py:83: UserWarning: Tensor is int32: upgrading to int64; for better performance use int64 input\n",
      "  warn('Tensor is int32: upgrading to int64; for better performance use int64 input')\n",
      "C:\\Users\\david\\Anaconda3\\envs\\MLCPU_CLONE\\lib\\site-packages\\fastai\\torch_core.py:83: UserWarning: Tensor is int32: upgrading to int64; for better performance use int64 input\n",
      "  warn('Tensor is int32: upgrading to int64; for better performance use int64 input')\n",
      "C:\\Users\\david\\Anaconda3\\envs\\MLCPU_CLONE\\lib\\site-packages\\fastai\\torch_core.py:83: UserWarning: Tensor is int32: upgrading to int64; for better performance use int64 input\n",
      "  warn('Tensor is int32: upgrading to int64; for better performance use int64 input')\n",
      "C:\\Users\\david\\Anaconda3\\envs\\MLCPU_CLONE\\lib\\site-packages\\fastai\\torch_core.py:83: UserWarning: Tensor is int32: upgrading to int64; for better performance use int64 input\n",
      "  warn('Tensor is int32: upgrading to int64; for better performance use int64 input')\n",
      "C:\\Users\\david\\Anaconda3\\envs\\MLCPU_CLONE\\lib\\site-packages\\fastai\\torch_core.py:83: UserWarning: Tensor is int32: upgrading to int64; for better performance use int64 input\n",
      "  warn('Tensor is int32: upgrading to int64; for better performance use int64 input')\n",
      "C:\\Users\\david\\Anaconda3\\envs\\MLCPU_CLONE\\lib\\site-packages\\fastai\\torch_core.py:83: UserWarning: Tensor is int32: upgrading to int64; for better performance use int64 input\n",
      "  warn('Tensor is int32: upgrading to int64; for better performance use int64 input')\n",
      "C:\\Users\\david\\Anaconda3\\envs\\MLCPU_CLONE\\lib\\site-packages\\fastai\\torch_core.py:83: UserWarning: Tensor is int32: upgrading to int64; for better performance use int64 input\n",
      "  warn('Tensor is int32: upgrading to int64; for better performance use int64 input')\n",
      "C:\\Users\\david\\Anaconda3\\envs\\MLCPU_CLONE\\lib\\site-packages\\fastai\\torch_core.py:83: UserWarning: Tensor is int32: upgrading to int64; for better performance use int64 input\n",
      "  warn('Tensor is int32: upgrading to int64; for better performance use int64 input')\n",
      "C:\\Users\\david\\Anaconda3\\envs\\MLCPU_CLONE\\lib\\site-packages\\fastai\\torch_core.py:83: UserWarning: Tensor is int32: upgrading to int64; for better performance use int64 input\n",
      "  warn('Tensor is int32: upgrading to int64; for better performance use int64 input')\n",
      "C:\\Users\\david\\Anaconda3\\envs\\MLCPU_CLONE\\lib\\site-packages\\fastai\\torch_core.py:83: UserWarning: Tensor is int32: upgrading to int64; for better performance use int64 input\n",
      "  warn('Tensor is int32: upgrading to int64; for better performance use int64 input')\n",
      "C:\\Users\\david\\Anaconda3\\envs\\MLCPU_CLONE\\lib\\site-packages\\fastai\\torch_core.py:83: UserWarning: Tensor is int32: upgrading to int64; for better performance use int64 input\n",
      "  warn('Tensor is int32: upgrading to int64; for better performance use int64 input')\n",
      "C:\\Users\\david\\Anaconda3\\envs\\MLCPU_CLONE\\lib\\site-packages\\fastai\\torch_core.py:83: UserWarning: Tensor is int32: upgrading to int64; for better performance use int64 input\n",
      "  warn('Tensor is int32: upgrading to int64; for better performance use int64 input')\n",
      "C:\\Users\\david\\Anaconda3\\envs\\MLCPU_CLONE\\lib\\site-packages\\fastai\\torch_core.py:83: UserWarning: Tensor is int32: upgrading to int64; for better performance use int64 input\n",
      "  warn('Tensor is int32: upgrading to int64; for better performance use int64 input')\n",
      "C:\\Users\\david\\Anaconda3\\envs\\MLCPU_CLONE\\lib\\site-packages\\fastai\\torch_core.py:83: UserWarning: Tensor is int32: upgrading to int64; for better performance use int64 input\n",
      "  warn('Tensor is int32: upgrading to int64; for better performance use int64 input')\n",
      "C:\\Users\\david\\Anaconda3\\envs\\MLCPU_CLONE\\lib\\site-packages\\fastai\\torch_core.py:83: UserWarning: Tensor is int32: upgrading to int64; for better performance use int64 input\n",
      "  warn('Tensor is int32: upgrading to int64; for better performance use int64 input')\n",
      "C:\\Users\\david\\Anaconda3\\envs\\MLCPU_CLONE\\lib\\site-packages\\fastai\\torch_core.py:83: UserWarning: Tensor is int32: upgrading to int64; for better performance use int64 input\n",
      "  warn('Tensor is int32: upgrading to int64; for better performance use int64 input')\n",
      "C:\\Users\\david\\Anaconda3\\envs\\MLCPU_CLONE\\lib\\site-packages\\fastai\\torch_core.py:83: UserWarning: Tensor is int32: upgrading to int64; for better performance use int64 input\n",
      "  warn('Tensor is int32: upgrading to int64; for better performance use int64 input')\n",
      "C:\\Users\\david\\Anaconda3\\envs\\MLCPU_CLONE\\lib\\site-packages\\fastai\\torch_core.py:83: UserWarning: Tensor is int32: upgrading to int64; for better performance use int64 input\n",
      "  warn('Tensor is int32: upgrading to int64; for better performance use int64 input')\n",
      "C:\\Users\\david\\Anaconda3\\envs\\MLCPU_CLONE\\lib\\site-packages\\fastai\\torch_core.py:83: UserWarning: Tensor is int32: upgrading to int64; for better performance use int64 input\n",
      "  warn('Tensor is int32: upgrading to int64; for better performance use int64 input')\n",
      "C:\\Users\\david\\Anaconda3\\envs\\MLCPU_CLONE\\lib\\site-packages\\fastai\\torch_core.py:83: UserWarning: Tensor is int32: upgrading to int64; for better performance use int64 input\n",
      "  warn('Tensor is int32: upgrading to int64; for better performance use int64 input')\n",
      "C:\\Users\\david\\Anaconda3\\envs\\MLCPU_CLONE\\lib\\site-packages\\fastai\\torch_core.py:83: UserWarning: Tensor is int32: upgrading to int64; for better performance use int64 input\n",
      "  warn('Tensor is int32: upgrading to int64; for better performance use int64 input')\n",
      "C:\\Users\\david\\Anaconda3\\envs\\MLCPU_CLONE\\lib\\site-packages\\fastai\\torch_core.py:83: UserWarning: Tensor is int32: upgrading to int64; for better performance use int64 input\n",
      "  warn('Tensor is int32: upgrading to int64; for better performance use int64 input')\n",
      "C:\\Users\\david\\Anaconda3\\envs\\MLCPU_CLONE\\lib\\site-packages\\fastai\\torch_core.py:83: UserWarning: Tensor is int32: upgrading to int64; for better performance use int64 input\n",
      "  warn('Tensor is int32: upgrading to int64; for better performance use int64 input')\n",
      "C:\\Users\\david\\Anaconda3\\envs\\MLCPU_CLONE\\lib\\site-packages\\fastai\\torch_core.py:83: UserWarning: Tensor is int32: upgrading to int64; for better performance use int64 input\n",
      "  warn('Tensor is int32: upgrading to int64; for better performance use int64 input')\n",
      "C:\\Users\\david\\Anaconda3\\envs\\MLCPU_CLONE\\lib\\site-packages\\fastai\\torch_core.py:83: UserWarning: Tensor is int32: upgrading to int64; for better performance use int64 input\n",
      "  warn('Tensor is int32: upgrading to int64; for better performance use int64 input')\n",
      "C:\\Users\\david\\Anaconda3\\envs\\MLCPU_CLONE\\lib\\site-packages\\fastai\\torch_core.py:83: UserWarning: Tensor is int32: upgrading to int64; for better performance use int64 input\n",
      "  warn('Tensor is int32: upgrading to int64; for better performance use int64 input')\n",
      "C:\\Users\\david\\Anaconda3\\envs\\MLCPU_CLONE\\lib\\site-packages\\fastai\\torch_core.py:83: UserWarning: Tensor is int32: upgrading to int64; for better performance use int64 input\n",
      "  warn('Tensor is int32: upgrading to int64; for better performance use int64 input')\n",
      "C:\\Users\\david\\Anaconda3\\envs\\MLCPU_CLONE\\lib\\site-packages\\fastai\\torch_core.py:83: UserWarning: Tensor is int32: upgrading to int64; for better performance use int64 input\n",
      "  warn('Tensor is int32: upgrading to int64; for better performance use int64 input')\n",
      "C:\\Users\\david\\Anaconda3\\envs\\MLCPU_CLONE\\lib\\site-packages\\fastai\\torch_core.py:83: UserWarning: Tensor is int32: upgrading to int64; for better performance use int64 input\n",
      "  warn('Tensor is int32: upgrading to int64; for better performance use int64 input')\n",
      "C:\\Users\\david\\Anaconda3\\envs\\MLCPU_CLONE\\lib\\site-packages\\fastai\\torch_core.py:83: UserWarning: Tensor is int32: upgrading to int64; for better performance use int64 input\n",
      "  warn('Tensor is int32: upgrading to int64; for better performance use int64 input')\n",
      "C:\\Users\\david\\Anaconda3\\envs\\MLCPU_CLONE\\lib\\site-packages\\fastai\\torch_core.py:83: UserWarning: Tensor is int32: upgrading to int64; for better performance use int64 input\n",
      "  warn('Tensor is int32: upgrading to int64; for better performance use int64 input')\n",
      "C:\\Users\\david\\Anaconda3\\envs\\MLCPU_CLONE\\lib\\site-packages\\fastai\\torch_core.py:83: UserWarning: Tensor is int32: upgrading to int64; for better performance use int64 input\n",
      "  warn('Tensor is int32: upgrading to int64; for better performance use int64 input')\n",
      "C:\\Users\\david\\Anaconda3\\envs\\MLCPU_CLONE\\lib\\site-packages\\fastai\\torch_core.py:83: UserWarning: Tensor is int32: upgrading to int64; for better performance use int64 input\n",
      "  warn('Tensor is int32: upgrading to int64; for better performance use int64 input')\n",
      "C:\\Users\\david\\Anaconda3\\envs\\MLCPU_CLONE\\lib\\site-packages\\fastai\\torch_core.py:83: UserWarning: Tensor is int32: upgrading to int64; for better performance use int64 input\n",
      "  warn('Tensor is int32: upgrading to int64; for better performance use int64 input')\n",
      "C:\\Users\\david\\Anaconda3\\envs\\MLCPU_CLONE\\lib\\site-packages\\fastai\\torch_core.py:83: UserWarning: Tensor is int32: upgrading to int64; for better performance use int64 input\n",
      "  warn('Tensor is int32: upgrading to int64; for better performance use int64 input')\n",
      "C:\\Users\\david\\Anaconda3\\envs\\MLCPU_CLONE\\lib\\site-packages\\fastai\\torch_core.py:83: UserWarning: Tensor is int32: upgrading to int64; for better performance use int64 input\n",
      "  warn('Tensor is int32: upgrading to int64; for better performance use int64 input')\n",
      "C:\\Users\\david\\Anaconda3\\envs\\MLCPU_CLONE\\lib\\site-packages\\fastai\\torch_core.py:83: UserWarning: Tensor is int32: upgrading to int64; for better performance use int64 input\n",
      "  warn('Tensor is int32: upgrading to int64; for better performance use int64 input')\n",
      "C:\\Users\\david\\Anaconda3\\envs\\MLCPU_CLONE\\lib\\site-packages\\fastai\\torch_core.py:83: UserWarning: Tensor is int32: upgrading to int64; for better performance use int64 input\n",
      "  warn('Tensor is int32: upgrading to int64; for better performance use int64 input')\n",
      "C:\\Users\\david\\Anaconda3\\envs\\MLCPU_CLONE\\lib\\site-packages\\fastai\\torch_core.py:83: UserWarning: Tensor is int32: upgrading to int64; for better performance use int64 input\n",
      "  warn('Tensor is int32: upgrading to int64; for better performance use int64 input')\n",
      "C:\\Users\\david\\Anaconda3\\envs\\MLCPU_CLONE\\lib\\site-packages\\fastai\\torch_core.py:83: UserWarning: Tensor is int32: upgrading to int64; for better performance use int64 input\n",
      "  warn('Tensor is int32: upgrading to int64; for better performance use int64 input')\n",
      "C:\\Users\\david\\Anaconda3\\envs\\MLCPU_CLONE\\lib\\site-packages\\fastai\\torch_core.py:83: UserWarning: Tensor is int32: upgrading to int64; for better performance use int64 input\n",
      "  warn('Tensor is int32: upgrading to int64; for better performance use int64 input')\n",
      "C:\\Users\\david\\Anaconda3\\envs\\MLCPU_CLONE\\lib\\site-packages\\fastai\\torch_core.py:83: UserWarning: Tensor is int32: upgrading to int64; for better performance use int64 input\n",
      "  warn('Tensor is int32: upgrading to int64; for better performance use int64 input')\n",
      "C:\\Users\\david\\Anaconda3\\envs\\MLCPU_CLONE\\lib\\site-packages\\fastai\\torch_core.py:83: UserWarning: Tensor is int32: upgrading to int64; for better performance use int64 input\n",
      "  warn('Tensor is int32: upgrading to int64; for better performance use int64 input')\n",
      "C:\\Users\\david\\Anaconda3\\envs\\MLCPU_CLONE\\lib\\site-packages\\fastai\\torch_core.py:83: UserWarning: Tensor is int32: upgrading to int64; for better performance use int64 input\n",
      "  warn('Tensor is int32: upgrading to int64; for better performance use int64 input')\n",
      "C:\\Users\\david\\Anaconda3\\envs\\MLCPU_CLONE\\lib\\site-packages\\fastai\\torch_core.py:83: UserWarning: Tensor is int32: upgrading to int64; for better performance use int64 input\n",
      "  warn('Tensor is int32: upgrading to int64; for better performance use int64 input')\n",
      "C:\\Users\\david\\Anaconda3\\envs\\MLCPU_CLONE\\lib\\site-packages\\fastai\\torch_core.py:83: UserWarning: Tensor is int32: upgrading to int64; for better performance use int64 input\n",
      "  warn('Tensor is int32: upgrading to int64; for better performance use int64 input')\n",
      "C:\\Users\\david\\Anaconda3\\envs\\MLCPU_CLONE\\lib\\site-packages\\fastai\\torch_core.py:83: UserWarning: Tensor is int32: upgrading to int64; for better performance use int64 input\n",
      "  warn('Tensor is int32: upgrading to int64; for better performance use int64 input')\n",
      "C:\\Users\\david\\Anaconda3\\envs\\MLCPU_CLONE\\lib\\site-packages\\fastai\\torch_core.py:83: UserWarning: Tensor is int32: upgrading to int64; for better performance use int64 input\n",
      "  warn('Tensor is int32: upgrading to int64; for better performance use int64 input')\n",
      "C:\\Users\\david\\Anaconda3\\envs\\MLCPU_CLONE\\lib\\site-packages\\fastai\\torch_core.py:83: UserWarning: Tensor is int32: upgrading to int64; for better performance use int64 input\n",
      "  warn('Tensor is int32: upgrading to int64; for better performance use int64 input')\n",
      "C:\\Users\\david\\Anaconda3\\envs\\MLCPU_CLONE\\lib\\site-packages\\fastai\\torch_core.py:83: UserWarning: Tensor is int32: upgrading to int64; for better performance use int64 input\n",
      "  warn('Tensor is int32: upgrading to int64; for better performance use int64 input')\n",
      "C:\\Users\\david\\Anaconda3\\envs\\MLCPU_CLONE\\lib\\site-packages\\fastai\\torch_core.py:83: UserWarning: Tensor is int32: upgrading to int64; for better performance use int64 input\n",
      "  warn('Tensor is int32: upgrading to int64; for better performance use int64 input')\n",
      "C:\\Users\\david\\Anaconda3\\envs\\MLCPU_CLONE\\lib\\site-packages\\fastai\\torch_core.py:83: UserWarning: Tensor is int32: upgrading to int64; for better performance use int64 input\n",
      "  warn('Tensor is int32: upgrading to int64; for better performance use int64 input')\n",
      "C:\\Users\\david\\Anaconda3\\envs\\MLCPU_CLONE\\lib\\site-packages\\fastai\\torch_core.py:83: UserWarning: Tensor is int32: upgrading to int64; for better performance use int64 input\n",
      "  warn('Tensor is int32: upgrading to int64; for better performance use int64 input')\n",
      "C:\\Users\\david\\Anaconda3\\envs\\MLCPU_CLONE\\lib\\site-packages\\fastai\\torch_core.py:83: UserWarning: Tensor is int32: upgrading to int64; for better performance use int64 input\n",
      "  warn('Tensor is int32: upgrading to int64; for better performance use int64 input')\n",
      "C:\\Users\\david\\Anaconda3\\envs\\MLCPU_CLONE\\lib\\site-packages\\fastai\\torch_core.py:83: UserWarning: Tensor is int32: upgrading to int64; for better performance use int64 input\n",
      "  warn('Tensor is int32: upgrading to int64; for better performance use int64 input')\n",
      "C:\\Users\\david\\Anaconda3\\envs\\MLCPU_CLONE\\lib\\site-packages\\fastai\\torch_core.py:83: UserWarning: Tensor is int32: upgrading to int64; for better performance use int64 input\n",
      "  warn('Tensor is int32: upgrading to int64; for better performance use int64 input')\n",
      "C:\\Users\\david\\Anaconda3\\envs\\MLCPU_CLONE\\lib\\site-packages\\fastai\\torch_core.py:83: UserWarning: Tensor is int32: upgrading to int64; for better performance use int64 input\n",
      "  warn('Tensor is int32: upgrading to int64; for better performance use int64 input')\n",
      "C:\\Users\\david\\Anaconda3\\envs\\MLCPU_CLONE\\lib\\site-packages\\fastai\\torch_core.py:83: UserWarning: Tensor is int32: upgrading to int64; for better performance use int64 input\n",
      "  warn('Tensor is int32: upgrading to int64; for better performance use int64 input')\n",
      "C:\\Users\\david\\Anaconda3\\envs\\MLCPU_CLONE\\lib\\site-packages\\fastai\\torch_core.py:83: UserWarning: Tensor is int32: upgrading to int64; for better performance use int64 input\n",
      "  warn('Tensor is int32: upgrading to int64; for better performance use int64 input')\n",
      "C:\\Users\\david\\Anaconda3\\envs\\MLCPU_CLONE\\lib\\site-packages\\fastai\\torch_core.py:83: UserWarning: Tensor is int32: upgrading to int64; for better performance use int64 input\n",
      "  warn('Tensor is int32: upgrading to int64; for better performance use int64 input')\n",
      "C:\\Users\\david\\Anaconda3\\envs\\MLCPU_CLONE\\lib\\site-packages\\fastai\\torch_core.py:83: UserWarning: Tensor is int32: upgrading to int64; for better performance use int64 input\n",
      "  warn('Tensor is int32: upgrading to int64; for better performance use int64 input')\n",
      "C:\\Users\\david\\Anaconda3\\envs\\MLCPU_CLONE\\lib\\site-packages\\fastai\\torch_core.py:83: UserWarning: Tensor is int32: upgrading to int64; for better performance use int64 input\n",
      "  warn('Tensor is int32: upgrading to int64; for better performance use int64 input')\n",
      "C:\\Users\\david\\Anaconda3\\envs\\MLCPU_CLONE\\lib\\site-packages\\fastai\\torch_core.py:83: UserWarning: Tensor is int32: upgrading to int64; for better performance use int64 input\n",
      "  warn('Tensor is int32: upgrading to int64; for better performance use int64 input')\n",
      "C:\\Users\\david\\Anaconda3\\envs\\MLCPU_CLONE\\lib\\site-packages\\fastai\\torch_core.py:83: UserWarning: Tensor is int32: upgrading to int64; for better performance use int64 input\n",
      "  warn('Tensor is int32: upgrading to int64; for better performance use int64 input')\n",
      "C:\\Users\\david\\Anaconda3\\envs\\MLCPU_CLONE\\lib\\site-packages\\fastai\\torch_core.py:83: UserWarning: Tensor is int32: upgrading to int64; for better performance use int64 input\n",
      "  warn('Tensor is int32: upgrading to int64; for better performance use int64 input')\n",
      "C:\\Users\\david\\Anaconda3\\envs\\MLCPU_CLONE\\lib\\site-packages\\fastai\\torch_core.py:83: UserWarning: Tensor is int32: upgrading to int64; for better performance use int64 input\n",
      "  warn('Tensor is int32: upgrading to int64; for better performance use int64 input')\n",
      "C:\\Users\\david\\Anaconda3\\envs\\MLCPU_CLONE\\lib\\site-packages\\fastai\\torch_core.py:83: UserWarning: Tensor is int32: upgrading to int64; for better performance use int64 input\n",
      "  warn('Tensor is int32: upgrading to int64; for better performance use int64 input')\n",
      "C:\\Users\\david\\Anaconda3\\envs\\MLCPU_CLONE\\lib\\site-packages\\fastai\\torch_core.py:83: UserWarning: Tensor is int32: upgrading to int64; for better performance use int64 input\n",
      "  warn('Tensor is int32: upgrading to int64; for better performance use int64 input')\n",
      "C:\\Users\\david\\Anaconda3\\envs\\MLCPU_CLONE\\lib\\site-packages\\fastai\\torch_core.py:83: UserWarning: Tensor is int32: upgrading to int64; for better performance use int64 input\n",
      "  warn('Tensor is int32: upgrading to int64; for better performance use int64 input')\n",
      "C:\\Users\\david\\Anaconda3\\envs\\MLCPU_CLONE\\lib\\site-packages\\fastai\\torch_core.py:83: UserWarning: Tensor is int32: upgrading to int64; for better performance use int64 input\n",
      "  warn('Tensor is int32: upgrading to int64; for better performance use int64 input')\n",
      "C:\\Users\\david\\Anaconda3\\envs\\MLCPU_CLONE\\lib\\site-packages\\fastai\\torch_core.py:83: UserWarning: Tensor is int32: upgrading to int64; for better performance use int64 input\n",
      "  warn('Tensor is int32: upgrading to int64; for better performance use int64 input')\n",
      "C:\\Users\\david\\Anaconda3\\envs\\MLCPU_CLONE\\lib\\site-packages\\fastai\\torch_core.py:83: UserWarning: Tensor is int32: upgrading to int64; for better performance use int64 input\n",
      "  warn('Tensor is int32: upgrading to int64; for better performance use int64 input')\n",
      "C:\\Users\\david\\Anaconda3\\envs\\MLCPU_CLONE\\lib\\site-packages\\fastai\\torch_core.py:83: UserWarning: Tensor is int32: upgrading to int64; for better performance use int64 input\n",
      "  warn('Tensor is int32: upgrading to int64; for better performance use int64 input')\n",
      "C:\\Users\\david\\Anaconda3\\envs\\MLCPU_CLONE\\lib\\site-packages\\fastai\\torch_core.py:83: UserWarning: Tensor is int32: upgrading to int64; for better performance use int64 input\n",
      "  warn('Tensor is int32: upgrading to int64; for better performance use int64 input')\n",
      "C:\\Users\\david\\Anaconda3\\envs\\MLCPU_CLONE\\lib\\site-packages\\fastai\\torch_core.py:83: UserWarning: Tensor is int32: upgrading to int64; for better performance use int64 input\n",
      "  warn('Tensor is int32: upgrading to int64; for better performance use int64 input')\n",
      "C:\\Users\\david\\Anaconda3\\envs\\MLCPU_CLONE\\lib\\site-packages\\fastai\\torch_core.py:83: UserWarning: Tensor is int32: upgrading to int64; for better performance use int64 input\n",
      "  warn('Tensor is int32: upgrading to int64; for better performance use int64 input')\n",
      "C:\\Users\\david\\Anaconda3\\envs\\MLCPU_CLONE\\lib\\site-packages\\fastai\\torch_core.py:83: UserWarning: Tensor is int32: upgrading to int64; for better performance use int64 input\n",
      "  warn('Tensor is int32: upgrading to int64; for better performance use int64 input')\n",
      "C:\\Users\\david\\Anaconda3\\envs\\MLCPU_CLONE\\lib\\site-packages\\fastai\\torch_core.py:83: UserWarning: Tensor is int32: upgrading to int64; for better performance use int64 input\n",
      "  warn('Tensor is int32: upgrading to int64; for better performance use int64 input')\n",
      "C:\\Users\\david\\Anaconda3\\envs\\MLCPU_CLONE\\lib\\site-packages\\fastai\\torch_core.py:83: UserWarning: Tensor is int32: upgrading to int64; for better performance use int64 input\n",
      "  warn('Tensor is int32: upgrading to int64; for better performance use int64 input')\n",
      "C:\\Users\\david\\Anaconda3\\envs\\MLCPU_CLONE\\lib\\site-packages\\fastai\\torch_core.py:83: UserWarning: Tensor is int32: upgrading to int64; for better performance use int64 input\n",
      "  warn('Tensor is int32: upgrading to int64; for better performance use int64 input')\n",
      "C:\\Users\\david\\Anaconda3\\envs\\MLCPU_CLONE\\lib\\site-packages\\fastai\\torch_core.py:83: UserWarning: Tensor is int32: upgrading to int64; for better performance use int64 input\n",
      "  warn('Tensor is int32: upgrading to int64; for better performance use int64 input')\n",
      "C:\\Users\\david\\Anaconda3\\envs\\MLCPU_CLONE\\lib\\site-packages\\fastai\\torch_core.py:83: UserWarning: Tensor is int32: upgrading to int64; for better performance use int64 input\n",
      "  warn('Tensor is int32: upgrading to int64; for better performance use int64 input')\n",
      "C:\\Users\\david\\Anaconda3\\envs\\MLCPU_CLONE\\lib\\site-packages\\fastai\\torch_core.py:83: UserWarning: Tensor is int32: upgrading to int64; for better performance use int64 input\n",
      "  warn('Tensor is int32: upgrading to int64; for better performance use int64 input')\n",
      "C:\\Users\\david\\Anaconda3\\envs\\MLCPU_CLONE\\lib\\site-packages\\fastai\\torch_core.py:83: UserWarning: Tensor is int32: upgrading to int64; for better performance use int64 input\n",
      "  warn('Tensor is int32: upgrading to int64; for better performance use int64 input')\n",
      "C:\\Users\\david\\Anaconda3\\envs\\MLCPU_CLONE\\lib\\site-packages\\fastai\\torch_core.py:83: UserWarning: Tensor is int32: upgrading to int64; for better performance use int64 input\n",
      "  warn('Tensor is int32: upgrading to int64; for better performance use int64 input')\n",
      "C:\\Users\\david\\Anaconda3\\envs\\MLCPU_CLONE\\lib\\site-packages\\fastai\\torch_core.py:83: UserWarning: Tensor is int32: upgrading to int64; for better performance use int64 input\n",
      "  warn('Tensor is int32: upgrading to int64; for better performance use int64 input')\n",
      "C:\\Users\\david\\Anaconda3\\envs\\MLCPU_CLONE\\lib\\site-packages\\fastai\\torch_core.py:83: UserWarning: Tensor is int32: upgrading to int64; for better performance use int64 input\n",
      "  warn('Tensor is int32: upgrading to int64; for better performance use int64 input')\n",
      "C:\\Users\\david\\Anaconda3\\envs\\MLCPU_CLONE\\lib\\site-packages\\fastai\\torch_core.py:83: UserWarning: Tensor is int32: upgrading to int64; for better performance use int64 input\n",
      "  warn('Tensor is int32: upgrading to int64; for better performance use int64 input')\n",
      "C:\\Users\\david\\Anaconda3\\envs\\MLCPU_CLONE\\lib\\site-packages\\fastai\\torch_core.py:83: UserWarning: Tensor is int32: upgrading to int64; for better performance use int64 input\n",
      "  warn('Tensor is int32: upgrading to int64; for better performance use int64 input')\n",
      "C:\\Users\\david\\Anaconda3\\envs\\MLCPU_CLONE\\lib\\site-packages\\fastai\\torch_core.py:83: UserWarning: Tensor is int32: upgrading to int64; for better performance use int64 input\n",
      "  warn('Tensor is int32: upgrading to int64; for better performance use int64 input')\n",
      "C:\\Users\\david\\Anaconda3\\envs\\MLCPU_CLONE\\lib\\site-packages\\fastai\\torch_core.py:83: UserWarning: Tensor is int32: upgrading to int64; for better performance use int64 input\n",
      "  warn('Tensor is int32: upgrading to int64; for better performance use int64 input')\n",
      "C:\\Users\\david\\Anaconda3\\envs\\MLCPU_CLONE\\lib\\site-packages\\fastai\\torch_core.py:83: UserWarning: Tensor is int32: upgrading to int64; for better performance use int64 input\n",
      "  warn('Tensor is int32: upgrading to int64; for better performance use int64 input')\n",
      "C:\\Users\\david\\Anaconda3\\envs\\MLCPU_CLONE\\lib\\site-packages\\fastai\\torch_core.py:83: UserWarning: Tensor is int32: upgrading to int64; for better performance use int64 input\n",
      "  warn('Tensor is int32: upgrading to int64; for better performance use int64 input')\n",
      "C:\\Users\\david\\Anaconda3\\envs\\MLCPU_CLONE\\lib\\site-packages\\fastai\\torch_core.py:83: UserWarning: Tensor is int32: upgrading to int64; for better performance use int64 input\n",
      "  warn('Tensor is int32: upgrading to int64; for better performance use int64 input')\n",
      "C:\\Users\\david\\Anaconda3\\envs\\MLCPU_CLONE\\lib\\site-packages\\fastai\\torch_core.py:83: UserWarning: Tensor is int32: upgrading to int64; for better performance use int64 input\n",
      "  warn('Tensor is int32: upgrading to int64; for better performance use int64 input')\n",
      "C:\\Users\\david\\Anaconda3\\envs\\MLCPU_CLONE\\lib\\site-packages\\fastai\\torch_core.py:83: UserWarning: Tensor is int32: upgrading to int64; for better performance use int64 input\n",
      "  warn('Tensor is int32: upgrading to int64; for better performance use int64 input')\n",
      "C:\\Users\\david\\Anaconda3\\envs\\MLCPU_CLONE\\lib\\site-packages\\fastai\\torch_core.py:83: UserWarning: Tensor is int32: upgrading to int64; for better performance use int64 input\n",
      "  warn('Tensor is int32: upgrading to int64; for better performance use int64 input')\n",
      "C:\\Users\\david\\Anaconda3\\envs\\MLCPU_CLONE\\lib\\site-packages\\fastai\\torch_core.py:83: UserWarning: Tensor is int32: upgrading to int64; for better performance use int64 input\n",
      "  warn('Tensor is int32: upgrading to int64; for better performance use int64 input')\n",
      "C:\\Users\\david\\Anaconda3\\envs\\MLCPU_CLONE\\lib\\site-packages\\fastai\\torch_core.py:83: UserWarning: Tensor is int32: upgrading to int64; for better performance use int64 input\n",
      "  warn('Tensor is int32: upgrading to int64; for better performance use int64 input')\n",
      "C:\\Users\\david\\Anaconda3\\envs\\MLCPU_CLONE\\lib\\site-packages\\fastai\\torch_core.py:83: UserWarning: Tensor is int32: upgrading to int64; for better performance use int64 input\n",
      "  warn('Tensor is int32: upgrading to int64; for better performance use int64 input')\n",
      "C:\\Users\\david\\Anaconda3\\envs\\MLCPU_CLONE\\lib\\site-packages\\fastai\\torch_core.py:83: UserWarning: Tensor is int32: upgrading to int64; for better performance use int64 input\n",
      "  warn('Tensor is int32: upgrading to int64; for better performance use int64 input')\n",
      "C:\\Users\\david\\Anaconda3\\envs\\MLCPU_CLONE\\lib\\site-packages\\fastai\\torch_core.py:83: UserWarning: Tensor is int32: upgrading to int64; for better performance use int64 input\n",
      "  warn('Tensor is int32: upgrading to int64; for better performance use int64 input')\n",
      "C:\\Users\\david\\Anaconda3\\envs\\MLCPU_CLONE\\lib\\site-packages\\fastai\\torch_core.py:83: UserWarning: Tensor is int32: upgrading to int64; for better performance use int64 input\n",
      "  warn('Tensor is int32: upgrading to int64; for better performance use int64 input')\n",
      "C:\\Users\\david\\Anaconda3\\envs\\MLCPU_CLONE\\lib\\site-packages\\fastai\\torch_core.py:83: UserWarning: Tensor is int32: upgrading to int64; for better performance use int64 input\n",
      "  warn('Tensor is int32: upgrading to int64; for better performance use int64 input')\n",
      "C:\\Users\\david\\Anaconda3\\envs\\MLCPU_CLONE\\lib\\site-packages\\fastai\\torch_core.py:83: UserWarning: Tensor is int32: upgrading to int64; for better performance use int64 input\n",
      "  warn('Tensor is int32: upgrading to int64; for better performance use int64 input')\n",
      "C:\\Users\\david\\Anaconda3\\envs\\MLCPU_CLONE\\lib\\site-packages\\fastai\\torch_core.py:83: UserWarning: Tensor is int32: upgrading to int64; for better performance use int64 input\n",
      "  warn('Tensor is int32: upgrading to int64; for better performance use int64 input')\n",
      "C:\\Users\\david\\Anaconda3\\envs\\MLCPU_CLONE\\lib\\site-packages\\fastai\\torch_core.py:83: UserWarning: Tensor is int32: upgrading to int64; for better performance use int64 input\n",
      "  warn('Tensor is int32: upgrading to int64; for better performance use int64 input')\n",
      "C:\\Users\\david\\Anaconda3\\envs\\MLCPU_CLONE\\lib\\site-packages\\fastai\\torch_core.py:83: UserWarning: Tensor is int32: upgrading to int64; for better performance use int64 input\n",
      "  warn('Tensor is int32: upgrading to int64; for better performance use int64 input')\n",
      "C:\\Users\\david\\Anaconda3\\envs\\MLCPU_CLONE\\lib\\site-packages\\fastai\\torch_core.py:83: UserWarning: Tensor is int32: upgrading to int64; for better performance use int64 input\n",
      "  warn('Tensor is int32: upgrading to int64; for better performance use int64 input')\n",
      "C:\\Users\\david\\Anaconda3\\envs\\MLCPU_CLONE\\lib\\site-packages\\fastai\\torch_core.py:83: UserWarning: Tensor is int32: upgrading to int64; for better performance use int64 input\n",
      "  warn('Tensor is int32: upgrading to int64; for better performance use int64 input')\n",
      "C:\\Users\\david\\Anaconda3\\envs\\MLCPU_CLONE\\lib\\site-packages\\fastai\\torch_core.py:83: UserWarning: Tensor is int32: upgrading to int64; for better performance use int64 input\n",
      "  warn('Tensor is int32: upgrading to int64; for better performance use int64 input')\n",
      "C:\\Users\\david\\Anaconda3\\envs\\MLCPU_CLONE\\lib\\site-packages\\fastai\\torch_core.py:83: UserWarning: Tensor is int32: upgrading to int64; for better performance use int64 input\n",
      "  warn('Tensor is int32: upgrading to int64; for better performance use int64 input')\n",
      "C:\\Users\\david\\Anaconda3\\envs\\MLCPU_CLONE\\lib\\site-packages\\fastai\\torch_core.py:83: UserWarning: Tensor is int32: upgrading to int64; for better performance use int64 input\n",
      "  warn('Tensor is int32: upgrading to int64; for better performance use int64 input')\n",
      "C:\\Users\\david\\Anaconda3\\envs\\MLCPU_CLONE\\lib\\site-packages\\fastai\\torch_core.py:83: UserWarning: Tensor is int32: upgrading to int64; for better performance use int64 input\n",
      "  warn('Tensor is int32: upgrading to int64; for better performance use int64 input')\n",
      "C:\\Users\\david\\Anaconda3\\envs\\MLCPU_CLONE\\lib\\site-packages\\fastai\\torch_core.py:83: UserWarning: Tensor is int32: upgrading to int64; for better performance use int64 input\n",
      "  warn('Tensor is int32: upgrading to int64; for better performance use int64 input')\n",
      "C:\\Users\\david\\Anaconda3\\envs\\MLCPU_CLONE\\lib\\site-packages\\fastai\\torch_core.py:83: UserWarning: Tensor is int32: upgrading to int64; for better performance use int64 input\n",
      "  warn('Tensor is int32: upgrading to int64; for better performance use int64 input')\n",
      "C:\\Users\\david\\Anaconda3\\envs\\MLCPU_CLONE\\lib\\site-packages\\fastai\\torch_core.py:83: UserWarning: Tensor is int32: upgrading to int64; for better performance use int64 input\n",
      "  warn('Tensor is int32: upgrading to int64; for better performance use int64 input')\n",
      "C:\\Users\\david\\Anaconda3\\envs\\MLCPU_CLONE\\lib\\site-packages\\fastai\\torch_core.py:83: UserWarning: Tensor is int32: upgrading to int64; for better performance use int64 input\n",
      "  warn('Tensor is int32: upgrading to int64; for better performance use int64 input')\n",
      "C:\\Users\\david\\Anaconda3\\envs\\MLCPU_CLONE\\lib\\site-packages\\fastai\\torch_core.py:83: UserWarning: Tensor is int32: upgrading to int64; for better performance use int64 input\n",
      "  warn('Tensor is int32: upgrading to int64; for better performance use int64 input')\n",
      "C:\\Users\\david\\Anaconda3\\envs\\MLCPU_CLONE\\lib\\site-packages\\fastai\\torch_core.py:83: UserWarning: Tensor is int32: upgrading to int64; for better performance use int64 input\n",
      "  warn('Tensor is int32: upgrading to int64; for better performance use int64 input')\n",
      "C:\\Users\\david\\Anaconda3\\envs\\MLCPU_CLONE\\lib\\site-packages\\fastai\\torch_core.py:83: UserWarning: Tensor is int32: upgrading to int64; for better performance use int64 input\n",
      "  warn('Tensor is int32: upgrading to int64; for better performance use int64 input')\n",
      "C:\\Users\\david\\Anaconda3\\envs\\MLCPU_CLONE\\lib\\site-packages\\fastai\\torch_core.py:83: UserWarning: Tensor is int32: upgrading to int64; for better performance use int64 input\n",
      "  warn('Tensor is int32: upgrading to int64; for better performance use int64 input')\n",
      "C:\\Users\\david\\Anaconda3\\envs\\MLCPU_CLONE\\lib\\site-packages\\fastai\\torch_core.py:83: UserWarning: Tensor is int32: upgrading to int64; for better performance use int64 input\n",
      "  warn('Tensor is int32: upgrading to int64; for better performance use int64 input')\n",
      "C:\\Users\\david\\Anaconda3\\envs\\MLCPU_CLONE\\lib\\site-packages\\fastai\\torch_core.py:83: UserWarning: Tensor is int32: upgrading to int64; for better performance use int64 input\n",
      "  warn('Tensor is int32: upgrading to int64; for better performance use int64 input')\n",
      "C:\\Users\\david\\Anaconda3\\envs\\MLCPU_CLONE\\lib\\site-packages\\fastai\\torch_core.py:83: UserWarning: Tensor is int32: upgrading to int64; for better performance use int64 input\n",
      "  warn('Tensor is int32: upgrading to int64; for better performance use int64 input')\n",
      "C:\\Users\\david\\Anaconda3\\envs\\MLCPU_CLONE\\lib\\site-packages\\fastai\\torch_core.py:83: UserWarning: Tensor is int32: upgrading to int64; for better performance use int64 input\n",
      "  warn('Tensor is int32: upgrading to int64; for better performance use int64 input')\n",
      "C:\\Users\\david\\Anaconda3\\envs\\MLCPU_CLONE\\lib\\site-packages\\fastai\\torch_core.py:83: UserWarning: Tensor is int32: upgrading to int64; for better performance use int64 input\n",
      "  warn('Tensor is int32: upgrading to int64; for better performance use int64 input')\n",
      "C:\\Users\\david\\Anaconda3\\envs\\MLCPU_CLONE\\lib\\site-packages\\fastai\\torch_core.py:83: UserWarning: Tensor is int32: upgrading to int64; for better performance use int64 input\n",
      "  warn('Tensor is int32: upgrading to int64; for better performance use int64 input')\n",
      "C:\\Users\\david\\Anaconda3\\envs\\MLCPU_CLONE\\lib\\site-packages\\fastai\\torch_core.py:83: UserWarning: Tensor is int32: upgrading to int64; for better performance use int64 input\n",
      "  warn('Tensor is int32: upgrading to int64; for better performance use int64 input')\n",
      "C:\\Users\\david\\Anaconda3\\envs\\MLCPU_CLONE\\lib\\site-packages\\fastai\\torch_core.py:83: UserWarning: Tensor is int32: upgrading to int64; for better performance use int64 input\n",
      "  warn('Tensor is int32: upgrading to int64; for better performance use int64 input')\n",
      "C:\\Users\\david\\Anaconda3\\envs\\MLCPU_CLONE\\lib\\site-packages\\fastai\\torch_core.py:83: UserWarning: Tensor is int32: upgrading to int64; for better performance use int64 input\n",
      "  warn('Tensor is int32: upgrading to int64; for better performance use int64 input')\n",
      "C:\\Users\\david\\Anaconda3\\envs\\MLCPU_CLONE\\lib\\site-packages\\fastai\\torch_core.py:83: UserWarning: Tensor is int32: upgrading to int64; for better performance use int64 input\n",
      "  warn('Tensor is int32: upgrading to int64; for better performance use int64 input')\n",
      "C:\\Users\\david\\Anaconda3\\envs\\MLCPU_CLONE\\lib\\site-packages\\fastai\\torch_core.py:83: UserWarning: Tensor is int32: upgrading to int64; for better performance use int64 input\n",
      "  warn('Tensor is int32: upgrading to int64; for better performance use int64 input')\n",
      "C:\\Users\\david\\Anaconda3\\envs\\MLCPU_CLONE\\lib\\site-packages\\fastai\\torch_core.py:83: UserWarning: Tensor is int32: upgrading to int64; for better performance use int64 input\n",
      "  warn('Tensor is int32: upgrading to int64; for better performance use int64 input')\n",
      "C:\\Users\\david\\Anaconda3\\envs\\MLCPU_CLONE\\lib\\site-packages\\fastai\\torch_core.py:83: UserWarning: Tensor is int32: upgrading to int64; for better performance use int64 input\n",
      "  warn('Tensor is int32: upgrading to int64; for better performance use int64 input')\n",
      "C:\\Users\\david\\Anaconda3\\envs\\MLCPU_CLONE\\lib\\site-packages\\fastai\\torch_core.py:83: UserWarning: Tensor is int32: upgrading to int64; for better performance use int64 input\n",
      "  warn('Tensor is int32: upgrading to int64; for better performance use int64 input')\n",
      "C:\\Users\\david\\Anaconda3\\envs\\MLCPU_CLONE\\lib\\site-packages\\fastai\\torch_core.py:83: UserWarning: Tensor is int32: upgrading to int64; for better performance use int64 input\n",
      "  warn('Tensor is int32: upgrading to int64; for better performance use int64 input')\n",
      "C:\\Users\\david\\Anaconda3\\envs\\MLCPU_CLONE\\lib\\site-packages\\fastai\\torch_core.py:83: UserWarning: Tensor is int32: upgrading to int64; for better performance use int64 input\n",
      "  warn('Tensor is int32: upgrading to int64; for better performance use int64 input')\n",
      "C:\\Users\\david\\Anaconda3\\envs\\MLCPU_CLONE\\lib\\site-packages\\fastai\\torch_core.py:83: UserWarning: Tensor is int32: upgrading to int64; for better performance use int64 input\n",
      "  warn('Tensor is int32: upgrading to int64; for better performance use int64 input')\n",
      "C:\\Users\\david\\Anaconda3\\envs\\MLCPU_CLONE\\lib\\site-packages\\fastai\\torch_core.py:83: UserWarning: Tensor is int32: upgrading to int64; for better performance use int64 input\n",
      "  warn('Tensor is int32: upgrading to int64; for better performance use int64 input')\n",
      "C:\\Users\\david\\Anaconda3\\envs\\MLCPU_CLONE\\lib\\site-packages\\fastai\\torch_core.py:83: UserWarning: Tensor is int32: upgrading to int64; for better performance use int64 input\n",
      "  warn('Tensor is int32: upgrading to int64; for better performance use int64 input')\n",
      "C:\\Users\\david\\Anaconda3\\envs\\MLCPU_CLONE\\lib\\site-packages\\fastai\\torch_core.py:83: UserWarning: Tensor is int32: upgrading to int64; for better performance use int64 input\n",
      "  warn('Tensor is int32: upgrading to int64; for better performance use int64 input')\n",
      "C:\\Users\\david\\Anaconda3\\envs\\MLCPU_CLONE\\lib\\site-packages\\fastai\\torch_core.py:83: UserWarning: Tensor is int32: upgrading to int64; for better performance use int64 input\n",
      "  warn('Tensor is int32: upgrading to int64; for better performance use int64 input')\n",
      "C:\\Users\\david\\Anaconda3\\envs\\MLCPU_CLONE\\lib\\site-packages\\fastai\\torch_core.py:83: UserWarning: Tensor is int32: upgrading to int64; for better performance use int64 input\n",
      "  warn('Tensor is int32: upgrading to int64; for better performance use int64 input')\n",
      "C:\\Users\\david\\Anaconda3\\envs\\MLCPU_CLONE\\lib\\site-packages\\fastai\\torch_core.py:83: UserWarning: Tensor is int32: upgrading to int64; for better performance use int64 input\n",
      "  warn('Tensor is int32: upgrading to int64; for better performance use int64 input')\n",
      "C:\\Users\\david\\Anaconda3\\envs\\MLCPU_CLONE\\lib\\site-packages\\fastai\\torch_core.py:83: UserWarning: Tensor is int32: upgrading to int64; for better performance use int64 input\n",
      "  warn('Tensor is int32: upgrading to int64; for better performance use int64 input')\n",
      "C:\\Users\\david\\Anaconda3\\envs\\MLCPU_CLONE\\lib\\site-packages\\fastai\\torch_core.py:83: UserWarning: Tensor is int32: upgrading to int64; for better performance use int64 input\n",
      "  warn('Tensor is int32: upgrading to int64; for better performance use int64 input')\n",
      "C:\\Users\\david\\Anaconda3\\envs\\MLCPU_CLONE\\lib\\site-packages\\fastai\\torch_core.py:83: UserWarning: Tensor is int32: upgrading to int64; for better performance use int64 input\n",
      "  warn('Tensor is int32: upgrading to int64; for better performance use int64 input')\n",
      "C:\\Users\\david\\Anaconda3\\envs\\MLCPU_CLONE\\lib\\site-packages\\fastai\\torch_core.py:83: UserWarning: Tensor is int32: upgrading to int64; for better performance use int64 input\n",
      "  warn('Tensor is int32: upgrading to int64; for better performance use int64 input')\n",
      "C:\\Users\\david\\Anaconda3\\envs\\MLCPU_CLONE\\lib\\site-packages\\fastai\\torch_core.py:83: UserWarning: Tensor is int32: upgrading to int64; for better performance use int64 input\n",
      "  warn('Tensor is int32: upgrading to int64; for better performance use int64 input')\n",
      "C:\\Users\\david\\Anaconda3\\envs\\MLCPU_CLONE\\lib\\site-packages\\fastai\\torch_core.py:83: UserWarning: Tensor is int32: upgrading to int64; for better performance use int64 input\n",
      "  warn('Tensor is int32: upgrading to int64; for better performance use int64 input')\n",
      "C:\\Users\\david\\Anaconda3\\envs\\MLCPU_CLONE\\lib\\site-packages\\fastai\\torch_core.py:83: UserWarning: Tensor is int32: upgrading to int64; for better performance use int64 input\n",
      "  warn('Tensor is int32: upgrading to int64; for better performance use int64 input')\n",
      "C:\\Users\\david\\Anaconda3\\envs\\MLCPU_CLONE\\lib\\site-packages\\fastai\\torch_core.py:83: UserWarning: Tensor is int32: upgrading to int64; for better performance use int64 input\n",
      "  warn('Tensor is int32: upgrading to int64; for better performance use int64 input')\n",
      "C:\\Users\\david\\Anaconda3\\envs\\MLCPU_CLONE\\lib\\site-packages\\fastai\\torch_core.py:83: UserWarning: Tensor is int32: upgrading to int64; for better performance use int64 input\n",
      "  warn('Tensor is int32: upgrading to int64; for better performance use int64 input')\n",
      "C:\\Users\\david\\Anaconda3\\envs\\MLCPU_CLONE\\lib\\site-packages\\fastai\\torch_core.py:83: UserWarning: Tensor is int32: upgrading to int64; for better performance use int64 input\n",
      "  warn('Tensor is int32: upgrading to int64; for better performance use int64 input')\n",
      "C:\\Users\\david\\Anaconda3\\envs\\MLCPU_CLONE\\lib\\site-packages\\fastai\\torch_core.py:83: UserWarning: Tensor is int32: upgrading to int64; for better performance use int64 input\n",
      "  warn('Tensor is int32: upgrading to int64; for better performance use int64 input')\n",
      "C:\\Users\\david\\Anaconda3\\envs\\MLCPU_CLONE\\lib\\site-packages\\fastai\\torch_core.py:83: UserWarning: Tensor is int32: upgrading to int64; for better performance use int64 input\n",
      "  warn('Tensor is int32: upgrading to int64; for better performance use int64 input')\n",
      "C:\\Users\\david\\Anaconda3\\envs\\MLCPU_CLONE\\lib\\site-packages\\fastai\\torch_core.py:83: UserWarning: Tensor is int32: upgrading to int64; for better performance use int64 input\n",
      "  warn('Tensor is int32: upgrading to int64; for better performance use int64 input')\n",
      "C:\\Users\\david\\Anaconda3\\envs\\MLCPU_CLONE\\lib\\site-packages\\fastai\\torch_core.py:83: UserWarning: Tensor is int32: upgrading to int64; for better performance use int64 input\n",
      "  warn('Tensor is int32: upgrading to int64; for better performance use int64 input')\n",
      "C:\\Users\\david\\Anaconda3\\envs\\MLCPU_CLONE\\lib\\site-packages\\fastai\\torch_core.py:83: UserWarning: Tensor is int32: upgrading to int64; for better performance use int64 input\n",
      "  warn('Tensor is int32: upgrading to int64; for better performance use int64 input')\n",
      "C:\\Users\\david\\Anaconda3\\envs\\MLCPU_CLONE\\lib\\site-packages\\fastai\\torch_core.py:83: UserWarning: Tensor is int32: upgrading to int64; for better performance use int64 input\n",
      "  warn('Tensor is int32: upgrading to int64; for better performance use int64 input')\n",
      "C:\\Users\\david\\Anaconda3\\envs\\MLCPU_CLONE\\lib\\site-packages\\fastai\\torch_core.py:83: UserWarning: Tensor is int32: upgrading to int64; for better performance use int64 input\n",
      "  warn('Tensor is int32: upgrading to int64; for better performance use int64 input')\n",
      "C:\\Users\\david\\Anaconda3\\envs\\MLCPU_CLONE\\lib\\site-packages\\fastai\\torch_core.py:83: UserWarning: Tensor is int32: upgrading to int64; for better performance use int64 input\n",
      "  warn('Tensor is int32: upgrading to int64; for better performance use int64 input')\n",
      "C:\\Users\\david\\Anaconda3\\envs\\MLCPU_CLONE\\lib\\site-packages\\fastai\\torch_core.py:83: UserWarning: Tensor is int32: upgrading to int64; for better performance use int64 input\n",
      "  warn('Tensor is int32: upgrading to int64; for better performance use int64 input')\n",
      "C:\\Users\\david\\Anaconda3\\envs\\MLCPU_CLONE\\lib\\site-packages\\fastai\\torch_core.py:83: UserWarning: Tensor is int32: upgrading to int64; for better performance use int64 input\n",
      "  warn('Tensor is int32: upgrading to int64; for better performance use int64 input')\n",
      "C:\\Users\\david\\Anaconda3\\envs\\MLCPU_CLONE\\lib\\site-packages\\fastai\\torch_core.py:83: UserWarning: Tensor is int32: upgrading to int64; for better performance use int64 input\n",
      "  warn('Tensor is int32: upgrading to int64; for better performance use int64 input')\n",
      "C:\\Users\\david\\Anaconda3\\envs\\MLCPU_CLONE\\lib\\site-packages\\fastai\\torch_core.py:83: UserWarning: Tensor is int32: upgrading to int64; for better performance use int64 input\n",
      "  warn('Tensor is int32: upgrading to int64; for better performance use int64 input')\n",
      "C:\\Users\\david\\Anaconda3\\envs\\MLCPU_CLONE\\lib\\site-packages\\fastai\\torch_core.py:83: UserWarning: Tensor is int32: upgrading to int64; for better performance use int64 input\n",
      "  warn('Tensor is int32: upgrading to int64; for better performance use int64 input')\n",
      "C:\\Users\\david\\Anaconda3\\envs\\MLCPU_CLONE\\lib\\site-packages\\fastai\\torch_core.py:83: UserWarning: Tensor is int32: upgrading to int64; for better performance use int64 input\n",
      "  warn('Tensor is int32: upgrading to int64; for better performance use int64 input')\n",
      "C:\\Users\\david\\Anaconda3\\envs\\MLCPU_CLONE\\lib\\site-packages\\fastai\\torch_core.py:83: UserWarning: Tensor is int32: upgrading to int64; for better performance use int64 input\n",
      "  warn('Tensor is int32: upgrading to int64; for better performance use int64 input')\n",
      "C:\\Users\\david\\Anaconda3\\envs\\MLCPU_CLONE\\lib\\site-packages\\fastai\\torch_core.py:83: UserWarning: Tensor is int32: upgrading to int64; for better performance use int64 input\n",
      "  warn('Tensor is int32: upgrading to int64; for better performance use int64 input')\n",
      "C:\\Users\\david\\Anaconda3\\envs\\MLCPU_CLONE\\lib\\site-packages\\fastai\\torch_core.py:83: UserWarning: Tensor is int32: upgrading to int64; for better performance use int64 input\n",
      "  warn('Tensor is int32: upgrading to int64; for better performance use int64 input')\n",
      "C:\\Users\\david\\Anaconda3\\envs\\MLCPU_CLONE\\lib\\site-packages\\fastai\\torch_core.py:83: UserWarning: Tensor is int32: upgrading to int64; for better performance use int64 input\n",
      "  warn('Tensor is int32: upgrading to int64; for better performance use int64 input')\n",
      "C:\\Users\\david\\Anaconda3\\envs\\MLCPU_CLONE\\lib\\site-packages\\fastai\\torch_core.py:83: UserWarning: Tensor is int32: upgrading to int64; for better performance use int64 input\n",
      "  warn('Tensor is int32: upgrading to int64; for better performance use int64 input')\n",
      "C:\\Users\\david\\Anaconda3\\envs\\MLCPU_CLONE\\lib\\site-packages\\fastai\\torch_core.py:83: UserWarning: Tensor is int32: upgrading to int64; for better performance use int64 input\n",
      "  warn('Tensor is int32: upgrading to int64; for better performance use int64 input')\n",
      "C:\\Users\\david\\Anaconda3\\envs\\MLCPU_CLONE\\lib\\site-packages\\fastai\\torch_core.py:83: UserWarning: Tensor is int32: upgrading to int64; for better performance use int64 input\n",
      "  warn('Tensor is int32: upgrading to int64; for better performance use int64 input')\n",
      "C:\\Users\\david\\Anaconda3\\envs\\MLCPU_CLONE\\lib\\site-packages\\fastai\\torch_core.py:83: UserWarning: Tensor is int32: upgrading to int64; for better performance use int64 input\n",
      "  warn('Tensor is int32: upgrading to int64; for better performance use int64 input')\n",
      "C:\\Users\\david\\Anaconda3\\envs\\MLCPU_CLONE\\lib\\site-packages\\fastai\\torch_core.py:83: UserWarning: Tensor is int32: upgrading to int64; for better performance use int64 input\n",
      "  warn('Tensor is int32: upgrading to int64; for better performance use int64 input')\n",
      "C:\\Users\\david\\Anaconda3\\envs\\MLCPU_CLONE\\lib\\site-packages\\fastai\\torch_core.py:83: UserWarning: Tensor is int32: upgrading to int64; for better performance use int64 input\n",
      "  warn('Tensor is int32: upgrading to int64; for better performance use int64 input')\n",
      "C:\\Users\\david\\Anaconda3\\envs\\MLCPU_CLONE\\lib\\site-packages\\fastai\\torch_core.py:83: UserWarning: Tensor is int32: upgrading to int64; for better performance use int64 input\n",
      "  warn('Tensor is int32: upgrading to int64; for better performance use int64 input')\n",
      "C:\\Users\\david\\Anaconda3\\envs\\MLCPU_CLONE\\lib\\site-packages\\fastai\\torch_core.py:83: UserWarning: Tensor is int32: upgrading to int64; for better performance use int64 input\n",
      "  warn('Tensor is int32: upgrading to int64; for better performance use int64 input')\n",
      "C:\\Users\\david\\Anaconda3\\envs\\MLCPU_CLONE\\lib\\site-packages\\fastai\\torch_core.py:83: UserWarning: Tensor is int32: upgrading to int64; for better performance use int64 input\n",
      "  warn('Tensor is int32: upgrading to int64; for better performance use int64 input')\n",
      "C:\\Users\\david\\Anaconda3\\envs\\MLCPU_CLONE\\lib\\site-packages\\fastai\\torch_core.py:83: UserWarning: Tensor is int32: upgrading to int64; for better performance use int64 input\n",
      "  warn('Tensor is int32: upgrading to int64; for better performance use int64 input')\n",
      "C:\\Users\\david\\Anaconda3\\envs\\MLCPU_CLONE\\lib\\site-packages\\fastai\\torch_core.py:83: UserWarning: Tensor is int32: upgrading to int64; for better performance use int64 input\n",
      "  warn('Tensor is int32: upgrading to int64; for better performance use int64 input')\n",
      "C:\\Users\\david\\Anaconda3\\envs\\MLCPU_CLONE\\lib\\site-packages\\fastai\\torch_core.py:83: UserWarning: Tensor is int32: upgrading to int64; for better performance use int64 input\n",
      "  warn('Tensor is int32: upgrading to int64; for better performance use int64 input')\n",
      "C:\\Users\\david\\Anaconda3\\envs\\MLCPU_CLONE\\lib\\site-packages\\fastai\\torch_core.py:83: UserWarning: Tensor is int32: upgrading to int64; for better performance use int64 input\n",
      "  warn('Tensor is int32: upgrading to int64; for better performance use int64 input')\n",
      "C:\\Users\\david\\Anaconda3\\envs\\MLCPU_CLONE\\lib\\site-packages\\fastai\\torch_core.py:83: UserWarning: Tensor is int32: upgrading to int64; for better performance use int64 input\n",
      "  warn('Tensor is int32: upgrading to int64; for better performance use int64 input')\n",
      "C:\\Users\\david\\Anaconda3\\envs\\MLCPU_CLONE\\lib\\site-packages\\fastai\\torch_core.py:83: UserWarning: Tensor is int32: upgrading to int64; for better performance use int64 input\n",
      "  warn('Tensor is int32: upgrading to int64; for better performance use int64 input')\n",
      "C:\\Users\\david\\Anaconda3\\envs\\MLCPU_CLONE\\lib\\site-packages\\fastai\\torch_core.py:83: UserWarning: Tensor is int32: upgrading to int64; for better performance use int64 input\n",
      "  warn('Tensor is int32: upgrading to int64; for better performance use int64 input')\n",
      "C:\\Users\\david\\Anaconda3\\envs\\MLCPU_CLONE\\lib\\site-packages\\fastai\\torch_core.py:83: UserWarning: Tensor is int32: upgrading to int64; for better performance use int64 input\n",
      "  warn('Tensor is int32: upgrading to int64; for better performance use int64 input')\n",
      "C:\\Users\\david\\Anaconda3\\envs\\MLCPU_CLONE\\lib\\site-packages\\fastai\\torch_core.py:83: UserWarning: Tensor is int32: upgrading to int64; for better performance use int64 input\n",
      "  warn('Tensor is int32: upgrading to int64; for better performance use int64 input')\n",
      "C:\\Users\\david\\Anaconda3\\envs\\MLCPU_CLONE\\lib\\site-packages\\fastai\\torch_core.py:83: UserWarning: Tensor is int32: upgrading to int64; for better performance use int64 input\n",
      "  warn('Tensor is int32: upgrading to int64; for better performance use int64 input')\n",
      "C:\\Users\\david\\Anaconda3\\envs\\MLCPU_CLONE\\lib\\site-packages\\fastai\\torch_core.py:83: UserWarning: Tensor is int32: upgrading to int64; for better performance use int64 input\n",
      "  warn('Tensor is int32: upgrading to int64; for better performance use int64 input')\n",
      "C:\\Users\\david\\Anaconda3\\envs\\MLCPU_CLONE\\lib\\site-packages\\fastai\\torch_core.py:83: UserWarning: Tensor is int32: upgrading to int64; for better performance use int64 input\n",
      "  warn('Tensor is int32: upgrading to int64; for better performance use int64 input')\n",
      "C:\\Users\\david\\Anaconda3\\envs\\MLCPU_CLONE\\lib\\site-packages\\fastai\\torch_core.py:83: UserWarning: Tensor is int32: upgrading to int64; for better performance use int64 input\n",
      "  warn('Tensor is int32: upgrading to int64; for better performance use int64 input')\n",
      "C:\\Users\\david\\Anaconda3\\envs\\MLCPU_CLONE\\lib\\site-packages\\fastai\\torch_core.py:83: UserWarning: Tensor is int32: upgrading to int64; for better performance use int64 input\n",
      "  warn('Tensor is int32: upgrading to int64; for better performance use int64 input')\n",
      "C:\\Users\\david\\Anaconda3\\envs\\MLCPU_CLONE\\lib\\site-packages\\fastai\\torch_core.py:83: UserWarning: Tensor is int32: upgrading to int64; for better performance use int64 input\n",
      "  warn('Tensor is int32: upgrading to int64; for better performance use int64 input')\n",
      "C:\\Users\\david\\Anaconda3\\envs\\MLCPU_CLONE\\lib\\site-packages\\fastai\\torch_core.py:83: UserWarning: Tensor is int32: upgrading to int64; for better performance use int64 input\n",
      "  warn('Tensor is int32: upgrading to int64; for better performance use int64 input')\n",
      "C:\\Users\\david\\Anaconda3\\envs\\MLCPU_CLONE\\lib\\site-packages\\fastai\\torch_core.py:83: UserWarning: Tensor is int32: upgrading to int64; for better performance use int64 input\n",
      "  warn('Tensor is int32: upgrading to int64; for better performance use int64 input')\n",
      "C:\\Users\\david\\Anaconda3\\envs\\MLCPU_CLONE\\lib\\site-packages\\fastai\\torch_core.py:83: UserWarning: Tensor is int32: upgrading to int64; for better performance use int64 input\n",
      "  warn('Tensor is int32: upgrading to int64; for better performance use int64 input')\n",
      "C:\\Users\\david\\Anaconda3\\envs\\MLCPU_CLONE\\lib\\site-packages\\fastai\\torch_core.py:83: UserWarning: Tensor is int32: upgrading to int64; for better performance use int64 input\n",
      "  warn('Tensor is int32: upgrading to int64; for better performance use int64 input')\n",
      "C:\\Users\\david\\Anaconda3\\envs\\MLCPU_CLONE\\lib\\site-packages\\fastai\\torch_core.py:83: UserWarning: Tensor is int32: upgrading to int64; for better performance use int64 input\n",
      "  warn('Tensor is int32: upgrading to int64; for better performance use int64 input')\n",
      "C:\\Users\\david\\Anaconda3\\envs\\MLCPU_CLONE\\lib\\site-packages\\fastai\\torch_core.py:83: UserWarning: Tensor is int32: upgrading to int64; for better performance use int64 input\n",
      "  warn('Tensor is int32: upgrading to int64; for better performance use int64 input')\n",
      "C:\\Users\\david\\Anaconda3\\envs\\MLCPU_CLONE\\lib\\site-packages\\fastai\\torch_core.py:83: UserWarning: Tensor is int32: upgrading to int64; for better performance use int64 input\n",
      "  warn('Tensor is int32: upgrading to int64; for better performance use int64 input')\n",
      "C:\\Users\\david\\Anaconda3\\envs\\MLCPU_CLONE\\lib\\site-packages\\fastai\\torch_core.py:83: UserWarning: Tensor is int32: upgrading to int64; for better performance use int64 input\n",
      "  warn('Tensor is int32: upgrading to int64; for better performance use int64 input')\n",
      "C:\\Users\\david\\Anaconda3\\envs\\MLCPU_CLONE\\lib\\site-packages\\fastai\\torch_core.py:83: UserWarning: Tensor is int32: upgrading to int64; for better performance use int64 input\n",
      "  warn('Tensor is int32: upgrading to int64; for better performance use int64 input')\n",
      "C:\\Users\\david\\Anaconda3\\envs\\MLCPU_CLONE\\lib\\site-packages\\fastai\\torch_core.py:83: UserWarning: Tensor is int32: upgrading to int64; for better performance use int64 input\n",
      "  warn('Tensor is int32: upgrading to int64; for better performance use int64 input')\n",
      "C:\\Users\\david\\Anaconda3\\envs\\MLCPU_CLONE\\lib\\site-packages\\fastai\\torch_core.py:83: UserWarning: Tensor is int32: upgrading to int64; for better performance use int64 input\n",
      "  warn('Tensor is int32: upgrading to int64; for better performance use int64 input')\n",
      "C:\\Users\\david\\Anaconda3\\envs\\MLCPU_CLONE\\lib\\site-packages\\fastai\\torch_core.py:83: UserWarning: Tensor is int32: upgrading to int64; for better performance use int64 input\n",
      "  warn('Tensor is int32: upgrading to int64; for better performance use int64 input')\n",
      "C:\\Users\\david\\Anaconda3\\envs\\MLCPU_CLONE\\lib\\site-packages\\fastai\\torch_core.py:83: UserWarning: Tensor is int32: upgrading to int64; for better performance use int64 input\n",
      "  warn('Tensor is int32: upgrading to int64; for better performance use int64 input')\n",
      "C:\\Users\\david\\Anaconda3\\envs\\MLCPU_CLONE\\lib\\site-packages\\fastai\\torch_core.py:83: UserWarning: Tensor is int32: upgrading to int64; for better performance use int64 input\n",
      "  warn('Tensor is int32: upgrading to int64; for better performance use int64 input')\n",
      "C:\\Users\\david\\Anaconda3\\envs\\MLCPU_CLONE\\lib\\site-packages\\fastai\\torch_core.py:83: UserWarning: Tensor is int32: upgrading to int64; for better performance use int64 input\n",
      "  warn('Tensor is int32: upgrading to int64; for better performance use int64 input')\n",
      "C:\\Users\\david\\Anaconda3\\envs\\MLCPU_CLONE\\lib\\site-packages\\fastai\\torch_core.py:83: UserWarning: Tensor is int32: upgrading to int64; for better performance use int64 input\n",
      "  warn('Tensor is int32: upgrading to int64; for better performance use int64 input')\n",
      "C:\\Users\\david\\Anaconda3\\envs\\MLCPU_CLONE\\lib\\site-packages\\fastai\\torch_core.py:83: UserWarning: Tensor is int32: upgrading to int64; for better performance use int64 input\n",
      "  warn('Tensor is int32: upgrading to int64; for better performance use int64 input')\n",
      "C:\\Users\\david\\Anaconda3\\envs\\MLCPU_CLONE\\lib\\site-packages\\fastai\\torch_core.py:83: UserWarning: Tensor is int32: upgrading to int64; for better performance use int64 input\n",
      "  warn('Tensor is int32: upgrading to int64; for better performance use int64 input')\n",
      "C:\\Users\\david\\Anaconda3\\envs\\MLCPU_CLONE\\lib\\site-packages\\fastai\\torch_core.py:83: UserWarning: Tensor is int32: upgrading to int64; for better performance use int64 input\n",
      "  warn('Tensor is int32: upgrading to int64; for better performance use int64 input')\n",
      "C:\\Users\\david\\Anaconda3\\envs\\MLCPU_CLONE\\lib\\site-packages\\fastai\\torch_core.py:83: UserWarning: Tensor is int32: upgrading to int64; for better performance use int64 input\n",
      "  warn('Tensor is int32: upgrading to int64; for better performance use int64 input')\n",
      "C:\\Users\\david\\Anaconda3\\envs\\MLCPU_CLONE\\lib\\site-packages\\fastai\\torch_core.py:83: UserWarning: Tensor is int32: upgrading to int64; for better performance use int64 input\n",
      "  warn('Tensor is int32: upgrading to int64; for better performance use int64 input')\n",
      "C:\\Users\\david\\Anaconda3\\envs\\MLCPU_CLONE\\lib\\site-packages\\fastai\\torch_core.py:83: UserWarning: Tensor is int32: upgrading to int64; for better performance use int64 input\n",
      "  warn('Tensor is int32: upgrading to int64; for better performance use int64 input')\n"
     ]
    }
   ],
   "source": [
    "predictions = X_test.apply(lambda x: [learn.predict(x)[1].numpy()])"
   ]
  },
  {
   "cell_type": "code",
   "execution_count": 367,
   "metadata": {},
   "outputs": [
    {
     "name": "stdout",
     "output_type": "stream",
     "text": [
      "410\n"
     ]
    }
   ],
   "source": [
    "print(len(predictions))"
   ]
  },
  {
   "cell_type": "markdown",
   "metadata": {},
   "source": [
    "These outputs are tensors and I want simple floats that I can manipulate. There's probably a better way to do this but the solution below works for now."
   ]
  },
  {
   "cell_type": "markdown",
   "metadata": {},
   "source": [
    "Converting tensors to a Series of floats: https://www.geeksforgeeks.org/convert-series-of-lists-to-one-series-in-pandas/"
   ]
  },
  {
   "cell_type": "code",
   "execution_count": 368,
   "metadata": {},
   "outputs": [],
   "source": [
    "predictions2 = predictions.apply(lambda x: [x[0][0].item()])\n",
    "predictions3 = predictions2.apply(pd.Series).stack().reset_index(drop = True)"
   ]
  },
  {
   "cell_type": "code",
   "execution_count": 369,
   "metadata": {},
   "outputs": [
    {
     "name": "stdout",
     "output_type": "stream",
     "text": [
      "410\n"
     ]
    }
   ],
   "source": [
    "print(len(predictions3))"
   ]
  },
  {
   "cell_type": "markdown",
   "metadata": {},
   "source": [
    "Now I want to visualize the predictions for relevant vs non-relevant"
   ]
  },
  {
   "cell_type": "code",
   "execution_count": 370,
   "metadata": {},
   "outputs": [],
   "source": [
    "real_predicted = pd.concat([y_test.reset_index(), predictions3], ignore_index=False, axis=1)\n",
    "real_predicted.columns = [\"index\", 'relevant', 'probability']"
   ]
  },
  {
   "cell_type": "code",
   "execution_count": 371,
   "metadata": {},
   "outputs": [
    {
     "data": {
      "text/plain": [
       "410"
      ]
     },
     "execution_count": 371,
     "metadata": {},
     "output_type": "execute_result"
    }
   ],
   "source": [
    "len(real_predicted)"
   ]
  },
  {
   "cell_type": "code",
   "execution_count": 372,
   "metadata": {},
   "outputs": [
    {
     "name": "stdout",
     "output_type": "stream",
     "text": [
      "1031    0.0\n",
      "877     0.0\n",
      "348     1.0\n",
      "1030    0.0\n",
      "1060    0.0\n",
      "Name: relevant, dtype: float64\n",
      "0    0.217990\n",
      "1    0.156394\n",
      "2    0.967359\n",
      "3    0.734675\n",
      "4   -0.008087\n",
      "dtype: float64\n",
      "   index  relevant  probability\n",
      "0   1031       0.0     0.217990\n",
      "1    877       0.0     0.156394\n",
      "2    348       1.0     0.967359\n",
      "3   1030       0.0     0.734675\n",
      "4   1060       0.0    -0.008087\n"
     ]
    }
   ],
   "source": [
    "print(y_test.head())\n",
    "print(predictions3.head())\n",
    "print(real_predicted.head())"
   ]
  },
  {
   "cell_type": "code",
   "execution_count": 373,
   "metadata": {},
   "outputs": [],
   "source": [
    "relevant = real_predicted[real_predicted.relevant == 1]['probability']\n",
    "nonrelevant = real_predicted[real_predicted.relevant == 0]['probability']"
   ]
  },
  {
   "cell_type": "code",
   "execution_count": 374,
   "metadata": {},
   "outputs": [
    {
     "data": {
      "text/plain": [
       "(array([10., 17., 22., 18., 10.,  6., 11.,  9.,  3.,  1.]),\n",
       " array([-0.054882,  0.086765,  0.228412,  0.370058,  0.511705,  0.653352,  0.794998,  0.936645,  1.078291,  1.219938,\n",
       "         1.361585]),\n",
       " <a list of 10 Patch objects>)"
      ]
     },
     "execution_count": 374,
     "metadata": {},
     "output_type": "execute_result"
    },
    {
     "data": {
      "image/png": "[encoded data removed]",
      "text/plain": [
       "<Figure size 432x288 with 1 Axes>"
      ]
     },
     "metadata": {
      "needs_background": "light"
     },
     "output_type": "display_data"
    }
   ],
   "source": [
    "plt.hist(relevant, bins = 10)"
   ]
  },
  {
   "cell_type": "code",
   "execution_count": 375,
   "metadata": {},
   "outputs": [
    {
     "data": {
      "text/plain": [
       "(array([ 6., 85., 90., 57., 29., 19.,  6.,  7.,  1.,  3.]),\n",
       " array([-3.022987e-01, -1.508940e-01,  5.107880e-04,  1.519155e-01,  3.033203e-01,  4.547250e-01,  6.061298e-01,\n",
       "         7.575345e-01,  9.089392e-01,  1.060344e+00,  1.211749e+00]),\n",
       " <a list of 10 Patch objects>)"
      ]
     },
     "execution_count": 375,
     "metadata": {},
     "output_type": "execute_result"
    },
    {
     "data": {
      "image/png": "[encoded data removed]",
      "text/plain": [
       "<Figure size 432x288 with 1 Axes>"
      ]
     },
     "metadata": {
      "needs_background": "light"
     },
     "output_type": "display_data"
    }
   ],
   "source": [
    "plt.hist(nonrelevant, bins = 10)"
   ]
  },
  {
   "cell_type": "markdown",
   "metadata": {},
   "source": [
    "It seems that most relevant websites have a probability above 0.2. There are also a some non-relevant websites with a probability above 0.2, but I am more interested in recall than precision, since I'll be reviewing any potentially relevant website for actual relevance. This has to be approach within reason, obviously. I can't review a thousand websites to find fifty relevant ones, but I can review two hundred to find one hundred relevant ones."
   ]
  },
  {
   "cell_type": "code",
   "execution_count": 376,
   "metadata": {},
   "outputs": [
    {
     "data": {
      "text/plain": [
       "410"
      ]
     },
     "execution_count": 376,
     "metadata": {},
     "output_type": "execute_result"
    }
   ],
   "source": [
    "len(real_predicted)"
   ]
  },
  {
   "cell_type": "code",
   "execution_count": 377,
   "metadata": {},
   "outputs": [],
   "source": [
    "predictions3 = real_predicted['probability'].apply(lambda x: [1 if x >= 0.15 else 0])"
   ]
  },
  {
   "cell_type": "code",
   "execution_count": 378,
   "metadata": {},
   "outputs": [],
   "source": [
    "preds = predictions3.apply(pd.Series).stack().reset_index(drop = True)"
   ]
  },
  {
   "cell_type": "code",
   "execution_count": 379,
   "metadata": {},
   "outputs": [],
   "source": [
    "real_predicted['preds'] = predictions3.apply(pd.Series).stack().reset_index(drop = True)"
   ]
  },
  {
   "cell_type": "markdown",
   "metadata": {},
   "source": [
    "Now that I've created a 1/0 predictions, I'd like to understand the accuracy, precision and recall that we're getting"
   ]
  },
  {
   "cell_type": "code",
   "execution_count": 380,
   "metadata": {},
   "outputs": [
    {
     "name": "stdout",
     "output_type": "stream",
     "text": [
      "[[181 122]\n",
      " [ 16  91]]\n"
     ]
    }
   ],
   "source": [
    "print(metrics.confusion_matrix(real_predicted['relevant'], real_predicted['preds']))"
   ]
  },
  {
   "cell_type": "code",
   "execution_count": 381,
   "metadata": {},
   "outputs": [
    {
     "name": "stdout",
     "output_type": "stream",
     "text": [
      "              precision    recall  f1-score   support\n",
      "\n",
      "         0.0       0.92      0.60      0.72       303\n",
      "         1.0       0.43      0.85      0.57       107\n",
      "\n",
      "    accuracy                           0.66       410\n",
      "   macro avg       0.67      0.72      0.65       410\n",
      "weighted avg       0.79      0.66      0.68       410\n",
      "\n"
     ]
    }
   ],
   "source": [
    "print(metrics.classification_report(real_predicted['relevant'], real_predicted['preds']))"
   ]
  },
  {
   "cell_type": "markdown",
   "metadata": {},
   "source": [
    "Although the overall accuracy is better, the precision and recall I would use are worse. I'll stick with the 100-500 model for now."
   ]
  },
  {
   "cell_type": "markdown",
   "metadata": {},
   "source": [
    "Now that I have trained a model that I am fairly happy with I will export it as a pickle file. This website was helpful: https://forums.fast.ai/t/saving-and-using-a-model/47216\n",
    "\n",
    "I found that the load_learner function looks for a file named \"export.pkl\" in whatever folder you indicate. So, if you write learn2 = load_learner(\"C:/Bible Research/data/text model.pkl\") it will search for \"C:/Bible Research/data/text model.pkl/export.pkl\". In the future, I may look for an option that gives more flexibility in naming, but for now I'm going to stick with the default. This could get sticky if I want to save multiple models in the same folder, though."
   ]
  },
  {
   "cell_type": "code",
   "execution_count": 382,
   "metadata": {},
   "outputs": [],
   "source": [
    "learn.export(\"C:/Bible Research/data/export_100_350.pkl\")"
   ]
  },
  {
   "cell_type": "code",
   "execution_count": 5,
   "metadata": {},
   "outputs": [
    {
     "data": {
      "text/html": [],
      "text/plain": [
       "<IPython.core.display.HTML object>"
      ]
     },
     "metadata": {},
     "output_type": "display_data"
    },
    {
     "data": {
      "text/html": [],
      "text/plain": [
       "<IPython.core.display.HTML object>"
      ]
     },
     "metadata": {},
     "output_type": "display_data"
    }
   ],
   "source": [
    "learn2 = load_learner(\"C:/Bible Research/data\")"
   ]
  },
  {
   "cell_type": "code",
   "execution_count": 6,
   "metadata": {},
   "outputs": [
    {
     "ename": "NameError",
     "evalue": "name 'X_test' is not defined",
     "output_type": "error",
     "traceback": [
      "\u001b[1;31m---------------------------------------------------------------------------\u001b[0m",
      "\u001b[1;31mNameError\u001b[0m                                 Traceback (most recent call last)",
      "\u001b[1;32m<ipython-input-6-01784012852e>\u001b[0m in \u001b[0;36m<module>\u001b[1;34m\u001b[0m\n\u001b[1;32m----> 1\u001b[1;33m \u001b[0mprint\u001b[0m\u001b[1;33m(\u001b[0m\u001b[0mX_test\u001b[0m\u001b[1;33m.\u001b[0m\u001b[0mhead\u001b[0m\u001b[1;33m(\u001b[0m\u001b[1;36m1\u001b[0m\u001b[1;33m)\u001b[0m\u001b[1;33m.\u001b[0m\u001b[0mapply\u001b[0m\u001b[1;33m(\u001b[0m\u001b[1;32mlambda\u001b[0m \u001b[0mx\u001b[0m\u001b[1;33m:\u001b[0m \u001b[1;33m[\u001b[0m\u001b[0mlearn\u001b[0m\u001b[1;33m.\u001b[0m\u001b[0mpredict\u001b[0m\u001b[1;33m(\u001b[0m\u001b[0mx\u001b[0m\u001b[1;33m)\u001b[0m\u001b[1;33m[\u001b[0m\u001b[1;36m1\u001b[0m\u001b[1;33m]\u001b[0m\u001b[1;33m.\u001b[0m\u001b[0mnumpy\u001b[0m\u001b[1;33m(\u001b[0m\u001b[1;33m)\u001b[0m\u001b[1;33m]\u001b[0m\u001b[1;33m)\u001b[0m\u001b[1;33m)\u001b[0m\u001b[1;33m\u001b[0m\u001b[1;33m\u001b[0m\u001b[0m\n\u001b[0m\u001b[0;32m      2\u001b[0m \u001b[0mprint\u001b[0m\u001b[1;33m(\u001b[0m\u001b[0mX_test\u001b[0m\u001b[1;33m.\u001b[0m\u001b[0mhead\u001b[0m\u001b[1;33m(\u001b[0m\u001b[1;36m1\u001b[0m\u001b[1;33m)\u001b[0m\u001b[1;33m.\u001b[0m\u001b[0mapply\u001b[0m\u001b[1;33m(\u001b[0m\u001b[1;32mlambda\u001b[0m \u001b[0mx\u001b[0m\u001b[1;33m:\u001b[0m \u001b[1;33m[\u001b[0m\u001b[0mlearn2\u001b[0m\u001b[1;33m.\u001b[0m\u001b[0mpredict\u001b[0m\u001b[1;33m(\u001b[0m\u001b[0mx\u001b[0m\u001b[1;33m)\u001b[0m\u001b[1;33m[\u001b[0m\u001b[1;36m1\u001b[0m\u001b[1;33m]\u001b[0m\u001b[1;33m.\u001b[0m\u001b[0mnumpy\u001b[0m\u001b[1;33m(\u001b[0m\u001b[1;33m)\u001b[0m\u001b[1;33m]\u001b[0m\u001b[1;33m)\u001b[0m\u001b[1;33m)\u001b[0m\u001b[1;33m\u001b[0m\u001b[1;33m\u001b[0m\u001b[0m\n",
      "\u001b[1;31mNameError\u001b[0m: name 'X_test' is not defined"
     ]
    }
   ],
   "source": [
    "print(X_test.head(1).apply(lambda x: [learn.predict(x)[1].numpy()]))\n",
    "print(X_test.head(1).apply(lambda x: [learn2.predict(x)[1].numpy()]))"
   ]
  },
  {
   "cell_type": "markdown",
   "metadata": {},
   "source": [
    "It looks like I've successfully exported and loaded the model for later use. Yay!!"
   ]
  }
 ],
 "metadata": {
  "kernelspec": {
   "display_name": "Python 3",
   "language": "python",
   "name": "python3"
  },
  "language_info": {
   "codemirror_mode": {
    "name": "ipython",
    "version": 3
   },
   "file_extension": ".py",
   "mimetype": "text/x-python",
   "name": "python",
   "nbconvert_exporter": "python",
   "pygments_lexer": "ipython3",
   "version": "3.7.4"
  }
 },
 "nbformat": 4,
 "nbformat_minor": 4
}
