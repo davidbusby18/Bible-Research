{
 "cells": [
  {
   "cell_type": "markdown",
   "metadata": {},
   "source": [
    "# Finding Verse References\n",
    "\n",
    "In this notebook I will create a system to extract Bible verse references from the labeled websites."
   ]
  },
  {
   "cell_type": "code",
   "execution_count": 77,
   "metadata": {},
   "outputs": [],
   "source": [
    "import pandas as pd\n",
    "import sqlite3\n",
    "import re"
   ]
  },
  {
   "cell_type": "markdown",
   "metadata": {},
   "source": [
    "In order to determine my approach I will create a short string containing three Bible verse references from two books."
   ]
  },
  {
   "cell_type": "code",
   "execution_count": 222,
   "metadata": {},
   "outputs": [],
   "source": [
    "string = \"hey this is Gensis 3:1 and Gensis 4:5 or Gensis 4 or Numbers 1:3 and Mth 21:18 and 1 John 1:2\""
   ]
  },
  {
   "cell_type": "markdown",
   "metadata": {},
   "source": [
    "Next, I will use regular expressions to extract any Bible verses in the form of BOOK CHAPTER:VERSE"
   ]
  },
  {
   "cell_type": "code",
   "execution_count": 315,
   "metadata": {},
   "outputs": [
    {
     "name": "stdout",
     "output_type": "stream",
     "text": [
      "['Gensis 3', 'Gensis 4', 'Gensis 4', 'Numbers 1', 'Mth 21', 'and 1', 'John 1']\n",
      "{'Numbers 1', 'John 1', 'Gensis 3', 'and 1', 'Gensis 4', 'Mth 21'}\n",
      "['Gensis 3:1', 'Gensis 4:5', 'Numbers 1:3', 'Mth 21:18', 'John 1:2']\n",
      "['1 John 1:2']\n",
      "['Numbers 1', 'John 1', 'Gensis 3', 'and 1', 'Gensis 4', 'Mth 21']\n"
     ]
    }
   ],
   "source": [
    "chapter=re.compile(r'\\w+ \\d+')\n",
    "chapter_verse=re.compile(r'\\w+ \\d+:\\d+')\n",
    "n_chapter_verse=re.compile(r'\\d \\w+ \\d+:\\d+')\n",
    "\n",
    "c=chapter.findall(string)\n",
    "cv=chapter_verse.findall(string)\n",
    "ncv=n_chapter_verse.findall(string)\n",
    "\n",
    "print(c)\n",
    "print(set(c))\n",
    "print(cv)\n",
    "print(ncv)\n",
    "\n",
    "\n",
    "print(list(set(chapter.findall(string))))"
   ]
  },
  {
   "cell_type": "code",
   "execution_count": 316,
   "metadata": {},
   "outputs": [
    {
     "data": {
      "text/plain": [
       "['Gensis 3',\n",
       " 'Gensis 4',\n",
       " 'Gensis 4',\n",
       " 'Numbers 1',\n",
       " 'Mth 21',\n",
       " 'and 1',\n",
       " 'John 1',\n",
       " 'Gensis 3:1',\n",
       " 'Gensis 4:5',\n",
       " 'Numbers 1:3',\n",
       " 'Mth 21:18',\n",
       " 'John 1:2']"
      ]
     },
     "execution_count": 316,
     "metadata": {},
     "output_type": "execute_result"
    }
   ],
   "source": [
    "c + cv"
   ]
  },
  {
   "cell_type": "markdown",
   "metadata": {},
   "source": [
    "Extracting the chapter and verse from each reference."
   ]
  },
  {
   "cell_type": "code",
   "execution_count": 345,
   "metadata": {},
   "outputs": [],
   "source": [
    "test_verse = \"1 John 2:4\"\n",
    "test_verse = \"Matthew 3:16\"\n",
    "test_verse = \"Rev 5\""
   ]
  },
  {
   "cell_type": "code",
   "execution_count": 346,
   "metadata": {},
   "outputs": [
    {
     "data": {
      "text/plain": [
       "'5'"
      ]
     },
     "execution_count": 346,
     "metadata": {},
     "output_type": "execute_result"
    }
   ],
   "source": [
    "test_verse.rsplit(' ', 1)[1].split(':')[0]"
   ]
  },
  {
   "cell_type": "code",
   "execution_count": 347,
   "metadata": {},
   "outputs": [
    {
     "ename": "IndexError",
     "evalue": "list index out of range",
     "output_type": "error",
     "traceback": [
      "\u001b[1;31m---------------------------------------------------------------------------\u001b[0m",
      "\u001b[1;31mIndexError\u001b[0m                                Traceback (most recent call last)",
      "\u001b[1;32m<ipython-input-347-864482945d2b>\u001b[0m in \u001b[0;36m<module>\u001b[1;34m\u001b[0m\n\u001b[1;32m----> 1\u001b[1;33m \u001b[0mtest_vs3\u001b[0m\u001b[1;33m.\u001b[0m\u001b[0mrsplit\u001b[0m\u001b[1;33m(\u001b[0m\u001b[1;34m' '\u001b[0m\u001b[1;33m,\u001b[0m \u001b[1;36m1\u001b[0m\u001b[1;33m)\u001b[0m\u001b[1;33m[\u001b[0m\u001b[1;36m1\u001b[0m\u001b[1;33m]\u001b[0m\u001b[1;33m.\u001b[0m\u001b[0msplit\u001b[0m\u001b[1;33m(\u001b[0m\u001b[1;34m':'\u001b[0m\u001b[1;33m)\u001b[0m\u001b[1;33m[\u001b[0m\u001b[1;36m1\u001b[0m\u001b[1;33m]\u001b[0m\u001b[1;33m\u001b[0m\u001b[1;33m\u001b[0m\u001b[0m\n\u001b[0m",
      "\u001b[1;31mIndexError\u001b[0m: list index out of range"
     ]
    }
   ],
   "source": [
    "test_verse.rsplit(' ', 1)[1].split(':')[1]"
   ]
  },
  {
   "cell_type": "markdown",
   "metadata": {},
   "source": [
    "I'll have to create an exception for references without a verse."
   ]
  },
  {
   "cell_type": "markdown",
   "metadata": {},
   "source": [
    "# Creating a Dataset of Extracted Bible Verse References\n",
    "Now that I have a way to extract Bible verse references from a string, it's time to search through the text data I pulled from the labeled websites. I will save these Bible verse refernces in a seperate file that contains the website and also a column for the book, chapter and verse."
   ]
  },
  {
   "cell_type": "markdown",
   "metadata": {},
   "source": [
    "First, I will connect to the SQL database and pull the text data from the labeled websites that are relevant. Eventually, this will be part of a pipeline that new websites are processed through, but I want to perfect the process using the data I've already labeled."
   ]
  },
  {
   "cell_type": "code",
   "execution_count": 23,
   "metadata": {},
   "outputs": [],
   "source": [
    "conn = sqlite3.connect(r\"C:\\Bible Research\\SQL database\\biblesql.db\")"
   ]
  },
  {
   "cell_type": "code",
   "execution_count": 40,
   "metadata": {},
   "outputs": [
    {
     "data": {
      "text/html": [
       "<div>\n",
       "<style scoped>\n",
       "    .dataframe tbody tr th:only-of-type {\n",
       "        vertical-align: middle;\n",
       "    }\n",
       "\n",
       "    .dataframe tbody tr th {\n",
       "        vertical-align: top;\n",
       "    }\n",
       "\n",
       "    .dataframe thead th {\n",
       "        text-align: right;\n",
       "    }\n",
       "</style>\n",
       "<table border=\"1\" class=\"dataframe\">\n",
       "  <thead>\n",
       "    <tr style=\"text-align: right;\">\n",
       "      <th></th>\n",
       "      <th>count(*)</th>\n",
       "    </tr>\n",
       "  </thead>\n",
       "  <tbody>\n",
       "    <tr>\n",
       "      <th>0</th>\n",
       "      <td>421</td>\n",
       "    </tr>\n",
       "  </tbody>\n",
       "</table>\n",
       "</div>"
      ],
      "text/plain": [
       "   count(*)\n",
       "0       421"
      ]
     },
     "execution_count": 40,
     "metadata": {},
     "output_type": "execute_result"
    }
   ],
   "source": [
    "pd.read_sql('select count(*) from labeled_text where relevant = 1', conn)"
   ]
  },
  {
   "cell_type": "code",
   "execution_count": 41,
   "metadata": {},
   "outputs": [],
   "source": [
    "text_data = pd.read_sql('select * from labeled_text where relevant = 1', conn)"
   ]
  },
  {
   "cell_type": "code",
   "execution_count": 42,
   "metadata": {},
   "outputs": [
    {
     "data": {
      "text/plain": [
       "Index(['website', 'relevant', 'text'], dtype='object')"
      ]
     },
     "execution_count": 42,
     "metadata": {},
     "output_type": "execute_result"
    }
   ],
   "source": [
    "text_data.columns"
   ]
  },
  {
   "cell_type": "markdown",
   "metadata": {},
   "source": [
    "Next, I will define regular expressions that will recognize Bible references as:\n",
    "1. A word followed by a number\n",
    "2. A number followed by a word that is also followed by a number\n",
    "3. A word that is followed by a number then a colon then a number\n",
    "4. A number followed by a word that is followed by a number then a colon then a number\n",
    "\n",
    "I will also create reguralar expressions that capture things like \"First Samuel\" or \"Second Peter\"."
   ]
  },
  {
   "cell_type": "code",
   "execution_count": 280,
   "metadata": {},
   "outputs": [],
   "source": [
    "chapter=re.compile(r'\\w+ \\d+')\n",
    "n_chapter=re.compile(r'\\d \\w+ \\d+')\n",
    "f_chapter=re.compile(r'first \\w+ \\d+')\n",
    "F_chapter=re.compile(r'First \\w+ \\d+')\n",
    "s_chapter=re.compile(r'second \\w+ \\d+')\n",
    "S_chapter=re.compile(r'Second \\w+ \\d+')\n",
    "t_chapter=re.compile(r'third \\w+ \\d+')\n",
    "T_chapter=re.compile(r'Third \\w+ \\d+')\n",
    "\n",
    "chapter_verse=re.compile(r'\\w+ \\d+:\\d+')\n",
    "n_chapter_verse = re.compile(r'\\d \\w+ \\d+:\\d+')\n",
    "f_chapter_verse = re.compile(r'first \\w+ \\d+:\\d+')\n",
    "F_chapter_verse = re.compile(r'First \\w+ \\d+:\\d+')\n",
    "s_chapter_verse = re.compile(r'second \\w+ \\d+:\\d+')\n",
    "S_chapter_verse = re.compile(r'Second \\w+ \\d+:\\d+')\n",
    "t_chapter_verse = re.compile(r'third \\w+ \\d+:\\d+')\n",
    "T_chapter_verse = re.compile(r'Third \\w+ \\d+:\\d+')"
   ]
  },
  {
   "cell_type": "markdown",
   "metadata": {},
   "source": [
    "Next, I'll create a dictionary of book names and abbreviations in order to extract scriptural references from the labeled text. Later, I'll use it to assign the book number to a variable *b*. This site had a lot of the information I needed: https://www.aresearchguide.com/bibleabb.html"
   ]
  },
  {
   "cell_type": "code",
   "execution_count": 473,
   "metadata": {},
   "outputs": [],
   "source": [
    "books = {'genesis': 1, 'gen': 1, 'ge': 1, 'gn': 1,\n",
    "          'exodus': 2, 'ex': 2, 'exod': 2,\n",
    "          'leviticus': 3, 'lev': 3, 'le': 3, 'lv': 3,\n",
    "          'numbers': 4, 'num': 4, 'nu': 4, 'nm': 4, 'nb': 4,\n",
    "          'deuteronomy': 5, 'deut': 5, 'de': 5, 'dt': 5,\n",
    "          'joshua': 6, 'josh': 6, 'jos': 6, 'jsh': 6,\n",
    "          'judges': 7, 'judg': 7, 'jdg': 7, 'jg': 7, 'jdgs': 7,\n",
    "          'ruth': 8, 'rth': 8, 'ru': 8,\n",
    "          'first samuel': 9, '1 samuel': 9, '1 sam': 9, '1 sm': 9, '1 sa': 9, '1 s': 9,\n",
    "          'second samuel': 10, '2 samuel': 10, '2 sam': 10, '2 sm': 10, '2 sa': 10, '2 s': 10,\n",
    "          'first kings': 11, '1 kings': 11, '1 kgs': 11,  '1 kin': 11, '1 ki': 11, '1 k': 11,\n",
    "          'second kings': 12, '2 kings': 12, '2 kgs': 12, '2 kin': 12, '2 ki': 12, '2 k': 12,\n",
    "          'first chronicles': 13, '1 chronicles': 13, '1 chr': 13, '1 ch': 13, '1 chron': 13,\n",
    "          'second chronicles': 14, '2 chronicles': 14, '2 chr': 14, '2 ch': 14, '2 chron': 14,\n",
    "          'ezra': 15, 'ezra': 15, 'ezr': 15, 'ez': 15, \n",
    "          'nehemiah': 16, 'neh': 16, 'ne': 16,\n",
    "          'esther': 17, 'esth': 17, 'est': 17, 'es': 17,\n",
    "          'job': 18, 'job': 18, 'jb': 18, \n",
    "          'psalms': 19, 'ps': 19, 'psalm': 19, 'pslm': 19, 'psa': 19, 'psm': 19, \n",
    "          'proverbs': 20, 'prov': 20, 'pro': 20, 'prv': 20, 'pr': 20,\n",
    "          'ecclesiastes': 21, 'eccl': 21, 'eccles': 21, 'eccle': 21, 'ecc': 21, 'ec': 21,\n",
    "          'solomon': 22, 'song': 22,\n",
    "          'isaiah': 23, 'isa': 23, 'is': 23, \n",
    "          'jeremiah': 24, 'jer': 24, 'je': 24, 'jr': 24,\n",
    "          'lamentations': 25, 'lam': 25, 'la': 25,\n",
    "          'ezekial': 26, 'ezek': 26, 'eze': 26, 'ezk': 26,\n",
    "          'daniel': 27, 'dan': 27, 'da': 27, 'dn': 27,\n",
    "          'hosea': 28, 'hos': 28, 'ho': 28,\n",
    "          'joel': 29, 'jl': 29, \n",
    "          'amos': 30, 'am': 30,\n",
    "          'obadiah': 31, 'obad': 31, 'ob': 31,\n",
    "          'jonah': 32, 'jon': 32, 'jnh': 32,\n",
    "          'micah': 33, 'mic': 33, 'mc': 33,\n",
    "          'nahum': 34, 'nah': 34, 'na': 34,\n",
    "          'habakkuk': 35, 'hab': 35,\n",
    "          'zephaniah': 36, 'zeph': 36, 'zep': 36, 'zp': 36,\n",
    "          'haggai': 37, 'hag': 37, 'hg': 37,\n",
    "          'zechariah': 38, 'zech': 38, 'zec': 38, 'zc': 38,\n",
    "          'malachi': 39, 'mal': 39, 'ml': 39,\n",
    "          'matthew': 40, 'mt': 40, 'matt': 40,\n",
    "          'mark': 40, 'mk': 41, 'mrk': 41,\n",
    "          'luke': 42, 'lk': 42, 'luk': 42,\n",
    "          'john': 43, 'jn': 43, 'jhn': 43,\n",
    "          'apostles': 44, 'acts': 44,\n",
    "          'romans': 45, 'rom': 45, 'ro': 45, 'rm': 45,\n",
    "          'first corinthians': 46, '1 corinthians': 46, '1 cor': 46, '1 co': 46,\n",
    "          'second corinthians': 47, '2 corinthians': 47, '2 cor': 47, '2 co': 47,\n",
    "          'galatians': 48, 'gal': 48, 'ga': 48, 'ephesians': 49,\n",
    "          'eph': 49, 'ephes': 49, \n",
    "          'philippians': 50, 'phil': 50, 'php': 50, 'pp': 50,\n",
    "          'colossians': 51, 'col': 51,\n",
    "          'first thessalonians': 52, '1 thessalonians': 52, '1 thess': 52, '1 thes': 52, '1 th': 52,\n",
    "          'second thessalonians': 53, '2 thessalonians': 53, '2 thess': 53, '2 thes': 53, '2 th': 53,\n",
    "          'first timothy': 54, '1 timothy': 54, '1 tim': 54, '1 ti': 54, \n",
    "          'second timothy': 55, '2 timothy': 55, '2 tim': 55, '2 ti': 55,\n",
    "          'titus': 56, 'tit': 56, 'ti': 56,\n",
    "          'philemon': 57, 'philem': 57, 'phm': 57, 'pm': 57,\n",
    "          'hebrews': 58, 'heb': 58, \n",
    "          'james': 59, 'jas': 59, 'jm': 59,\n",
    "          'first peter': 60, '1 peter': 60, '1 pet': 60, '1 pe': 60, '1 pt': 60, '1 p': 60,\n",
    "          'second peter': 61, '2 peter': 61, '2 pet': 61, '2 pe': 61, '2 pt': 61, '2 p': 61,\n",
    "          'first john': 62, '1 john': 62, '1 jn': 62, '1 jhn': 62, '1 j': 62,\n",
    "          'second john': 63, '2 john': 63, '2 jn': 63, '2 jhn': 63, '2 j': 63,\n",
    "          'third john': 64, '3 john': 64, '3 jn': 64, '3 jhn': 64, '3 j': 64, \n",
    "          'jude': 65, 'jud': 65, 'jd': 65,\n",
    "          'revelation': 66, 'rev': 66}"
   ]
  },
  {
   "cell_type": "markdown",
   "metadata": {},
   "source": [
    "Next, I will create a function that will filter to the entries that contain one of the common Bible book references found in *books*. These two sites were helpful: 1) https://www.geeksforgeeks.org/python-filter-list-of-strings-based-on-the-substring-list/ and 2) https://stackoverflow.com/questions/6266727/python-cut-off-the-last-word-of-a-sentence."
   ]
  },
  {
   "cell_type": "code",
   "execution_count": 479,
   "metadata": {},
   "outputs": [],
   "source": [
    "def Filter(string, substr):\n",
    "    return [str for str in string if str.lower().rsplit(' ', 1)[0] in substr]"
   ]
  },
  {
   "cell_type": "code",
   "execution_count": 480,
   "metadata": {},
   "outputs": [],
   "source": [
    "bad_list = ['1 John 3:6','Obadiah 6:1', 'The 475', 'Lk 1:2', 'Harry Potter 234', 'issue 51', 'Isaiah 53', '1 John 3']"
   ]
  },
  {
   "cell_type": "code",
   "execution_count": 481,
   "metadata": {},
   "outputs": [
    {
     "data": {
      "text/plain": [
       "['1 John 3:6', 'Obadiah 6:1', 'Lk 1:2', 'Isaiah 53', '1 John 3']"
      ]
     },
     "execution_count": 481,
     "metadata": {},
     "output_type": "execute_result"
    }
   ],
   "source": [
    "Filter(bad_list, books)"
   ]
  },
  {
   "cell_type": "markdown",
   "metadata": {},
   "source": [
    "Another thing I will need to do is remove Bible references that are already captured in greater detail by another regular expression. Here is a useful function for doing this: https://stackoverflow.com/questions/21720199/python-remove-any-element-from-a-list-of-strings-that-is-a-substring-of-anothe"
   ]
  },
  {
   "cell_type": "code",
   "execution_count": 482,
   "metadata": {},
   "outputs": [],
   "source": [
    "def deduplicator(string_list):\n",
    "    out = []\n",
    "    for s in string_list:\n",
    "        if not any([s in r for r in string_list if s != r]):\n",
    "            out.append(s)\n",
    "    return out"
   ]
  },
  {
   "cell_type": "code",
   "execution_count": 483,
   "metadata": {},
   "outputs": [
    {
     "data": {
      "text/plain": [
       "['1 John 3:6', 'Obadiah 6:1', 'Lk 1:2', 'Isaiah 53']"
      ]
     },
     "execution_count": 483,
     "metadata": {},
     "output_type": "execute_result"
    }
   ],
   "source": [
    "deduplicator(Filter(bad_list, books))"
   ]
  },
  {
   "cell_type": "markdown",
   "metadata": {},
   "source": [
    "Finally, I will create a FOR loop to extract unique Bible references from the text data related to each labeled website in *text_data*."
   ]
  },
  {
   "cell_type": "code",
   "execution_count": 484,
   "metadata": {},
   "outputs": [],
   "source": [
    "df = pd.DataFrame(columns = ['website', 'relevant', 'reference'])\n",
    "n = 0\n",
    "\n",
    "for index, row in text_data.iterrows():\n",
    "    \n",
    "    c=Filter(list(set(chapter.findall(row[2]))), books)\n",
    "    nc=Filter(list(set(n_chapter.findall(row[2]))), books)\n",
    "    fc=Filter(list(set(f_chapter.findall(row[2]))), books)\n",
    "    Fc=Filter(list(set(F_chapter.findall(row[2]))), books)\n",
    "    sc=Filter(list(set(s_chapter.findall(row[2]))), books)\n",
    "    Sc=Filter(list(set(S_chapter.findall(row[2]))), books)\n",
    "    tc=Filter(list(set(t_chapter.findall(row[2]))), books)\n",
    "    Tc=Filter(list(set(T_chapter.findall(row[2]))), books)\n",
    "    \n",
    "    cv=Filter(list(set(chapter_verse.findall(row[2]))), books)\n",
    "    ncv=Filter(list(set(n_chapter_verse.findall(row[2]))), books)\n",
    "    fcv=Filter(list(set(f_chapter_verse.findall(row[2]))), books)\n",
    "    Fcv=Filter(list(set(F_chapter_verse.findall(row[2]))), books)\n",
    "    scv=Filter(list(set(s_chapter_verse.findall(row[2]))), books)\n",
    "    Scv=Filter(list(set(S_chapter_verse.findall(row[2]))), books)\n",
    "    tcv=Filter(list(set(t_chapter_verse.findall(row[2]))), books)\n",
    "    Tcv=Filter(list(set(T_chapter_verse.findall(row[2]))), books)\n",
    "        \n",
    "    master_list =  deduplicator(ncv+fcv+Fcv+scv+Scv+tcv+Tcv+cv+nc+fc+Fc+sc+Sc+tc+Tc+c)\n",
    "    \n",
    "    temp = pd.DataFrame(master_list, columns = ['reference'])\n",
    "    temp['website'] = row[0]\n",
    "    temp['relevant'] = row[1]\n",
    "    \n",
    "    df = df.append(temp,ignore_index=True,sort=False)\n",
    "    \n",
    "    n+=1    "
   ]
  },
  {
   "cell_type": "code",
   "execution_count": 485,
   "metadata": {},
   "outputs": [
    {
     "data": {
      "text/html": [
       "<div>\n",
       "<style scoped>\n",
       "    .dataframe tbody tr th:only-of-type {\n",
       "        vertical-align: middle;\n",
       "    }\n",
       "\n",
       "    .dataframe tbody tr th {\n",
       "        vertical-align: top;\n",
       "    }\n",
       "\n",
       "    .dataframe thead th {\n",
       "        text-align: right;\n",
       "    }\n",
       "</style>\n",
       "<table border=\"1\" class=\"dataframe\">\n",
       "  <thead>\n",
       "    <tr style=\"text-align: right;\">\n",
       "      <th></th>\n",
       "      <th>website</th>\n",
       "      <th>relevant</th>\n",
       "      <th>reference</th>\n",
       "    </tr>\n",
       "  </thead>\n",
       "  <tbody>\n",
       "    <tr>\n",
       "      <th>0</th>\n",
       "      <td>http://apologeticspress.org/apcontent.aspx?cat...</td>\n",
       "      <td>1.0</td>\n",
       "      <td>Joshua 11:3</td>\n",
       "    </tr>\n",
       "    <tr>\n",
       "      <th>1</th>\n",
       "      <td>http://apologeticspress.org/article/1217</td>\n",
       "      <td>1.0</td>\n",
       "      <td>1 Corinthians 3:10</td>\n",
       "    </tr>\n",
       "    <tr>\n",
       "      <th>2</th>\n",
       "      <td>http://apologeticspress.org/article/1217</td>\n",
       "      <td>1.0</td>\n",
       "      <td>2 Timothy 4:20</td>\n",
       "    </tr>\n",
       "    <tr>\n",
       "      <th>3</th>\n",
       "      <td>http://apologeticspress.org/article/1217</td>\n",
       "      <td>1.0</td>\n",
       "      <td>Romans 16:23</td>\n",
       "    </tr>\n",
       "    <tr>\n",
       "      <th>4</th>\n",
       "      <td>http://apologeticspress.org/article/1217</td>\n",
       "      <td>1.0</td>\n",
       "      <td>Acts 19:22</td>\n",
       "    </tr>\n",
       "  </tbody>\n",
       "</table>\n",
       "</div>"
      ],
      "text/plain": [
       "                                             website  relevant  \\\n",
       "0  http://apologeticspress.org/apcontent.aspx?cat...       1.0   \n",
       "1           http://apologeticspress.org/article/1217       1.0   \n",
       "2           http://apologeticspress.org/article/1217       1.0   \n",
       "3           http://apologeticspress.org/article/1217       1.0   \n",
       "4           http://apologeticspress.org/article/1217       1.0   \n",
       "\n",
       "            reference  \n",
       "0         Joshua 11:3  \n",
       "1  1 Corinthians 3:10  \n",
       "2      2 Timothy 4:20  \n",
       "3        Romans 16:23  \n",
       "4          Acts 19:22  "
      ]
     },
     "execution_count": 485,
     "metadata": {},
     "output_type": "execute_result"
    }
   ],
   "source": [
    "df.head()"
   ]
  },
  {
   "cell_type": "code",
   "execution_count": 486,
   "metadata": {},
   "outputs": [
    {
     "data": {
      "text/plain": [
       "258"
      ]
     },
     "execution_count": 486,
     "metadata": {},
     "output_type": "execute_result"
    }
   ],
   "source": [
    "df.website.nunique()"
   ]
  },
  {
   "cell_type": "code",
   "execution_count": 495,
   "metadata": {},
   "outputs": [
    {
     "data": {
      "text/plain": [
       "421"
      ]
     },
     "execution_count": 495,
     "metadata": {},
     "output_type": "execute_result"
    }
   ],
   "source": [
    "text_data.website.nunique()"
   ]
  },
  {
   "cell_type": "code",
   "execution_count": 487,
   "metadata": {},
   "outputs": [
    {
     "data": {
      "text/plain": [
       "1486"
      ]
     },
     "execution_count": 487,
     "metadata": {},
     "output_type": "execute_result"
    }
   ],
   "source": [
    "df.reference.nunique()"
   ]
  },
  {
   "cell_type": "code",
   "execution_count": 498,
   "metadata": {},
   "outputs": [
    {
     "data": {
      "text/plain": [
       "1824"
      ]
     },
     "execution_count": 498,
     "metadata": {},
     "output_type": "execute_result"
    }
   ],
   "source": [
    "len(df.reference)"
   ]
  },
  {
   "cell_type": "markdown",
   "metadata": {},
   "source": [
    "Only 258 of the 421 relevant websites contain specific Biblical references, but this is a great start. I can now tie these 258 articles to 1,486 unique scriputes with 1,824 links. \n",
    "\n",
    "In order to do this I will create the variables *b* for book, *c* for chapter, and *v* for verse. "
   ]
  },
  {
   "cell_type": "markdown",
   "metadata": {},
   "source": [
    "This function will return the book number when the book name or abbreviation is input."
   ]
  },
  {
   "cell_type": "code",
   "execution_count": 489,
   "metadata": {},
   "outputs": [],
   "source": [
    "def find_book(item):\n",
    "    if item in books:\n",
    "        return books[item]"
   ]
  },
  {
   "cell_type": "code",
   "execution_count": 490,
   "metadata": {},
   "outputs": [
    {
     "data": {
      "text/plain": [
       "39"
      ]
     },
     "execution_count": 490,
     "metadata": {},
     "output_type": "execute_result"
    }
   ],
   "source": [
    "find_book('mal')"
   ]
  },
  {
   "cell_type": "markdown",
   "metadata": {},
   "source": [
    "Finally, I will create a FOR loop to iterate through the website references and assign values for \"b\", \"c\" and \"v\"."
   ]
  },
  {
   "cell_type": "code",
   "execution_count": 493,
   "metadata": {},
   "outputs": [],
   "source": [
    "linked = pd.DataFrame(columns = ['website', 'relevant', 'reference','b', 'c','v'])\n",
    "n = 0\n",
    "\n",
    "for index, row in df.iterrows():\n",
    "    \n",
    "    try:\n",
    "        \n",
    "        linked.loc[n] = [row.website] + [row.relevant] + [row.reference] + [find_book(row[2].lower().rsplit(' ', 1)[0])] + [row[2].rsplit(' ', 1)[1].split(':')[0]] + [row[2].rsplit(' ', 1)[1].split(':')[1]]\n",
    "    \n",
    "    except:\n",
    "        \n",
    "        linked.loc[n] = [row.website] + [row.relevant] + [row.reference] + [find_book(row[2].lower().rsplit(' ', 1)[0])] + [row[2].rsplit(' ', 1)[1].split(':')[0]] + ['Nan']\n",
    "    \n",
    "    n+=1"
   ]
  },
  {
   "cell_type": "code",
   "execution_count": 508,
   "metadata": {},
   "outputs": [
    {
     "data": {
      "text/html": [
       "<div>\n",
       "<style scoped>\n",
       "    .dataframe tbody tr th:only-of-type {\n",
       "        vertical-align: middle;\n",
       "    }\n",
       "\n",
       "    .dataframe tbody tr th {\n",
       "        vertical-align: top;\n",
       "    }\n",
       "\n",
       "    .dataframe thead th {\n",
       "        text-align: right;\n",
       "    }\n",
       "</style>\n",
       "<table border=\"1\" class=\"dataframe\">\n",
       "  <thead>\n",
       "    <tr style=\"text-align: right;\">\n",
       "      <th></th>\n",
       "      <th>website</th>\n",
       "      <th>relevant</th>\n",
       "      <th>reference</th>\n",
       "      <th>b</th>\n",
       "      <th>c</th>\n",
       "      <th>v</th>\n",
       "    </tr>\n",
       "  </thead>\n",
       "  <tbody>\n",
       "    <tr>\n",
       "      <th>0</th>\n",
       "      <td>http://apologeticspress.org/apcontent.aspx?cat...</td>\n",
       "      <td>1.0</td>\n",
       "      <td>Joshua 11:3</td>\n",
       "      <td>6</td>\n",
       "      <td>11</td>\n",
       "      <td>3</td>\n",
       "    </tr>\n",
       "    <tr>\n",
       "      <th>1</th>\n",
       "      <td>http://apologeticspress.org/article/1217</td>\n",
       "      <td>1.0</td>\n",
       "      <td>1 Corinthians 3:10</td>\n",
       "      <td>46</td>\n",
       "      <td>3</td>\n",
       "      <td>10</td>\n",
       "    </tr>\n",
       "    <tr>\n",
       "      <th>2</th>\n",
       "      <td>http://apologeticspress.org/article/1217</td>\n",
       "      <td>1.0</td>\n",
       "      <td>2 Timothy 4:20</td>\n",
       "      <td>55</td>\n",
       "      <td>4</td>\n",
       "      <td>20</td>\n",
       "    </tr>\n",
       "    <tr>\n",
       "      <th>3</th>\n",
       "      <td>http://apologeticspress.org/article/1217</td>\n",
       "      <td>1.0</td>\n",
       "      <td>Romans 16:23</td>\n",
       "      <td>45</td>\n",
       "      <td>16</td>\n",
       "      <td>23</td>\n",
       "    </tr>\n",
       "    <tr>\n",
       "      <th>4</th>\n",
       "      <td>http://apologeticspress.org/article/1217</td>\n",
       "      <td>1.0</td>\n",
       "      <td>Acts 19:22</td>\n",
       "      <td>44</td>\n",
       "      <td>19</td>\n",
       "      <td>22</td>\n",
       "    </tr>\n",
       "  </tbody>\n",
       "</table>\n",
       "</div>"
      ],
      "text/plain": [
       "                                             website  relevant  \\\n",
       "0  http://apologeticspress.org/apcontent.aspx?cat...       1.0   \n",
       "1           http://apologeticspress.org/article/1217       1.0   \n",
       "2           http://apologeticspress.org/article/1217       1.0   \n",
       "3           http://apologeticspress.org/article/1217       1.0   \n",
       "4           http://apologeticspress.org/article/1217       1.0   \n",
       "\n",
       "            reference   b   c   v  \n",
       "0         Joshua 11:3   6  11   3  \n",
       "1  1 Corinthians 3:10  46   3  10  \n",
       "2      2 Timothy 4:20  55   4  20  \n",
       "3        Romans 16:23  45  16  23  \n",
       "4          Acts 19:22  44  19  22  "
      ]
     },
     "execution_count": 508,
     "metadata": {},
     "output_type": "execute_result"
    }
   ],
   "source": [
    "linked.head()"
   ]
  },
  {
   "cell_type": "markdown",
   "metadata": {},
   "source": [
    "This looks good. I will save this to my SQL database."
   ]
  },
  {
   "cell_type": "code",
   "execution_count": 509,
   "metadata": {},
   "outputs": [],
   "source": [
    "linked.to_sql('linked_websites', conn, if_exists='replace', index=False)"
   ]
  },
  {
   "cell_type": "markdown",
   "metadata": {},
   "source": [
    "I will also create a list of articles that do not contain a directly reference to a specific scripture. I will need to manual review these articles to determine which scriptures they should link to."
   ]
  },
  {
   "cell_type": "code",
   "execution_count": 515,
   "metadata": {},
   "outputs": [],
   "source": [
    "unlinked = text_data[['website','relevant']][~(text_data['website'].isin(linked['website']))]"
   ]
  },
  {
   "cell_type": "code",
   "execution_count": 516,
   "metadata": {},
   "outputs": [],
   "source": [
    "unlinked.reset_index(inplace = True) "
   ]
  },
  {
   "cell_type": "code",
   "execution_count": 517,
   "metadata": {},
   "outputs": [
    {
     "data": {
      "text/html": [
       "<div>\n",
       "<style scoped>\n",
       "    .dataframe tbody tr th:only-of-type {\n",
       "        vertical-align: middle;\n",
       "    }\n",
       "\n",
       "    .dataframe tbody tr th {\n",
       "        vertical-align: top;\n",
       "    }\n",
       "\n",
       "    .dataframe thead th {\n",
       "        text-align: right;\n",
       "    }\n",
       "</style>\n",
       "<table border=\"1\" class=\"dataframe\">\n",
       "  <thead>\n",
       "    <tr style=\"text-align: right;\">\n",
       "      <th></th>\n",
       "      <th>index</th>\n",
       "      <th>website</th>\n",
       "      <th>relevant</th>\n",
       "    </tr>\n",
       "  </thead>\n",
       "  <tbody>\n",
       "    <tr>\n",
       "      <th>0</th>\n",
       "      <td>4</td>\n",
       "      <td>http://bible7evidence.blogspot.com/2014/09/abr...</td>\n",
       "      <td>1.0</td>\n",
       "    </tr>\n",
       "    <tr>\n",
       "      <th>1</th>\n",
       "      <td>8</td>\n",
       "      <td>http://en.hebron.org.il/history/355</td>\n",
       "      <td>1.0</td>\n",
       "    </tr>\n",
       "    <tr>\n",
       "      <th>2</th>\n",
       "      <td>9</td>\n",
       "      <td>http://en.hebron.org.il/history/505</td>\n",
       "      <td>1.0</td>\n",
       "    </tr>\n",
       "    <tr>\n",
       "      <th>3</th>\n",
       "      <td>11</td>\n",
       "      <td>http://helpmewithbiblestudy.org/17Archeology/I...</td>\n",
       "      <td>1.0</td>\n",
       "    </tr>\n",
       "    <tr>\n",
       "      <th>4</th>\n",
       "      <td>13</td>\n",
       "      <td>http://jezreel-expedition.com/?page_id=21</td>\n",
       "      <td>1.0</td>\n",
       "    </tr>\n",
       "  </tbody>\n",
       "</table>\n",
       "</div>"
      ],
      "text/plain": [
       "   index                                            website  relevant\n",
       "0      4  http://bible7evidence.blogspot.com/2014/09/abr...       1.0\n",
       "1      8                http://en.hebron.org.il/history/355       1.0\n",
       "2      9                http://en.hebron.org.il/history/505       1.0\n",
       "3     11  http://helpmewithbiblestudy.org/17Archeology/I...       1.0\n",
       "4     13          http://jezreel-expedition.com/?page_id=21       1.0"
      ]
     },
     "execution_count": 517,
     "metadata": {},
     "output_type": "execute_result"
    }
   ],
   "source": [
    "unlinked.head()"
   ]
  },
  {
   "cell_type": "code",
   "execution_count": 518,
   "metadata": {},
   "outputs": [],
   "source": [
    "unlinked.to_sql('unlinked_websites', conn, if_exists='replace', index=False)"
   ]
  },
  {
   "cell_type": "code",
   "execution_count": 519,
   "metadata": {},
   "outputs": [
    {
     "name": "stdout",
     "output_type": "stream",
     "text": [
      "[('bible_bbe',), ('book_key',), ('books',), ('bible_metrics',), ('labeled_text2',), ('labeled_text',), ('reduced_text',), ('linked_websites',), ('unlinked_websites',)]\n"
     ]
    }
   ],
   "source": [
    "cursor = conn.cursor()\n",
    "\n",
    "cursor.execute(\"SELECT name FROM sqlite_master WHERE type='table';\")\n",
    "print(cursor.fetchall())"
   ]
  },
  {
   "cell_type": "code",
   "execution_count": null,
   "metadata": {},
   "outputs": [],
   "source": []
  }
 ],
 "metadata": {
  "kernelspec": {
   "display_name": "Python 3",
   "language": "python",
   "name": "python3"
  },
  "language_info": {
   "codemirror_mode": {
    "name": "ipython",
    "version": 3
   },
   "file_extension": ".py",
   "mimetype": "text/x-python",
   "name": "python",
   "nbconvert_exporter": "python",
   "pygments_lexer": "ipython3",
   "version": "3.7.3"
  }
 },
 "nbformat": 4,
 "nbformat_minor": 4
}
