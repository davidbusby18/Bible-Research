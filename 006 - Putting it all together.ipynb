{
 "cells": [
  {
   "cell_type": "markdown",
   "metadata": {},
   "source": [
    "# Putting It All Together\n",
    "\n",
    "In the previous notebooks, I've written code for a webcrawler that pulls articles related to Biblical archeology, extracts the text from those articles, creates a list of each the specific Bible verse references, and predicts if the website is truly relevant. In this notebook, I would like to put all of that together in a single program that I can then use to create a dataset in which each relevant article is connected directly to the Bible verses that are mentioned in that article. The end goal is to create a resource that enriches Bible study with archeological discoveries."
   ]
  },
  {
   "cell_type": "code",
   "execution_count": 1,
   "metadata": {},
   "outputs": [],
   "source": [
    "import pandas as pd\n",
    "from googlesearch import search \n",
    "import time"
   ]
  },
  {
   "cell_type": "markdown",
   "metadata": {},
   "source": [
    "I think the best way to encapulate what I've done before is by defining functions that can be used in the flow of this notebook. The firt function I want to define is a webcrawler that accepts a keyword argument and then searches for websites that are related to that keyword and Biblical archeology.\n",
    "\n",
    "This site describes the google module: https://towardsdatascience.com/current-google-search-packages-using-python-3-7-a-simple-tutorial-3606e459e0d4"
   ]
  },
  {
   "cell_type": "code",
   "execution_count": 2,
   "metadata": {},
   "outputs": [],
   "source": [
    "def crawler(keyword, limit):\n",
    "    websites = []\n",
    "    \n",
    "    query = \"archeololgy OR artifact + Bible\" + keyword\n",
    "    \n",
    "    for j in search(query, stop=limit):\n",
    "        time.sleep(3)        \n",
    "        websites.append(j)\n",
    "        \n",
    "    return pd.Series(websites)"
   ]
  },
  {
   "cell_type": "code",
   "execution_count": 3,
   "metadata": {},
   "outputs": [],
   "source": [
    "site_list = crawler('Israel', 5)"
   ]
  },
  {
   "cell_type": "code",
   "execution_count": 4,
   "metadata": {},
   "outputs": [
    {
     "data": {
      "text/plain": [
       "0    https://www.timesofisrael.com/topic/biblical-a...\n",
       "1    https://www.christianitytoday.com/news/2018/de...\n",
       "2    https://en.wikipedia.org/wiki/List_of_artifact...\n",
       "3    https://www.livescience.com/jesus-biblical-arc...\n",
       "4    https://www.pinterest.com/faithlight2/bible-an...\n",
       "dtype: object"
      ]
     },
     "execution_count": 4,
     "metadata": {},
     "output_type": "execute_result"
    }
   ],
   "source": [
    "site_list"
   ]
  },
  {
   "cell_type": "code",
   "execution_count": 5,
   "metadata": {},
   "outputs": [
    {
     "data": {
      "text/plain": [
       "pandas.core.series.Series"
      ]
     },
     "execution_count": 5,
     "metadata": {},
     "output_type": "execute_result"
    }
   ],
   "source": [
    "type(site_list)"
   ]
  },
  {
   "cell_type": "code",
   "execution_count": null,
   "metadata": {},
   "outputs": [],
   "source": []
  }
 ],
 "metadata": {
  "kernelspec": {
   "display_name": "Python 3",
   "language": "python",
   "name": "python3"
  },
  "language_info": {
   "codemirror_mode": {
    "name": "ipython",
    "version": 3
   },
   "file_extension": ".py",
   "mimetype": "text/x-python",
   "name": "python",
   "nbconvert_exporter": "python",
   "pygments_lexer": "ipython3",
   "version": "3.7.3"
  }
 },
 "nbformat": 4,
 "nbformat_minor": 2
}
