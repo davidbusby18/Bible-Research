{
 "cells": [
  {
   "cell_type": "markdown",
   "metadata": {},
   "source": [
    "# Putting It All Together\n",
    "\n",
    "In the previous notebooks, I've written code a webcrawler that pulls articles related to Biblical archeology, extracts the text from those articles, creates a list of all the specific Bible verse references, and predicts is the website is truly relevant. In this notebook, I would like to put all of that together in a single program that I can then use to create a dataset that I will be able to tie to specific Bible verses. The end goal is to create a resource that enriches the study of God's word."
   ]
  },
  {
   "cell_type": "code",
   "execution_count": 3,
   "metadata": {},
   "outputs": [
    {
     "ename": "ImportError",
     "evalue": "cannot import name 'search' from 'googlesearch' (C:\\Users\\david\\Anaconda3\\envs\\MLCPU_CLONE\\lib\\site-packages\\googlesearch\\__init__.py)",
     "output_type": "error",
     "traceback": [
      "\u001b[1;31m---------------------------------------------------------------------------\u001b[0m",
      "\u001b[1;31mImportError\u001b[0m                               Traceback (most recent call last)",
      "\u001b[1;32m<ipython-input-3-8ab2dc2155b8>\u001b[0m in \u001b[0;36m<module>\u001b[1;34m\u001b[0m\n\u001b[0;32m      1\u001b[0m \u001b[1;32mimport\u001b[0m \u001b[0mpandas\u001b[0m \u001b[1;32mas\u001b[0m \u001b[0mpd\u001b[0m\u001b[1;33m\u001b[0m\u001b[1;33m\u001b[0m\u001b[0m\n\u001b[1;32m----> 2\u001b[1;33m \u001b[1;32mfrom\u001b[0m \u001b[0mgooglesearch\u001b[0m \u001b[1;32mimport\u001b[0m \u001b[0msearch\u001b[0m\u001b[1;33m\u001b[0m\u001b[1;33m\u001b[0m\u001b[0m\n\u001b[0m\u001b[0;32m      3\u001b[0m \u001b[1;32mimport\u001b[0m \u001b[0mtime\u001b[0m\u001b[1;33m\u001b[0m\u001b[1;33m\u001b[0m\u001b[0m\n",
      "\u001b[1;31mImportError\u001b[0m: cannot import name 'search' from 'googlesearch' (C:\\Users\\david\\Anaconda3\\envs\\MLCPU_CLONE\\lib\\site-packages\\googlesearch\\__init__.py)"
     ]
    }
   ],
   "source": [
    "import pandas as pd\n",
    "from googlesearch import search \n",
    "import time"
   ]
  },
  {
   "cell_type": "markdown",
   "metadata": {},
   "source": [
    "I think the best way to encapulate what I've done before is by defining functions that can be used in the flow of this notebook. The firt function I want to define is a webcrawler that accepts a keyword argument and then searches for websites that are related to that keyword and Biblical archeology."
   ]
  },
  {
   "cell_type": "code",
   "execution_count": 4,
   "metadata": {},
   "outputs": [],
   "source": [
    "def crawler(keyword):\n",
    "    websites = []\n",
    "    \n",
    "    query = \"archeololgy OR artifact + Bible\" + keyword\n",
    "    \n",
    "    for j in search(query, num=10, stop=25, pause=10):\n",
    "        time.sleep(3)\n",
    "        \n",
    "        websites.append(j)\n",
    "        \n",
    "    return website"
   ]
  },
  {
   "cell_type": "code",
   "execution_count": null,
   "metadata": {},
   "outputs": [],
   "source": []
  }
 ],
 "metadata": {
  "kernelspec": {
   "display_name": "Python 3",
   "language": "python",
   "name": "python3"
  },
  "language_info": {
   "codemirror_mode": {
    "name": "ipython",
    "version": 3
   },
   "file_extension": ".py",
   "mimetype": "text/x-python",
   "name": "python",
   "nbconvert_exporter": "python",
   "pygments_lexer": "ipython3",
   "version": "3.7.4"
  }
 },
 "nbformat": 4,
 "nbformat_minor": 2
}
