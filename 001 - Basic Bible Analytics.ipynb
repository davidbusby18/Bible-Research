{
 "cells": [
  {
   "cell_type": "markdown",
   "metadata": {},
   "source": [
    "# Basically Bible Analytics \n",
    "\n",
    "## Starting with Basic Metrics\n",
    "\n",
    "In this notebook, I will look at some basic metrics for the Bible. For instance, it is fairly easy to learn that there are sixty-six books in the Bible, but I don't think I have every heard anyone share how many chapters or verses are in the Bible. I will explore some of these basic questions.\n",
    "\n",
    "In order to do this, I need the Bible text. I was able to obtain it from Kaggle here: https://www.kaggle.com/oswinrh/bible#t_asv.csv. If you link to this site, you will see many available versions, but I decided to use the Bible in Basic English because my goal is to eventually apply text analytics to the text."
   ]
  },
  {
   "cell_type": "code",
   "execution_count": 1,
   "metadata": {},
   "outputs": [],
   "source": [
    "import pandas as pd\n",
    "bible = pd.read_csv(r'C:\\Bible Research\\Translations\\Bible in Basic English\\t_bbe.csv')"
   ]
  },
  {
   "cell_type": "markdown",
   "metadata": {},
   "source": [
    "### Basic structure of the data"
   ]
  },
  {
   "cell_type": "code",
   "execution_count": 2,
   "metadata": {},
   "outputs": [
    {
     "data": {
      "text/html": [
       "<div>\n",
       "<style scoped>\n",
       "    .dataframe tbody tr th:only-of-type {\n",
       "        vertical-align: middle;\n",
       "    }\n",
       "\n",
       "    .dataframe tbody tr th {\n",
       "        vertical-align: top;\n",
       "    }\n",
       "\n",
       "    .dataframe thead th {\n",
       "        text-align: right;\n",
       "    }\n",
       "</style>\n",
       "<table border=\"1\" class=\"dataframe\">\n",
       "  <thead>\n",
       "    <tr style=\"text-align: right;\">\n",
       "      <th></th>\n",
       "      <th>id</th>\n",
       "      <th>b</th>\n",
       "      <th>c</th>\n",
       "      <th>v</th>\n",
       "      <th>t</th>\n",
       "    </tr>\n",
       "  </thead>\n",
       "  <tbody>\n",
       "    <tr>\n",
       "      <td>0</td>\n",
       "      <td>1001001</td>\n",
       "      <td>1</td>\n",
       "      <td>1</td>\n",
       "      <td>1</td>\n",
       "      <td>At the first God made the heaven and the earth.</td>\n",
       "    </tr>\n",
       "    <tr>\n",
       "      <td>1</td>\n",
       "      <td>1001002</td>\n",
       "      <td>1</td>\n",
       "      <td>1</td>\n",
       "      <td>2</td>\n",
       "      <td>And the earth was waste and without form; and ...</td>\n",
       "    </tr>\n",
       "    <tr>\n",
       "      <td>2</td>\n",
       "      <td>1001003</td>\n",
       "      <td>1</td>\n",
       "      <td>1</td>\n",
       "      <td>3</td>\n",
       "      <td>And God said, Let there be light: and there wa...</td>\n",
       "    </tr>\n",
       "    <tr>\n",
       "      <td>3</td>\n",
       "      <td>1001004</td>\n",
       "      <td>1</td>\n",
       "      <td>1</td>\n",
       "      <td>4</td>\n",
       "      <td>And God, looking on the light, saw that it was...</td>\n",
       "    </tr>\n",
       "    <tr>\n",
       "      <td>4</td>\n",
       "      <td>1001005</td>\n",
       "      <td>1</td>\n",
       "      <td>1</td>\n",
       "      <td>5</td>\n",
       "      <td>Naming the light, Day, and the dark, Night. An...</td>\n",
       "    </tr>\n",
       "  </tbody>\n",
       "</table>\n",
       "</div>"
      ],
      "text/plain": [
       "        id  b  c  v                                                  t\n",
       "0  1001001  1  1  1    At the first God made the heaven and the earth.\n",
       "1  1001002  1  1  2  And the earth was waste and without form; and ...\n",
       "2  1001003  1  1  3  And God said, Let there be light: and there wa...\n",
       "3  1001004  1  1  4  And God, looking on the light, saw that it was...\n",
       "4  1001005  1  1  5  Naming the light, Day, and the dark, Night. An..."
      ]
     },
     "execution_count": 2,
     "metadata": {},
     "output_type": "execute_result"
    }
   ],
   "source": [
    "bible.head()"
   ]
  },
  {
   "cell_type": "code",
   "execution_count": 3,
   "metadata": {},
   "outputs": [
    {
     "name": "stdout",
     "output_type": "stream",
     "text": [
      "<class 'pandas.core.frame.DataFrame'>\n",
      "RangeIndex: 31103 entries, 0 to 31102\n",
      "Data columns (total 5 columns):\n",
      "id    31103 non-null int64\n",
      "b     31103 non-null int64\n",
      "c     31103 non-null int64\n",
      "v     31103 non-null int64\n",
      "t     31103 non-null object\n",
      "dtypes: int64(4), object(1)\n",
      "memory usage: 1.2+ MB\n"
     ]
    }
   ],
   "source": [
    "bible.info()"
   ]
  },
  {
   "cell_type": "markdown",
   "metadata": {},
   "source": [
    "### Basic counts\n",
    "\n",
    "We already know that there are sixty-six books in the Bible, but I'll run some code to confirm. I will then find out how many chapters and verses are in the Bible. I will also find out how many words are in this particular version of the Bible. This obviously changes by version."
   ]
  },
  {
   "cell_type": "code",
   "execution_count": 4,
   "metadata": {},
   "outputs": [
    {
     "name": "stdout",
     "output_type": "stream",
     "text": [
      "There are 66 books, 1189 chapters, and 31103 verses in this translation.\n"
     ]
    }
   ],
   "source": [
    "print('There are',bible.b.nunique(), 'books,', len(bible.groupby(['b', 'c']).size().reset_index().rename(columns={0:'count'})), 'chapters, and',  bible.id.nunique(), 'verses in this translation.')"
   ]
  },
  {
   "cell_type": "markdown",
   "metadata": {},
   "source": [
    "Getting a word count is a little more complex. This site was helpful: https://www.geeksforgeeks.org/python-program-to-count-words-in-a-sentence"
   ]
  },
  {
   "cell_type": "code",
   "execution_count": 5,
   "metadata": {},
   "outputs": [
    {
     "name": "stdout",
     "output_type": "stream",
     "text": [
      "There are 840357 words in this translation.\n"
     ]
    }
   ],
   "source": [
    "l = []\n",
    "\n",
    "for index, row in bible.iterrows():\n",
    "   value = len(row['t'].split())\n",
    "   l.append(value)\n",
    "\n",
    "print('There are', sum(l), 'words in this translation.')"
   ]
  },
  {
   "cell_type": "markdown",
   "metadata": {},
   "source": [
    "My next question is, how long would it take the average person to read the Bible all the way through? Everyone reads at a different pace, but this site tells us that the average person can read 300 words a minute: #   https://www.google.com/search?q=how+many+words+can+the+average+person+read+per+minute&rlz=1C1CHBF_enUS855US855&oq=how+many+words+can+the+average+per&aqs=chrome.0.0j69i57j0l6.8896j0j7&sourceid=chrome&ie=UTF-8\n",
    "\n",
    "If we divide 840357 by 300, this should tell us how many minutes it would take an average person to read the Bible."
   ]
  },
  {
   "cell_type": "code",
   "execution_count": 29,
   "metadata": {},
   "outputs": [
    {
     "data": {
      "text/plain": [
       "2801.19"
      ]
     },
     "execution_count": 29,
     "metadata": {},
     "output_type": "execute_result"
    }
   ],
   "source": [
    "840357/300"
   ]
  },
  {
   "cell_type": "code",
   "execution_count": 31,
   "metadata": {},
   "outputs": [
    {
     "name": "stdout",
     "output_type": "stream",
     "text": [
      "Which is 46.6865 hours\n"
     ]
    }
   ],
   "source": [
    "print('Which is', 840357/18000, 'hours')"
   ]
  },
  {
   "cell_type": "markdown",
   "metadata": {},
   "source": [
    "This is roughly 46 hours and 40 minutes. This site (http://www.euxton.com/bible.htm) says that it takes 70 hours and 40 minutes to read the Bible at \"pulpet rate.\" I assume this is much slower than the average person can read to themselves."
   ]
  },
  {
   "cell_type": "markdown",
   "metadata": {},
   "source": [
    "Next, how many words are in each book of the Bible, what proportion does each book account for, and how long would each book take an average person to read?"
   ]
  },
  {
   "cell_type": "code",
   "execution_count": 34,
   "metadata": {},
   "outputs": [],
   "source": [
    "b = []\n",
    "words = []\n",
    "chapter = []\n",
    "\n",
    "for i in bible.b.unique():\n",
    "    value = i\n",
    "    b.append(value)\n",
    "    \n",
    "    book = []\n",
    "    \n",
    "    for index, row in bible[bible.b == i].iterrows():\n",
    "        value2 = len(row['t'].split())\n",
    "        book.append(value2)\n",
    "        \n",
    "    words.append(sum(book))\n",
    "    chapter.append(bible[bible.b==i].c.nunique())"
   ]
  },
  {
   "cell_type": "code",
   "execution_count": 37,
   "metadata": {},
   "outputs": [],
   "source": [
    "books = pd.DataFrame()\n",
    "\n",
    "books['b'] = b\n",
    "books['c'] = chapter\n",
    "books['words'] = words\n",
    "books['proportion'] = books.words/sum(books.words)\n",
    "books['minutes'] = books.words/250\n",
    "books['hours'] = books.minutes/60"
   ]
  },
  {
   "cell_type": "code",
   "execution_count": 38,
   "metadata": {},
   "outputs": [
    {
     "data": {
      "text/html": [
       "<div>\n",
       "<style scoped>\n",
       "    .dataframe tbody tr th:only-of-type {\n",
       "        vertical-align: middle;\n",
       "    }\n",
       "\n",
       "    .dataframe tbody tr th {\n",
       "        vertical-align: top;\n",
       "    }\n",
       "\n",
       "    .dataframe thead th {\n",
       "        text-align: right;\n",
       "    }\n",
       "</style>\n",
       "<table border=\"1\" class=\"dataframe\">\n",
       "  <thead>\n",
       "    <tr style=\"text-align: right;\">\n",
       "      <th></th>\n",
       "      <th>b</th>\n",
       "      <th>c</th>\n",
       "      <th>words</th>\n",
       "      <th>proportion</th>\n",
       "      <th>minutes</th>\n",
       "      <th>hours</th>\n",
       "    </tr>\n",
       "  </thead>\n",
       "  <tbody>\n",
       "    <tr>\n",
       "      <td>0</td>\n",
       "      <td>1</td>\n",
       "      <td>50</td>\n",
       "      <td>38244</td>\n",
       "      <td>0.045509</td>\n",
       "      <td>152.976</td>\n",
       "      <td>2.549600</td>\n",
       "    </tr>\n",
       "    <tr>\n",
       "      <td>1</td>\n",
       "      <td>2</td>\n",
       "      <td>40</td>\n",
       "      <td>32329</td>\n",
       "      <td>0.038471</td>\n",
       "      <td>129.316</td>\n",
       "      <td>2.155267</td>\n",
       "    </tr>\n",
       "    <tr>\n",
       "      <td>2</td>\n",
       "      <td>3</td>\n",
       "      <td>27</td>\n",
       "      <td>24939</td>\n",
       "      <td>0.029677</td>\n",
       "      <td>99.756</td>\n",
       "      <td>1.662600</td>\n",
       "    </tr>\n",
       "    <tr>\n",
       "      <td>3</td>\n",
       "      <td>4</td>\n",
       "      <td>36</td>\n",
       "      <td>32357</td>\n",
       "      <td>0.038504</td>\n",
       "      <td>129.428</td>\n",
       "      <td>2.157133</td>\n",
       "    </tr>\n",
       "    <tr>\n",
       "      <td>4</td>\n",
       "      <td>5</td>\n",
       "      <td>34</td>\n",
       "      <td>29250</td>\n",
       "      <td>0.034807</td>\n",
       "      <td>117.000</td>\n",
       "      <td>1.950000</td>\n",
       "    </tr>\n",
       "  </tbody>\n",
       "</table>\n",
       "</div>"
      ],
      "text/plain": [
       "   b   c  words  proportion  minutes     hours\n",
       "0  1  50  38244    0.045509  152.976  2.549600\n",
       "1  2  40  32329    0.038471  129.316  2.155267\n",
       "2  3  27  24939    0.029677   99.756  1.662600\n",
       "3  4  36  32357    0.038504  129.428  2.157133\n",
       "4  5  34  29250    0.034807  117.000  1.950000"
      ]
     },
     "execution_count": 38,
     "metadata": {},
     "output_type": "execute_result"
    }
   ],
   "source": [
    "books.head()"
   ]
  },
  {
   "cell_type": "markdown",
   "metadata": {},
   "source": [
    "This is interesting, but at this point we are refering to the books of the Bible by their order rather than their given name. I'm going to read in a key to attach names, which will be a little more insightful."
   ]
  },
  {
   "cell_type": "code",
   "execution_count": 43,
   "metadata": {},
   "outputs": [
    {
     "data": {
      "text/html": [
       "<div>\n",
       "<style scoped>\n",
       "    .dataframe tbody tr th:only-of-type {\n",
       "        vertical-align: middle;\n",
       "    }\n",
       "\n",
       "    .dataframe tbody tr th {\n",
       "        vertical-align: top;\n",
       "    }\n",
       "\n",
       "    .dataframe thead th {\n",
       "        text-align: right;\n",
       "    }\n",
       "</style>\n",
       "<table border=\"1\" class=\"dataframe\">\n",
       "  <thead>\n",
       "    <tr style=\"text-align: right;\">\n",
       "      <th></th>\n",
       "      <th>b</th>\n",
       "      <th>name</th>\n",
       "      <th>old_new</th>\n",
       "      <th>group</th>\n",
       "    </tr>\n",
       "  </thead>\n",
       "  <tbody>\n",
       "    <tr>\n",
       "      <td>0</td>\n",
       "      <td>1</td>\n",
       "      <td>Genesis</td>\n",
       "      <td>OT</td>\n",
       "      <td>1</td>\n",
       "    </tr>\n",
       "    <tr>\n",
       "      <td>1</td>\n",
       "      <td>2</td>\n",
       "      <td>Exodus</td>\n",
       "      <td>OT</td>\n",
       "      <td>1</td>\n",
       "    </tr>\n",
       "    <tr>\n",
       "      <td>2</td>\n",
       "      <td>3</td>\n",
       "      <td>Leviticus</td>\n",
       "      <td>OT</td>\n",
       "      <td>1</td>\n",
       "    </tr>\n",
       "    <tr>\n",
       "      <td>3</td>\n",
       "      <td>4</td>\n",
       "      <td>Numbers</td>\n",
       "      <td>OT</td>\n",
       "      <td>1</td>\n",
       "    </tr>\n",
       "    <tr>\n",
       "      <td>4</td>\n",
       "      <td>5</td>\n",
       "      <td>Deuteronomy</td>\n",
       "      <td>OT</td>\n",
       "      <td>1</td>\n",
       "    </tr>\n",
       "    <tr>\n",
       "      <td>...</td>\n",
       "      <td>...</td>\n",
       "      <td>...</td>\n",
       "      <td>...</td>\n",
       "      <td>...</td>\n",
       "    </tr>\n",
       "    <tr>\n",
       "      <td>61</td>\n",
       "      <td>62</td>\n",
       "      <td>1 John</td>\n",
       "      <td>NT</td>\n",
       "      <td>7</td>\n",
       "    </tr>\n",
       "    <tr>\n",
       "      <td>62</td>\n",
       "      <td>63</td>\n",
       "      <td>2 John</td>\n",
       "      <td>NT</td>\n",
       "      <td>7</td>\n",
       "    </tr>\n",
       "    <tr>\n",
       "      <td>63</td>\n",
       "      <td>64</td>\n",
       "      <td>3 John</td>\n",
       "      <td>NT</td>\n",
       "      <td>7</td>\n",
       "    </tr>\n",
       "    <tr>\n",
       "      <td>64</td>\n",
       "      <td>65</td>\n",
       "      <td>Jude</td>\n",
       "      <td>NT</td>\n",
       "      <td>7</td>\n",
       "    </tr>\n",
       "    <tr>\n",
       "      <td>65</td>\n",
       "      <td>66</td>\n",
       "      <td>Revelation</td>\n",
       "      <td>NT</td>\n",
       "      <td>8</td>\n",
       "    </tr>\n",
       "  </tbody>\n",
       "</table>\n",
       "<p>66 rows × 4 columns</p>\n",
       "</div>"
      ],
      "text/plain": [
       "     b         name old_new  group\n",
       "0    1      Genesis      OT      1\n",
       "1    2       Exodus      OT      1\n",
       "2    3    Leviticus      OT      1\n",
       "3    4      Numbers      OT      1\n",
       "4    5  Deuteronomy      OT      1\n",
       "..  ..          ...     ...    ...\n",
       "61  62       1 John      NT      7\n",
       "62  63       2 John      NT      7\n",
       "63  64       3 John      NT      7\n",
       "64  65         Jude      NT      7\n",
       "65  66   Revelation      NT      8\n",
       "\n",
       "[66 rows x 4 columns]"
      ]
     },
     "execution_count": 43,
     "metadata": {},
     "output_type": "execute_result"
    }
   ],
   "source": [
    "book_key = pd.read_csv(r'C:\\Bible Research\\key_english.csv')\n",
    "book_key"
   ]
  },
  {
   "cell_type": "markdown",
   "metadata": {},
   "source": [
    "This dataframe contains the book order, which will allow me to tie this information to the dataframe I already have. It also contains the book name as well as which testement each belongs to and a group variable. The group variable refers to which type of book each is. For instance, Genisis is part of the Law, so it's in group 1. Jude is an epistle, so it's in group 7.\n",
    "\n",
    "Now, I will merge the two dataframes and sort to see which books are the longest and shortest."
   ]
  },
  {
   "cell_type": "code",
   "execution_count": 44,
   "metadata": {},
   "outputs": [],
   "source": [
    "books = book_key.merge(books, how='inner', on='b')"
   ]
  },
  {
   "cell_type": "code",
   "execution_count": 46,
   "metadata": {},
   "outputs": [
    {
     "data": {
      "text/html": [
       "<div>\n",
       "<style scoped>\n",
       "    .dataframe tbody tr th:only-of-type {\n",
       "        vertical-align: middle;\n",
       "    }\n",
       "\n",
       "    .dataframe tbody tr th {\n",
       "        vertical-align: top;\n",
       "    }\n",
       "\n",
       "    .dataframe thead th {\n",
       "        text-align: right;\n",
       "    }\n",
       "</style>\n",
       "<table border=\"1\" class=\"dataframe\">\n",
       "  <thead>\n",
       "    <tr style=\"text-align: right;\">\n",
       "      <th></th>\n",
       "      <th>b</th>\n",
       "      <th>name</th>\n",
       "      <th>old_new</th>\n",
       "      <th>group</th>\n",
       "      <th>c</th>\n",
       "      <th>words</th>\n",
       "      <th>proportion</th>\n",
       "      <th>minutes</th>\n",
       "      <th>hours</th>\n",
       "    </tr>\n",
       "  </thead>\n",
       "  <tbody>\n",
       "    <tr>\n",
       "      <td>62</td>\n",
       "      <td>63</td>\n",
       "      <td>2 John</td>\n",
       "      <td>NT</td>\n",
       "      <td>7</td>\n",
       "      <td>1</td>\n",
       "      <td>343</td>\n",
       "      <td>0.000408</td>\n",
       "      <td>1.372</td>\n",
       "      <td>0.022867</td>\n",
       "    </tr>\n",
       "    <tr>\n",
       "      <td>63</td>\n",
       "      <td>64</td>\n",
       "      <td>3 John</td>\n",
       "      <td>NT</td>\n",
       "      <td>7</td>\n",
       "      <td>1</td>\n",
       "      <td>385</td>\n",
       "      <td>0.000458</td>\n",
       "      <td>1.540</td>\n",
       "      <td>0.025667</td>\n",
       "    </tr>\n",
       "    <tr>\n",
       "      <td>56</td>\n",
       "      <td>57</td>\n",
       "      <td>Philemon</td>\n",
       "      <td>NT</td>\n",
       "      <td>7</td>\n",
       "      <td>1</td>\n",
       "      <td>490</td>\n",
       "      <td>0.000583</td>\n",
       "      <td>1.960</td>\n",
       "      <td>0.032667</td>\n",
       "    </tr>\n",
       "    <tr>\n",
       "      <td>30</td>\n",
       "      <td>31</td>\n",
       "      <td>Obadiah</td>\n",
       "      <td>OT</td>\n",
       "      <td>4</td>\n",
       "      <td>1</td>\n",
       "      <td>689</td>\n",
       "      <td>0.000820</td>\n",
       "      <td>2.756</td>\n",
       "      <td>0.045933</td>\n",
       "    </tr>\n",
       "    <tr>\n",
       "      <td>64</td>\n",
       "      <td>65</td>\n",
       "      <td>Jude</td>\n",
       "      <td>NT</td>\n",
       "      <td>7</td>\n",
       "      <td>1</td>\n",
       "      <td>733</td>\n",
       "      <td>0.000872</td>\n",
       "      <td>2.932</td>\n",
       "      <td>0.048867</td>\n",
       "    </tr>\n",
       "    <tr>\n",
       "      <td>...</td>\n",
       "      <td>...</td>\n",
       "      <td>...</td>\n",
       "      <td>...</td>\n",
       "      <td>...</td>\n",
       "      <td>...</td>\n",
       "      <td>...</td>\n",
       "      <td>...</td>\n",
       "      <td>...</td>\n",
       "      <td>...</td>\n",
       "    </tr>\n",
       "    <tr>\n",
       "      <td>0</td>\n",
       "      <td>1</td>\n",
       "      <td>Genesis</td>\n",
       "      <td>OT</td>\n",
       "      <td>1</td>\n",
       "      <td>50</td>\n",
       "      <td>38244</td>\n",
       "      <td>0.045509</td>\n",
       "      <td>152.976</td>\n",
       "      <td>2.549600</td>\n",
       "    </tr>\n",
       "    <tr>\n",
       "      <td>22</td>\n",
       "      <td>23</td>\n",
       "      <td>Isaiah</td>\n",
       "      <td>OT</td>\n",
       "      <td>4</td>\n",
       "      <td>66</td>\n",
       "      <td>40078</td>\n",
       "      <td>0.047692</td>\n",
       "      <td>160.312</td>\n",
       "      <td>2.671867</td>\n",
       "    </tr>\n",
       "    <tr>\n",
       "      <td>25</td>\n",
       "      <td>26</td>\n",
       "      <td>Ezekiel</td>\n",
       "      <td>OT</td>\n",
       "      <td>4</td>\n",
       "      <td>48</td>\n",
       "      <td>41366</td>\n",
       "      <td>0.049224</td>\n",
       "      <td>165.464</td>\n",
       "      <td>2.757733</td>\n",
       "    </tr>\n",
       "    <tr>\n",
       "      <td>23</td>\n",
       "      <td>24</td>\n",
       "      <td>Jeremiah</td>\n",
       "      <td>OT</td>\n",
       "      <td>4</td>\n",
       "      <td>52</td>\n",
       "      <td>46304</td>\n",
       "      <td>0.055100</td>\n",
       "      <td>185.216</td>\n",
       "      <td>3.086933</td>\n",
       "    </tr>\n",
       "    <tr>\n",
       "      <td>18</td>\n",
       "      <td>19</td>\n",
       "      <td>Psalms</td>\n",
       "      <td>OT</td>\n",
       "      <td>3</td>\n",
       "      <td>150</td>\n",
       "      <td>48740</td>\n",
       "      <td>0.057999</td>\n",
       "      <td>194.960</td>\n",
       "      <td>3.249333</td>\n",
       "    </tr>\n",
       "  </tbody>\n",
       "</table>\n",
       "<p>66 rows × 9 columns</p>\n",
       "</div>"
      ],
      "text/plain": [
       "     b      name old_new  group    c  words  proportion  minutes     hours\n",
       "62  63    2 John      NT      7    1    343    0.000408    1.372  0.022867\n",
       "63  64    3 John      NT      7    1    385    0.000458    1.540  0.025667\n",
       "56  57  Philemon      NT      7    1    490    0.000583    1.960  0.032667\n",
       "30  31   Obadiah      OT      4    1    689    0.000820    2.756  0.045933\n",
       "64  65      Jude      NT      7    1    733    0.000872    2.932  0.048867\n",
       "..  ..       ...     ...    ...  ...    ...         ...      ...       ...\n",
       "0    1   Genesis      OT      1   50  38244    0.045509  152.976  2.549600\n",
       "22  23    Isaiah      OT      4   66  40078    0.047692  160.312  2.671867\n",
       "25  26   Ezekiel      OT      4   48  41366    0.049224  165.464  2.757733\n",
       "23  24  Jeremiah      OT      4   52  46304    0.055100  185.216  3.086933\n",
       "18  19    Psalms      OT      3  150  48740    0.057999  194.960  3.249333\n",
       "\n",
       "[66 rows x 9 columns]"
      ]
     },
     "execution_count": 46,
     "metadata": {},
     "output_type": "execute_result"
    }
   ],
   "source": [
    "books.sort_values('proportion')"
   ]
  },
  {
   "cell_type": "markdown",
   "metadata": {},
   "source": [
    "Wow! It looks like the shortest book of the Bible is 2 John, which only takes a little over a minute to read. I'm not surprised to see Psalms in first place, but I actually thought Gensis would be second. It's not even close!"
   ]
  },
  {
   "cell_type": "code",
   "execution_count": 49,
   "metadata": {},
   "outputs": [
    {
     "data": {
      "text/plain": [
       "0.19"
      ]
     },
     "execution_count": 49,
     "metadata": {},
     "output_type": "execute_result"
    }
   ],
   "source": [
    "round(sum(books[books.group == 1].proportion),2)"
   ]
  },
  {
   "cell_type": "markdown",
   "metadata": {},
   "source": [
    "Eventhough Gensis is only the fifth longest book of the Bible, the first five books, the Law, accounts for 19% of the Bible. When you finish Deuteronomy, you're a fifth of the way through."
   ]
  },
  {
   "cell_type": "markdown",
   "metadata": {},
   "source": [
    "This concludes the basic analytics of the Bible. "
   ]
  }
 ],
 "metadata": {
  "kernelspec": {
   "display_name": "Python 3",
   "language": "python",
   "name": "python3"
  },
  "language_info": {
   "codemirror_mode": {
    "name": "ipython",
    "version": 3
   },
   "file_extension": ".py",
   "mimetype": "text/x-python",
   "name": "python",
   "nbconvert_exporter": "python",
   "pygments_lexer": "ipython3",
   "version": "3.7.4"
  }
 },
 "nbformat": 4,
 "nbformat_minor": 4
}
