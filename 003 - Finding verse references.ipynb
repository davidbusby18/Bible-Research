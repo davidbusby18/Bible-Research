{
 "cells": [
  {
   "cell_type": "markdown",
   "metadata": {},
   "source": [
    "# Finding Verse References\n",
    "\n",
    "In this notebook I will attempt to build a system to locate any reference to a specific book, chapter or verse in the Bible. This will be made easier by standard notation of Book Chapter:Verse.\n",
    "\n",
    "I will use regular expressions to extract any Bible verses in the form of BOOK CHAPTER:VERSE"
   ]
  },
  {
   "cell_type": "code",
   "execution_count": 33,
   "metadata": {},
   "outputs": [],
   "source": [
    "import pandas as pd\n",
    "import re"
   ]
  },
  {
   "cell_type": "code",
   "execution_count": 71,
   "metadata": {},
   "outputs": [],
   "source": [
    "string = \"hey this is Gensis 3:1 and Gensis 4:5 or Numbers 1:3 Mth 21:18\""
   ]
  },
  {
   "cell_type": "code",
   "execution_count": 72,
   "metadata": {},
   "outputs": [
    {
     "name": "stdout",
     "output_type": "stream",
     "text": [
      "['Gensis 3:1', 'Gensis 4:5', 'Numbers 1:3', 'Mth 21:18']\n"
     ]
    }
   ],
   "source": [
    "# extracting the Bible verse references from articles\n",
    "bible_verse=re.compile(r'\\w+ \\d+:\\d+')\n",
    "v=bible_verse.findall(string)\n",
    "print(v)"
   ]
  },
  {
   "cell_type": "code",
   "execution_count": 84,
   "metadata": {},
   "outputs": [],
   "source": [
    "df = pd.read_pickle(\"C:/Bible Research/data/labeled with text.pkl\")"
   ]
  },
  {
   "cell_type": "code",
   "execution_count": 100,
   "metadata": {},
   "outputs": [
    {
     "data": {
      "text/plain": [
       "Index(['website', 'relevant', 'text'], dtype='object')"
      ]
     },
     "execution_count": 100,
     "metadata": {},
     "output_type": "execute_result"
    }
   ],
   "source": [
    "df.columns"
   ]
  },
  {
   "cell_type": "code",
   "execution_count": 107,
   "metadata": {},
   "outputs": [],
   "source": [
    "df2 = pd.DataFrame(columns=['website', 'relevant', 'text', 'references'])\n",
    "n = 0\n",
    "\n",
    "for index, row in df.iterrows():\n",
    "    # Make program wait in order to be respectful of Google\n",
    "    #   https://www.pythoncentral.io/pythons-time-sleep-pause-wait-sleep-stop-your-code/\n",
    "    \n",
    "    j = bible_verse.findall(row[2])\n",
    "    \n",
    "    df2.loc[n] = [row.website] + [row.relevant] + [row.text] + [j]\n",
    "    n+=1    "
   ]
  },
  {
   "cell_type": "code",
   "execution_count": 108,
   "metadata": {},
   "outputs": [
    {
     "data": {
      "text/html": [
       "<div>\n",
       "<style scoped>\n",
       "    .dataframe tbody tr th:only-of-type {\n",
       "        vertical-align: middle;\n",
       "    }\n",
       "\n",
       "    .dataframe tbody tr th {\n",
       "        vertical-align: top;\n",
       "    }\n",
       "\n",
       "    .dataframe thead th {\n",
       "        text-align: right;\n",
       "    }\n",
       "</style>\n",
       "<table border=\"1\" class=\"dataframe\">\n",
       "  <thead>\n",
       "    <tr style=\"text-align: right;\">\n",
       "      <th></th>\n",
       "      <th>website</th>\n",
       "      <th>relevant</th>\n",
       "      <th>text</th>\n",
       "      <th>references</th>\n",
       "    </tr>\n",
       "  </thead>\n",
       "  <tbody>\n",
       "    <tr>\n",
       "      <td>0</td>\n",
       "      <td>http://apologeticspress.org/apcontent.aspx?cat...</td>\n",
       "      <td>1.0</td>\n",
       "      <td>Almost fifty times in the Old Testament, we ca...</td>\n",
       "      <td>[Joshua 11:3]</td>\n",
       "    </tr>\n",
       "    <tr>\n",
       "      <td>1</td>\n",
       "      <td>http://apologeticspress.org/article/1217</td>\n",
       "      <td>1.0</td>\n",
       "      <td>The biblical accounts of the travels of Paul o...</td>\n",
       "      <td>[Acts 18:11, Acts 18:1, Acts 18:2, Corinthians...</td>\n",
       "    </tr>\n",
       "    <tr>\n",
       "      <td>2</td>\n",
       "      <td>http://apologeticspress.org/article/1347</td>\n",
       "      <td>1.0</td>\n",
       "      <td>A man wearing a leather vest and a broad-rimme...</td>\n",
       "      <td>[Chronicles 28:22, Chronicles 28:19, Chronicle...</td>\n",
       "    </tr>\n",
       "    <tr>\n",
       "      <td>3</td>\n",
       "      <td>http://apologeticspress.org/article/852</td>\n",
       "      <td>1.0</td>\n",
       "      <td>A favorite argument against the Bible’s inspir...</td>\n",
       "      <td>[Isaiah 20:1, Isaiah 20:1]</td>\n",
       "    </tr>\n",
       "    <tr>\n",
       "      <td>4</td>\n",
       "      <td>http://bible7evidence.blogspot.com/2014/09/abr...</td>\n",
       "      <td>1.0</td>\n",
       "      <td>Hello friends! The following is evidence of Ab...</td>\n",
       "      <td>[Nehemiah 9:7, Genesis 15:7, Nehemiah 9:7]</td>\n",
       "    </tr>\n",
       "    <tr>\n",
       "      <td>...</td>\n",
       "      <td>...</td>\n",
       "      <td>...</td>\n",
       "      <td>...</td>\n",
       "      <td>...</td>\n",
       "    </tr>\n",
       "    <tr>\n",
       "      <td>1522</td>\n",
       "      <td>https://www1.cbn.com/BibleArcheology/archive/2...</td>\n",
       "      <td>0.0</td>\n",
       "      <td>CBN is a global ministry committed to preparin...</td>\n",
       "      <td>[Psalms 42:1]</td>\n",
       "    </tr>\n",
       "    <tr>\n",
       "      <td>1523</td>\n",
       "      <td>https://www1.cbn.com/cbnnews/israel/2018/july/...</td>\n",
       "      <td>0.0</td>\n",
       "      <td>Watch Video United States Christian World News...</td>\n",
       "      <td>[]</td>\n",
       "    </tr>\n",
       "    <tr>\n",
       "      <td>1524</td>\n",
       "      <td>https://wyattmuseum.com/</td>\n",
       "      <td>0.0</td>\n",
       "      <td>Richard Rives (president of Wyatt Archaeologic...</td>\n",
       "      <td>[]</td>\n",
       "    </tr>\n",
       "    <tr>\n",
       "      <td>1525</td>\n",
       "      <td>https://wyattmuseum.com/rephidim-the-rock-at-h...</td>\n",
       "      <td>0.0</td>\n",
       "      <td>Behold, I will stand before thee there upon th...</td>\n",
       "      <td>[]</td>\n",
       "    </tr>\n",
       "    <tr>\n",
       "      <td>1526</td>\n",
       "      <td>https://yalebooks.yale.edu/book/9780300140576/...</td>\n",
       "      <td>0.0</td>\n",
       "      <td>Browse Subjects Art and Architecture Biography...</td>\n",
       "      <td>[]</td>\n",
       "    </tr>\n",
       "  </tbody>\n",
       "</table>\n",
       "<p>1527 rows × 4 columns</p>\n",
       "</div>"
      ],
      "text/plain": [
       "                                                website  relevant  \\\n",
       "0     http://apologeticspress.org/apcontent.aspx?cat...       1.0   \n",
       "1              http://apologeticspress.org/article/1217       1.0   \n",
       "2              http://apologeticspress.org/article/1347       1.0   \n",
       "3               http://apologeticspress.org/article/852       1.0   \n",
       "4     http://bible7evidence.blogspot.com/2014/09/abr...       1.0   \n",
       "...                                                 ...       ...   \n",
       "1522  https://www1.cbn.com/BibleArcheology/archive/2...       0.0   \n",
       "1523  https://www1.cbn.com/cbnnews/israel/2018/july/...       0.0   \n",
       "1524                           https://wyattmuseum.com/       0.0   \n",
       "1525  https://wyattmuseum.com/rephidim-the-rock-at-h...       0.0   \n",
       "1526  https://yalebooks.yale.edu/book/9780300140576/...       0.0   \n",
       "\n",
       "                                                   text  \\\n",
       "0     Almost fifty times in the Old Testament, we ca...   \n",
       "1     The biblical accounts of the travels of Paul o...   \n",
       "2     A man wearing a leather vest and a broad-rimme...   \n",
       "3     A favorite argument against the Bible’s inspir...   \n",
       "4     Hello friends! The following is evidence of Ab...   \n",
       "...                                                 ...   \n",
       "1522  CBN is a global ministry committed to preparin...   \n",
       "1523  Watch Video United States Christian World News...   \n",
       "1524  Richard Rives (president of Wyatt Archaeologic...   \n",
       "1525  Behold, I will stand before thee there upon th...   \n",
       "1526  Browse Subjects Art and Architecture Biography...   \n",
       "\n",
       "                                             references  \n",
       "0                                         [Joshua 11:3]  \n",
       "1     [Acts 18:11, Acts 18:1, Acts 18:2, Corinthians...  \n",
       "2     [Chronicles 28:22, Chronicles 28:19, Chronicle...  \n",
       "3                            [Isaiah 20:1, Isaiah 20:1]  \n",
       "4            [Nehemiah 9:7, Genesis 15:7, Nehemiah 9:7]  \n",
       "...                                                 ...  \n",
       "1522                                      [Psalms 42:1]  \n",
       "1523                                                 []  \n",
       "1524                                                 []  \n",
       "1525                                                 []  \n",
       "1526                                                 []  \n",
       "\n",
       "[1527 rows x 4 columns]"
      ]
     },
     "execution_count": 108,
     "metadata": {},
     "output_type": "execute_result"
    }
   ],
   "source": [
    "df2"
   ]
  },
  {
   "cell_type": "code",
   "execution_count": 109,
   "metadata": {},
   "outputs": [],
   "source": [
    "df2.to_pickle(\"C:/Bible Research/data/labeled text with bible references.pkl\")"
   ]
  }
 ],
 "metadata": {
  "kernelspec": {
   "display_name": "Python 3",
   "language": "python",
   "name": "python3"
  },
  "language_info": {
   "codemirror_mode": {
    "name": "ipython",
    "version": 3
   },
   "file_extension": ".py",
   "mimetype": "text/x-python",
   "name": "python",
   "nbconvert_exporter": "python",
   "pygments_lexer": "ipython3",
   "version": "3.7.4"
  }
 },
 "nbformat": 4,
 "nbformat_minor": 4
}
